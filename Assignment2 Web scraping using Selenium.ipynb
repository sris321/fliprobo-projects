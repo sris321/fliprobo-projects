{
 "cells": [
  {
   "cell_type": "code",
   "execution_count": null,
   "metadata": {},
   "outputs": [],
   "source": [
    "#!pip install selenium"
   ]
  },
  {
   "cell_type": "code",
   "execution_count": 2,
   "metadata": {},
   "outputs": [],
   "source": [
    "import pandas as pd\n",
    "import selenium\n",
    "from selenium import webdriver\n",
    "import time\n",
    "from selenium.common.exceptions import NoSuchElementException"
   ]
  },
  {
   "cell_type": "markdown",
   "metadata": {},
   "source": [
    "### Ques 1. Write a python program to scrape data for “Data Analyst” Job position in “Bangalore” location. You    have to scrape the job-title, job-location, company_names,experience_required. You have to scrape first 10 jobs data."
   ]
  },
  {
   "cell_type": "code",
   "execution_count": 2,
   "metadata": {},
   "outputs": [],
   "source": [
    "driver=webdriver.Chrome('chromedriver.exe')"
   ]
  },
  {
   "cell_type": "code",
   "execution_count": 3,
   "metadata": {},
   "outputs": [],
   "source": [
    "url='https://www.naukri.com/'\n",
    "driver.get(url)"
   ]
  },
  {
   "cell_type": "code",
   "execution_count": 4,
   "metadata": {},
   "outputs": [
    {
     "data": {
      "text/plain": [
       "<selenium.webdriver.remote.webelement.WebElement (session=\"d3a63ed7fabf51f94114a6f48520435f\", element=\"54ffe4e3-cfb0-4f6d-9bea-0170106fe59c\")>"
      ]
     },
     "execution_count": 4,
     "metadata": {},
     "output_type": "execute_result"
    }
   ],
   "source": [
    "search_job=driver.find_element_by_id(\"qsb-keyword-sugg\")\n",
    "search_job"
   ]
  },
  {
   "cell_type": "code",
   "execution_count": 5,
   "metadata": {},
   "outputs": [],
   "source": [
    "search_job.send_keys('Data Analyst')"
   ]
  },
  {
   "cell_type": "code",
   "execution_count": 6,
   "metadata": {},
   "outputs": [
    {
     "data": {
      "text/plain": [
       "<selenium.webdriver.remote.webelement.WebElement (session=\"d3a63ed7fabf51f94114a6f48520435f\", element=\"f2703868-60db-46ff-a547-91ff1798d955\")>"
      ]
     },
     "execution_count": 6,
     "metadata": {},
     "output_type": "execute_result"
    }
   ],
   "source": [
    "search_loc=driver.find_element_by_id(\"qsb-location-sugg\")\n",
    "search_loc"
   ]
  },
  {
   "cell_type": "code",
   "execution_count": 7,
   "metadata": {},
   "outputs": [],
   "source": [
    "search_loc.send_keys('Bangalore')"
   ]
  },
  {
   "cell_type": "code",
   "execution_count": 8,
   "metadata": {},
   "outputs": [],
   "source": [
    "search_btn=driver.find_element_by_xpath('//button[@class=\"btn\"]')\n",
    "search_btn.click()"
   ]
  },
  {
   "cell_type": "code",
   "execution_count": 9,
   "metadata": {},
   "outputs": [
    {
     "data": {
      "text/plain": [
       "[<selenium.webdriver.remote.webelement.WebElement (session=\"d3a63ed7fabf51f94114a6f48520435f\", element=\"8b5c6e45-b671-4adc-b3dd-a930c5eb1fc8\")>,\n",
       " <selenium.webdriver.remote.webelement.WebElement (session=\"d3a63ed7fabf51f94114a6f48520435f\", element=\"099181e3-6381-47af-8c8a-d7587ea79189\")>,\n",
       " <selenium.webdriver.remote.webelement.WebElement (session=\"d3a63ed7fabf51f94114a6f48520435f\", element=\"e16ad7f3-1308-4607-ba72-3506459c6055\")>,\n",
       " <selenium.webdriver.remote.webelement.WebElement (session=\"d3a63ed7fabf51f94114a6f48520435f\", element=\"b217781c-0104-4185-93fa-22e1c6cdb16f\")>,\n",
       " <selenium.webdriver.remote.webelement.WebElement (session=\"d3a63ed7fabf51f94114a6f48520435f\", element=\"512337e2-994e-4a36-b041-2f1ace2af06f\")>,\n",
       " <selenium.webdriver.remote.webelement.WebElement (session=\"d3a63ed7fabf51f94114a6f48520435f\", element=\"a4587fa7-42b8-43f4-b75b-f35ad8fe41ff\")>,\n",
       " <selenium.webdriver.remote.webelement.WebElement (session=\"d3a63ed7fabf51f94114a6f48520435f\", element=\"140fad41-bb35-4227-9143-7cfcb46106d0\")>,\n",
       " <selenium.webdriver.remote.webelement.WebElement (session=\"d3a63ed7fabf51f94114a6f48520435f\", element=\"a5153b3f-3b14-4f07-9f4a-be3a80c06260\")>,\n",
       " <selenium.webdriver.remote.webelement.WebElement (session=\"d3a63ed7fabf51f94114a6f48520435f\", element=\"ea10b7cc-d6f3-41ec-9256-23e905ef2743\")>,\n",
       " <selenium.webdriver.remote.webelement.WebElement (session=\"d3a63ed7fabf51f94114a6f48520435f\", element=\"31b3dd68-6797-463e-b5c6-75f5e071c89a\")>,\n",
       " <selenium.webdriver.remote.webelement.WebElement (session=\"d3a63ed7fabf51f94114a6f48520435f\", element=\"73fe751a-2311-4652-90d0-f59def318170\")>,\n",
       " <selenium.webdriver.remote.webelement.WebElement (session=\"d3a63ed7fabf51f94114a6f48520435f\", element=\"8647721b-09cb-4fcf-ad03-30e16b93a59a\")>,\n",
       " <selenium.webdriver.remote.webelement.WebElement (session=\"d3a63ed7fabf51f94114a6f48520435f\", element=\"41f54f7a-7983-4b8a-808d-044a4a183e5c\")>,\n",
       " <selenium.webdriver.remote.webelement.WebElement (session=\"d3a63ed7fabf51f94114a6f48520435f\", element=\"53806de1-f89f-4fe5-8b75-5cc0fb1ce83d\")>,\n",
       " <selenium.webdriver.remote.webelement.WebElement (session=\"d3a63ed7fabf51f94114a6f48520435f\", element=\"b1f8d26a-14e1-4376-b45e-16559899c8dc\")>,\n",
       " <selenium.webdriver.remote.webelement.WebElement (session=\"d3a63ed7fabf51f94114a6f48520435f\", element=\"da275839-dd24-4be8-883e-0f4b056b9101\")>,\n",
       " <selenium.webdriver.remote.webelement.WebElement (session=\"d3a63ed7fabf51f94114a6f48520435f\", element=\"38a22c0c-45af-4164-9f45-d1c5d4e92fbe\")>,\n",
       " <selenium.webdriver.remote.webelement.WebElement (session=\"d3a63ed7fabf51f94114a6f48520435f\", element=\"4f89daf0-262d-4e5c-8007-b81216bfe128\")>,\n",
       " <selenium.webdriver.remote.webelement.WebElement (session=\"d3a63ed7fabf51f94114a6f48520435f\", element=\"52c6113d-f3f8-476d-8265-8779f8346339\")>,\n",
       " <selenium.webdriver.remote.webelement.WebElement (session=\"d3a63ed7fabf51f94114a6f48520435f\", element=\"9ee9caf1-7b5b-4105-be10-ce283af61cea\")>]"
      ]
     },
     "execution_count": 9,
     "metadata": {},
     "output_type": "execute_result"
    }
   ],
   "source": [
    "title_tags=driver.find_elements_by_xpath('//a[@class=\"title fw500 ellipsis\"]')\n",
    "title_tags"
   ]
  },
  {
   "cell_type": "code",
   "execution_count": 13,
   "metadata": {},
   "outputs": [
    {
     "data": {
      "text/plain": [
       "['Data Scientist / Data Analyst -Business Analyst',\n",
       " 'Associate Systems and Data Analyst',\n",
       " 'Data analysts',\n",
       " 'Data analysts',\n",
       " 'Data Analyst - Category Demand Management (Revenue & Growth)',\n",
       " 'Job Opportunity For Talent Data Analyst - Cornerstone OnDemand',\n",
       " 'Consultant-Data Analyst -Bangalore',\n",
       " 'Data Analyst',\n",
       " 'Data Analyst (Contractual)',\n",
       " 'Data Analyst']"
      ]
     },
     "execution_count": 13,
     "metadata": {},
     "output_type": "execute_result"
    }
   ],
   "source": [
    "job_titles=[]\n",
    "for i in title_tags:\n",
    "    job_titles.append(i.text)\n",
    "job_titles[:10]"
   ]
  },
  {
   "cell_type": "code",
   "execution_count": 15,
   "metadata": {},
   "outputs": [
    {
     "data": {
      "text/plain": [
       "[<selenium.webdriver.remote.webelement.WebElement (session=\"d3a63ed7fabf51f94114a6f48520435f\", element=\"70f1ac2d-faf6-42f1-bfdf-7c4284f2450c\")>,\n",
       " <selenium.webdriver.remote.webelement.WebElement (session=\"d3a63ed7fabf51f94114a6f48520435f\", element=\"ddf93a0a-e02a-4304-81da-6ed7bfaf0053\")>,\n",
       " <selenium.webdriver.remote.webelement.WebElement (session=\"d3a63ed7fabf51f94114a6f48520435f\", element=\"90009c76-6a70-48c8-a82d-a935b9560ed8\")>,\n",
       " <selenium.webdriver.remote.webelement.WebElement (session=\"d3a63ed7fabf51f94114a6f48520435f\", element=\"654eb746-c974-431b-8a39-14025c13d966\")>,\n",
       " <selenium.webdriver.remote.webelement.WebElement (session=\"d3a63ed7fabf51f94114a6f48520435f\", element=\"bf3c2506-2e82-40ec-bc31-d4089e3c6263\")>,\n",
       " <selenium.webdriver.remote.webelement.WebElement (session=\"d3a63ed7fabf51f94114a6f48520435f\", element=\"b36a5991-21e3-469f-babc-910127b8829a\")>,\n",
       " <selenium.webdriver.remote.webelement.WebElement (session=\"d3a63ed7fabf51f94114a6f48520435f\", element=\"7a04267b-606b-4cb2-897c-934f1b16ea07\")>,\n",
       " <selenium.webdriver.remote.webelement.WebElement (session=\"d3a63ed7fabf51f94114a6f48520435f\", element=\"03efc363-98e8-4336-a6bb-25f87ec229c1\")>,\n",
       " <selenium.webdriver.remote.webelement.WebElement (session=\"d3a63ed7fabf51f94114a6f48520435f\", element=\"54a44768-4001-48a4-bdf9-6dc698be889b\")>,\n",
       " <selenium.webdriver.remote.webelement.WebElement (session=\"d3a63ed7fabf51f94114a6f48520435f\", element=\"72b25e40-11f6-4c81-a84d-b1725d179126\")>,\n",
       " <selenium.webdriver.remote.webelement.WebElement (session=\"d3a63ed7fabf51f94114a6f48520435f\", element=\"8b96f4d9-3bf4-4b0c-ac0b-1f77f9a81fa5\")>,\n",
       " <selenium.webdriver.remote.webelement.WebElement (session=\"d3a63ed7fabf51f94114a6f48520435f\", element=\"b3d9a58d-92f7-472f-bb89-4ce1adf08fd0\")>,\n",
       " <selenium.webdriver.remote.webelement.WebElement (session=\"d3a63ed7fabf51f94114a6f48520435f\", element=\"8fbdd257-b461-4e5d-a936-e053442181b1\")>,\n",
       " <selenium.webdriver.remote.webelement.WebElement (session=\"d3a63ed7fabf51f94114a6f48520435f\", element=\"290480e6-f679-41ae-bbb5-eb15d7bf5726\")>,\n",
       " <selenium.webdriver.remote.webelement.WebElement (session=\"d3a63ed7fabf51f94114a6f48520435f\", element=\"6883ab26-1e81-47c8-b492-ddd92941c895\")>,\n",
       " <selenium.webdriver.remote.webelement.WebElement (session=\"d3a63ed7fabf51f94114a6f48520435f\", element=\"8d8ce4cc-c154-4b4d-a57a-4664d961e288\")>,\n",
       " <selenium.webdriver.remote.webelement.WebElement (session=\"d3a63ed7fabf51f94114a6f48520435f\", element=\"54c97c4f-feeb-4484-887f-6960cdce6ae9\")>,\n",
       " <selenium.webdriver.remote.webelement.WebElement (session=\"d3a63ed7fabf51f94114a6f48520435f\", element=\"0d2f7751-c737-4620-8460-5657b3f4cbe4\")>,\n",
       " <selenium.webdriver.remote.webelement.WebElement (session=\"d3a63ed7fabf51f94114a6f48520435f\", element=\"4d0f4940-fea8-4daa-8df9-36903a056418\")>,\n",
       " <selenium.webdriver.remote.webelement.WebElement (session=\"d3a63ed7fabf51f94114a6f48520435f\", element=\"1dd4c9ed-bf88-4e53-b3b6-b3c8d437838d\")>]"
      ]
     },
     "execution_count": 15,
     "metadata": {},
     "output_type": "execute_result"
    }
   ],
   "source": [
    "location_tags=driver.find_elements_by_xpath(\"//li[@class='fleft grey-text br2 placeHolderLi location']\")\n",
    "location_tags"
   ]
  },
  {
   "cell_type": "code",
   "execution_count": 16,
   "metadata": {},
   "outputs": [
    {
     "data": {
      "text/plain": [
       "['Mumbai, Hyderabad/Secunderabad, Pune, Gurgaon/Gurugram, Chennai, Bangalore/Bengaluru',\n",
       " 'Bangalore/Bengaluru',\n",
       " 'Bengaluru/Bangalore',\n",
       " 'Bangalore/Bengaluru',\n",
       " 'Bangalore/Bengaluru',\n",
       " 'Kolkata, Pune, Chennai, Bangalore/Bengaluru, Delhi / NCR, Mumbai (All Areas)',\n",
       " 'Bangalore/Bengaluru',\n",
       " 'Bangalore/Bengaluru(Ulsoor)',\n",
       " 'Bangalore/Bengaluru(Bellandur)',\n",
       " 'Bangalore/Bengaluru']"
      ]
     },
     "execution_count": 16,
     "metadata": {},
     "output_type": "execute_result"
    }
   ],
   "source": [
    "job_locs=[]\n",
    "for i in location_tags:\n",
    "    job_locs.append(i.text)\n",
    "job_locs[:10]"
   ]
  },
  {
   "cell_type": "code",
   "execution_count": 17,
   "metadata": {},
   "outputs": [
    {
     "data": {
      "text/plain": [
       "[<selenium.webdriver.remote.webelement.WebElement (session=\"d3a63ed7fabf51f94114a6f48520435f\", element=\"48838be8-22e0-42b2-b116-2a3e52f24037\")>,\n",
       " <selenium.webdriver.remote.webelement.WebElement (session=\"d3a63ed7fabf51f94114a6f48520435f\", element=\"a31711f7-b0ba-469b-a9ff-6b0ac77d6a86\")>,\n",
       " <selenium.webdriver.remote.webelement.WebElement (session=\"d3a63ed7fabf51f94114a6f48520435f\", element=\"08cda88f-8a84-4e97-a93b-d877de9b2e02\")>,\n",
       " <selenium.webdriver.remote.webelement.WebElement (session=\"d3a63ed7fabf51f94114a6f48520435f\", element=\"4aaf265d-23ee-469f-9781-cdda11810725\")>,\n",
       " <selenium.webdriver.remote.webelement.WebElement (session=\"d3a63ed7fabf51f94114a6f48520435f\", element=\"14b55696-3d51-4555-a691-6140e072a484\")>,\n",
       " <selenium.webdriver.remote.webelement.WebElement (session=\"d3a63ed7fabf51f94114a6f48520435f\", element=\"0ed759c0-2ed6-4ab7-ab95-d798ffd7c01d\")>,\n",
       " <selenium.webdriver.remote.webelement.WebElement (session=\"d3a63ed7fabf51f94114a6f48520435f\", element=\"4d0d788a-31f0-462b-b389-f5caafe7a070\")>,\n",
       " <selenium.webdriver.remote.webelement.WebElement (session=\"d3a63ed7fabf51f94114a6f48520435f\", element=\"3dda1d81-9943-4c68-b290-0e34298102c2\")>,\n",
       " <selenium.webdriver.remote.webelement.WebElement (session=\"d3a63ed7fabf51f94114a6f48520435f\", element=\"abbce658-b56c-46df-b346-5ab951d573f3\")>,\n",
       " <selenium.webdriver.remote.webelement.WebElement (session=\"d3a63ed7fabf51f94114a6f48520435f\", element=\"e0d85dc4-247c-4d3f-9b32-d6507c5faac2\")>,\n",
       " <selenium.webdriver.remote.webelement.WebElement (session=\"d3a63ed7fabf51f94114a6f48520435f\", element=\"9d569771-4faa-409f-926e-5bc49fbb4df2\")>,\n",
       " <selenium.webdriver.remote.webelement.WebElement (session=\"d3a63ed7fabf51f94114a6f48520435f\", element=\"ff26ef97-8e9f-4141-a572-9c228976d392\")>,\n",
       " <selenium.webdriver.remote.webelement.WebElement (session=\"d3a63ed7fabf51f94114a6f48520435f\", element=\"861af172-2752-48e5-9066-1467986fdce1\")>,\n",
       " <selenium.webdriver.remote.webelement.WebElement (session=\"d3a63ed7fabf51f94114a6f48520435f\", element=\"9659f6bb-ce06-4c26-bd84-a50fcca17cb4\")>,\n",
       " <selenium.webdriver.remote.webelement.WebElement (session=\"d3a63ed7fabf51f94114a6f48520435f\", element=\"9a65cbf3-3c06-41e1-9204-6dac89ef1dcc\")>,\n",
       " <selenium.webdriver.remote.webelement.WebElement (session=\"d3a63ed7fabf51f94114a6f48520435f\", element=\"51a41d31-f8fd-4e84-8345-5cec61a17820\")>,\n",
       " <selenium.webdriver.remote.webelement.WebElement (session=\"d3a63ed7fabf51f94114a6f48520435f\", element=\"a096ea1b-993f-4cee-b85c-032458d2d962\")>,\n",
       " <selenium.webdriver.remote.webelement.WebElement (session=\"d3a63ed7fabf51f94114a6f48520435f\", element=\"26e8e90e-d357-4f73-8e78-6d1decd99bd1\")>,\n",
       " <selenium.webdriver.remote.webelement.WebElement (session=\"d3a63ed7fabf51f94114a6f48520435f\", element=\"dcecc0cd-b89a-47ef-a330-7e8cfd179824\")>,\n",
       " <selenium.webdriver.remote.webelement.WebElement (session=\"d3a63ed7fabf51f94114a6f48520435f\", element=\"89912374-e0f8-45a1-b705-cd0bf79f8610\")>]"
      ]
     },
     "execution_count": 17,
     "metadata": {},
     "output_type": "execute_result"
    }
   ],
   "source": [
    "company_tags=driver.find_elements_by_xpath(\"//a[@class='subTitle ellipsis fleft']\")\n",
    "company_tags"
   ]
  },
  {
   "cell_type": "code",
   "execution_count": 18,
   "metadata": {},
   "outputs": [
    {
     "data": {
      "text/plain": [
       "['Inflexion Analytix Private Limited',\n",
       " 'Boeing',\n",
       " 'IBM India Pvt. Limited',\n",
       " 'IBM India Pvt. Limited',\n",
       " 'Myntra Designs Pvt. Ltd.',\n",
       " 'Cornerstone OnDemand Services India Pvt Ltd',\n",
       " 'Innovsource Services Private Limited',\n",
       " 'WEIWO Communication Pvt. Ltd.',\n",
       " 'Flipkart Internet Private Limited',\n",
       " 'IBM India Pvt. Limited']"
      ]
     },
     "execution_count": 18,
     "metadata": {},
     "output_type": "execute_result"
    }
   ],
   "source": [
    "company_names=[]\n",
    "for i in company_tags:\n",
    "    company_names.append(i.text)\n",
    "company_names[:10]"
   ]
  },
  {
   "cell_type": "code",
   "execution_count": 19,
   "metadata": {},
   "outputs": [
    {
     "data": {
      "text/plain": [
       "[<selenium.webdriver.remote.webelement.WebElement (session=\"d3a63ed7fabf51f94114a6f48520435f\", element=\"7bbf6bc6-b706-4348-b0d5-c21c864bba10\")>,\n",
       " <selenium.webdriver.remote.webelement.WebElement (session=\"d3a63ed7fabf51f94114a6f48520435f\", element=\"b96336f0-fc1a-4398-8d9e-9a062f575bae\")>,\n",
       " <selenium.webdriver.remote.webelement.WebElement (session=\"d3a63ed7fabf51f94114a6f48520435f\", element=\"7b10e3b2-0431-4f0c-bd63-b3090511cf21\")>,\n",
       " <selenium.webdriver.remote.webelement.WebElement (session=\"d3a63ed7fabf51f94114a6f48520435f\", element=\"6a9e5623-bcc0-4c80-83c2-9101d05f0408\")>,\n",
       " <selenium.webdriver.remote.webelement.WebElement (session=\"d3a63ed7fabf51f94114a6f48520435f\", element=\"1e5f6289-a294-4888-af78-901c8d44674f\")>,\n",
       " <selenium.webdriver.remote.webelement.WebElement (session=\"d3a63ed7fabf51f94114a6f48520435f\", element=\"8ef33d39-2c0b-41a5-a892-9e1181f3ac9b\")>,\n",
       " <selenium.webdriver.remote.webelement.WebElement (session=\"d3a63ed7fabf51f94114a6f48520435f\", element=\"e7af39c5-3927-4001-8fe8-e1cc3e440160\")>,\n",
       " <selenium.webdriver.remote.webelement.WebElement (session=\"d3a63ed7fabf51f94114a6f48520435f\", element=\"65125a62-6fff-4323-bf78-6233f48f6f72\")>,\n",
       " <selenium.webdriver.remote.webelement.WebElement (session=\"d3a63ed7fabf51f94114a6f48520435f\", element=\"fe934221-33a8-45dd-8966-48126b8ac2ab\")>,\n",
       " <selenium.webdriver.remote.webelement.WebElement (session=\"d3a63ed7fabf51f94114a6f48520435f\", element=\"19e2cf27-41e6-43ed-b80a-35df8fd4205a\")>,\n",
       " <selenium.webdriver.remote.webelement.WebElement (session=\"d3a63ed7fabf51f94114a6f48520435f\", element=\"90331efc-5f08-4fcd-b997-753d4445ad77\")>,\n",
       " <selenium.webdriver.remote.webelement.WebElement (session=\"d3a63ed7fabf51f94114a6f48520435f\", element=\"4bdfb2cb-b72e-4c48-b6e1-76085eb12371\")>,\n",
       " <selenium.webdriver.remote.webelement.WebElement (session=\"d3a63ed7fabf51f94114a6f48520435f\", element=\"25d97c40-eec6-439d-ac6f-1f5ba2c58724\")>,\n",
       " <selenium.webdriver.remote.webelement.WebElement (session=\"d3a63ed7fabf51f94114a6f48520435f\", element=\"29ad073e-b8eb-446f-8cc7-40b52da83c3e\")>,\n",
       " <selenium.webdriver.remote.webelement.WebElement (session=\"d3a63ed7fabf51f94114a6f48520435f\", element=\"f56dedce-8127-40e8-be7d-ef2d923cbeb3\")>,\n",
       " <selenium.webdriver.remote.webelement.WebElement (session=\"d3a63ed7fabf51f94114a6f48520435f\", element=\"87ccddcc-1d5b-4c19-ac6d-bef57748134c\")>,\n",
       " <selenium.webdriver.remote.webelement.WebElement (session=\"d3a63ed7fabf51f94114a6f48520435f\", element=\"42562b7c-d846-488b-a4f0-2e610a091770\")>,\n",
       " <selenium.webdriver.remote.webelement.WebElement (session=\"d3a63ed7fabf51f94114a6f48520435f\", element=\"a37d85ee-7eb0-4bb3-8718-dd6b63fd3f56\")>,\n",
       " <selenium.webdriver.remote.webelement.WebElement (session=\"d3a63ed7fabf51f94114a6f48520435f\", element=\"cada1dbc-8ced-4c50-8b36-8e689ecaaf78\")>,\n",
       " <selenium.webdriver.remote.webelement.WebElement (session=\"d3a63ed7fabf51f94114a6f48520435f\", element=\"d8f858fb-b088-4b84-a583-ccbfb5c5210d\")>]"
      ]
     },
     "execution_count": 19,
     "metadata": {},
     "output_type": "execute_result"
    }
   ],
   "source": [
    "experience_tags=driver.find_elements_by_xpath(\"//li[@class='fleft grey-text br2 placeHolderLi experience']\")\n",
    "experience_tags"
   ]
  },
  {
   "cell_type": "code",
   "execution_count": 20,
   "metadata": {},
   "outputs": [
    {
     "data": {
      "text/plain": [
       "['0-3 Yrs',\n",
       " '0-4 Yrs',\n",
       " '5-6 Yrs',\n",
       " '3-5 Yrs',\n",
       " '1-4 Yrs',\n",
       " '3-5 Yrs',\n",
       " '2-7 Yrs',\n",
       " '5-8 Yrs',\n",
       " '1-4 Yrs',\n",
       " '3-7 Yrs']"
      ]
     },
     "execution_count": 20,
     "metadata": {},
     "output_type": "execute_result"
    }
   ],
   "source": [
    "experience_req=[]\n",
    "for i in experience_tags:\n",
    "    experience_req.append(i.text)\n",
    "experience_req[:10]"
   ]
  },
  {
   "cell_type": "code",
   "execution_count": 22,
   "metadata": {},
   "outputs": [
    {
     "data": {
      "text/html": [
       "<div>\n",
       "<style scoped>\n",
       "    .dataframe tbody tr th:only-of-type {\n",
       "        vertical-align: middle;\n",
       "    }\n",
       "\n",
       "    .dataframe tbody tr th {\n",
       "        vertical-align: top;\n",
       "    }\n",
       "\n",
       "    .dataframe thead th {\n",
       "        text-align: right;\n",
       "    }\n",
       "</style>\n",
       "<table border=\"1\" class=\"dataframe\">\n",
       "  <thead>\n",
       "    <tr style=\"text-align: right;\">\n",
       "      <th></th>\n",
       "      <th>Job_Titles</th>\n",
       "      <th>Job_Location</th>\n",
       "      <th>Company_Names</th>\n",
       "      <th>Experience_req</th>\n",
       "    </tr>\n",
       "  </thead>\n",
       "  <tbody>\n",
       "    <tr>\n",
       "      <th>0</th>\n",
       "      <td>Data Scientist / Data Analyst -Business Analyst</td>\n",
       "      <td>Mumbai, Hyderabad/Secunderabad, Pune, Gurgaon/...</td>\n",
       "      <td>Inflexion Analytix Private Limited</td>\n",
       "      <td>0-3 Yrs</td>\n",
       "    </tr>\n",
       "    <tr>\n",
       "      <th>1</th>\n",
       "      <td>Associate Systems and Data Analyst</td>\n",
       "      <td>Bangalore/Bengaluru</td>\n",
       "      <td>Boeing</td>\n",
       "      <td>0-4 Yrs</td>\n",
       "    </tr>\n",
       "    <tr>\n",
       "      <th>2</th>\n",
       "      <td>Data analysts</td>\n",
       "      <td>Bengaluru/Bangalore</td>\n",
       "      <td>IBM India Pvt. Limited</td>\n",
       "      <td>5-6 Yrs</td>\n",
       "    </tr>\n",
       "    <tr>\n",
       "      <th>3</th>\n",
       "      <td>Data analysts</td>\n",
       "      <td>Bangalore/Bengaluru</td>\n",
       "      <td>IBM India Pvt. Limited</td>\n",
       "      <td>3-5 Yrs</td>\n",
       "    </tr>\n",
       "    <tr>\n",
       "      <th>4</th>\n",
       "      <td>Data Analyst - Category Demand Management (Rev...</td>\n",
       "      <td>Bangalore/Bengaluru</td>\n",
       "      <td>Myntra Designs Pvt. Ltd.</td>\n",
       "      <td>1-4 Yrs</td>\n",
       "    </tr>\n",
       "    <tr>\n",
       "      <th>5</th>\n",
       "      <td>Job Opportunity For Talent Data Analyst - Corn...</td>\n",
       "      <td>Kolkata, Pune, Chennai, Bangalore/Bengaluru, D...</td>\n",
       "      <td>Cornerstone OnDemand Services India Pvt Ltd</td>\n",
       "      <td>3-5 Yrs</td>\n",
       "    </tr>\n",
       "    <tr>\n",
       "      <th>6</th>\n",
       "      <td>Consultant-Data Analyst -Bangalore</td>\n",
       "      <td>Bangalore/Bengaluru</td>\n",
       "      <td>Innovsource Services Private Limited</td>\n",
       "      <td>2-7 Yrs</td>\n",
       "    </tr>\n",
       "    <tr>\n",
       "      <th>7</th>\n",
       "      <td>Data Analyst</td>\n",
       "      <td>Bangalore/Bengaluru(Ulsoor)</td>\n",
       "      <td>WEIWO Communication Pvt. Ltd.</td>\n",
       "      <td>5-8 Yrs</td>\n",
       "    </tr>\n",
       "    <tr>\n",
       "      <th>8</th>\n",
       "      <td>Data Analyst (Contractual)</td>\n",
       "      <td>Bangalore/Bengaluru(Bellandur)</td>\n",
       "      <td>Flipkart Internet Private Limited</td>\n",
       "      <td>1-4 Yrs</td>\n",
       "    </tr>\n",
       "    <tr>\n",
       "      <th>9</th>\n",
       "      <td>Data Analyst</td>\n",
       "      <td>Bangalore/Bengaluru</td>\n",
       "      <td>IBM India Pvt. Limited</td>\n",
       "      <td>3-7 Yrs</td>\n",
       "    </tr>\n",
       "  </tbody>\n",
       "</table>\n",
       "</div>"
      ],
      "text/plain": [
       "                                          Job_Titles  \\\n",
       "0    Data Scientist / Data Analyst -Business Analyst   \n",
       "1                 Associate Systems and Data Analyst   \n",
       "2                                      Data analysts   \n",
       "3                                      Data analysts   \n",
       "4  Data Analyst - Category Demand Management (Rev...   \n",
       "5  Job Opportunity For Talent Data Analyst - Corn...   \n",
       "6                 Consultant-Data Analyst -Bangalore   \n",
       "7                                       Data Analyst   \n",
       "8                         Data Analyst (Contractual)   \n",
       "9                                       Data Analyst   \n",
       "\n",
       "                                        Job_Location  \\\n",
       "0  Mumbai, Hyderabad/Secunderabad, Pune, Gurgaon/...   \n",
       "1                                Bangalore/Bengaluru   \n",
       "2                                Bengaluru/Bangalore   \n",
       "3                                Bangalore/Bengaluru   \n",
       "4                                Bangalore/Bengaluru   \n",
       "5  Kolkata, Pune, Chennai, Bangalore/Bengaluru, D...   \n",
       "6                                Bangalore/Bengaluru   \n",
       "7                        Bangalore/Bengaluru(Ulsoor)   \n",
       "8                     Bangalore/Bengaluru(Bellandur)   \n",
       "9                                Bangalore/Bengaluru   \n",
       "\n",
       "                                 Company_Names Experience_req  \n",
       "0           Inflexion Analytix Private Limited        0-3 Yrs  \n",
       "1                                       Boeing        0-4 Yrs  \n",
       "2                       IBM India Pvt. Limited        5-6 Yrs  \n",
       "3                       IBM India Pvt. Limited        3-5 Yrs  \n",
       "4                     Myntra Designs Pvt. Ltd.        1-4 Yrs  \n",
       "5  Cornerstone OnDemand Services India Pvt Ltd        3-5 Yrs  \n",
       "6         Innovsource Services Private Limited        2-7 Yrs  \n",
       "7                WEIWO Communication Pvt. Ltd.        5-8 Yrs  \n",
       "8            Flipkart Internet Private Limited        1-4 Yrs  \n",
       "9                       IBM India Pvt. Limited        3-7 Yrs  "
      ]
     },
     "execution_count": 22,
     "metadata": {},
     "output_type": "execute_result"
    }
   ],
   "source": [
    "jobs=pd.DataFrame({})\n",
    "jobs['Job_Titles']=job_titles[:10]\n",
    "jobs['Job_Location']=job_locs[:10]\n",
    "jobs['Company_Names']=company_names[:10]\n",
    "jobs['Experience_req']=experience_req[:10]\n",
    "\n",
    "jobs"
   ]
  },
  {
   "cell_type": "markdown",
   "metadata": {},
   "source": [
    "### Ques 2. Write a python program to scrape data for “Data Scientist” Job position in “Bangalore” location. You                        have to scrape the job-title, job-location,company_name,full job-description. You have to scrape first                        10 jobs data."
   ]
  },
  {
   "cell_type": "code",
   "execution_count": 23,
   "metadata": {},
   "outputs": [],
   "source": [
    "driver=webdriver.Chrome('chromedriver.exe')"
   ]
  },
  {
   "cell_type": "code",
   "execution_count": 24,
   "metadata": {},
   "outputs": [],
   "source": [
    "driver.get('https://www.naukri.com/')"
   ]
  },
  {
   "cell_type": "code",
   "execution_count": 25,
   "metadata": {},
   "outputs": [
    {
     "data": {
      "text/plain": [
       "<selenium.webdriver.remote.webelement.WebElement (session=\"0df7827ee6f1059d7d5dec2231192ad9\", element=\"d47e5638-ca92-4b78-9174-a646db7567cc\")>"
      ]
     },
     "execution_count": 25,
     "metadata": {},
     "output_type": "execute_result"
    }
   ],
   "source": [
    "search_job=driver.find_element_by_id(\"qsb-keyword-sugg\")\n",
    "search_job"
   ]
  },
  {
   "cell_type": "code",
   "execution_count": 26,
   "metadata": {},
   "outputs": [],
   "source": [
    "search_job.send_keys('Data Scientist')"
   ]
  },
  {
   "cell_type": "code",
   "execution_count": 27,
   "metadata": {},
   "outputs": [
    {
     "data": {
      "text/plain": [
       "<selenium.webdriver.remote.webelement.WebElement (session=\"0df7827ee6f1059d7d5dec2231192ad9\", element=\"d4c463ad-c090-49ac-baee-f632b767b6eb\")>"
      ]
     },
     "execution_count": 27,
     "metadata": {},
     "output_type": "execute_result"
    }
   ],
   "source": [
    "search_loc=driver.find_element_by_id(\"qsb-location-sugg\")\n",
    "search_loc"
   ]
  },
  {
   "cell_type": "code",
   "execution_count": 28,
   "metadata": {},
   "outputs": [],
   "source": [
    "search_loc.send_keys('Bangalore')"
   ]
  },
  {
   "cell_type": "code",
   "execution_count": 29,
   "metadata": {},
   "outputs": [],
   "source": [
    "search_btn=driver.find_element_by_xpath('//button[@class=\"btn\"]')\n",
    "search_btn.click()"
   ]
  },
  {
   "cell_type": "code",
   "execution_count": 30,
   "metadata": {},
   "outputs": [
    {
     "data": {
      "text/plain": [
       "['Data Scientist',\n",
       " 'Data Scientist - Python/ SQL',\n",
       " 'Data Scientist',\n",
       " 'Data Scientist - Machine Learning',\n",
       " 'Data Scientist - Python/r',\n",
       " 'Data Scientist',\n",
       " 'Data Scientist',\n",
       " 'Data scientist - Bangalore - only IITand IIM',\n",
       " 'Data Scientist - Optimus ( RL/ DL)',\n",
       " 'Data Scientist']"
      ]
     },
     "execution_count": 30,
     "metadata": {},
     "output_type": "execute_result"
    }
   ],
   "source": [
    "job_titles=[]\n",
    "title_tags=driver.find_elements_by_xpath(\"//a[@class='title fw500 ellipsis']\")\n",
    "for i in title_tags:\n",
    "    job_titles.append(i.text)\n",
    "job_titles[:10]"
   ]
  },
  {
   "cell_type": "code",
   "execution_count": 31,
   "metadata": {},
   "outputs": [
    {
     "data": {
      "text/plain": [
       "['Bion',\n",
       " 'Catalyst',\n",
       " 'Catalyst',\n",
       " 'Catalyst',\n",
       " 'Catalyst',\n",
       " 'Talent Corner HR Services Pvt Ltd',\n",
       " 'COUTURE AI PRIVATE LIMITED',\n",
       " 'Industrial Personnel Network',\n",
       " 'Bert Labs',\n",
       " 'Simplify360']"
      ]
     },
     "execution_count": 31,
     "metadata": {},
     "output_type": "execute_result"
    }
   ],
   "source": [
    "company_nm=[]\n",
    "company_tags=driver.find_elements_by_xpath(\"//a[@class='subTitle ellipsis fleft']\")\n",
    "for i in company_tags:\n",
    "    company_nm.append(i.text)\n",
    "company_nm[:10]"
   ]
  },
  {
   "cell_type": "code",
   "execution_count": 32,
   "metadata": {},
   "outputs": [
    {
     "data": {
      "text/plain": [
       "['Bangalore/Bengaluru',\n",
       " 'Bangalore/Bengaluru',\n",
       " 'Bangalore/Bengaluru',\n",
       " 'Bangalore/Bengaluru',\n",
       " 'Bangalore/Bengaluru',\n",
       " 'Bangalore/Bengaluru',\n",
       " 'Bangalore/Bengaluru',\n",
       " 'Bangalore/Bengaluru',\n",
       " 'Bangalore/Bengaluru',\n",
       " 'Bangalore/Bengaluru']"
      ]
     },
     "execution_count": 32,
     "metadata": {},
     "output_type": "execute_result"
    }
   ],
   "source": [
    "job_loc=[]\n",
    "location_tags=driver.find_elements_by_xpath(\"//li[@class='fleft grey-text br2 placeHolderLi location']\")\n",
    "for i in location_tags:\n",
    "    job_loc.append(i.text)\n",
    "job_loc[:10]"
   ]
  },
  {
   "cell_type": "code",
   "execution_count": 45,
   "metadata": {},
   "outputs": [
    {
     "data": {
      "text/plain": [
       "['Responsibilities Collaborate with product and business teams to understand all aspects ...',\n",
       " 'Being the first data scientist of the company, you shall be responsible for building ro...',\n",
       " 'Responsibilities Collaborate with product and business teams to understand all aspects ...',\n",
       " 'Roles and Responsibilities- Implement data-driven solutions based on advanced ML and op...',\n",
       " 'Comfortable writing code and contributing to a code base in Python or R. - Proficient i...',\n",
       " 'Must have min 2 to 5 years of expertise in machine learning algorithms, predictive anal...',\n",
       " 'IITs, IISc, BITS, IIITs and global ranked Univs) with goodBasic Qualifications: Bachelo...',\n",
       " 'The candidate should have relevant experience in Python, R, Machine Learning, NLP, Deep...',\n",
       " 'Experience: BTech / MTech/MS / PhD in CS / ECE/Statistics or other relevant field from ...',\n",
       " 'Should have understanding of model deploymentExperience with common data science toolki...']"
      ]
     },
     "execution_count": 45,
     "metadata": {},
     "output_type": "execute_result"
    }
   ],
   "source": [
    "job_desc=[]\n",
    "desc_tags=driver.find_elements_by_xpath(\"//div[@class='job-description fs12 grey-text']\")\n",
    "for i in desc_tags:\n",
    "    job_desc.append(i.text)\n",
    "job_desc[:10]"
   ]
  },
  {
   "cell_type": "code",
   "execution_count": 46,
   "metadata": {},
   "outputs": [],
   "source": [
    "job_details=pd.DataFrame({})\n",
    "job_details['Job_Titles']=job_titles[:10]\n",
    "job_details['Company_names']=company_nm[:10]\n",
    "job_details['Job_Locations']=job_loc[:10]\n",
    "job_details['Job_Description']=job_desc[:10]"
   ]
  },
  {
   "cell_type": "code",
   "execution_count": 47,
   "metadata": {},
   "outputs": [
    {
     "data": {
      "text/html": [
       "<div>\n",
       "<style scoped>\n",
       "    .dataframe tbody tr th:only-of-type {\n",
       "        vertical-align: middle;\n",
       "    }\n",
       "\n",
       "    .dataframe tbody tr th {\n",
       "        vertical-align: top;\n",
       "    }\n",
       "\n",
       "    .dataframe thead th {\n",
       "        text-align: right;\n",
       "    }\n",
       "</style>\n",
       "<table border=\"1\" class=\"dataframe\">\n",
       "  <thead>\n",
       "    <tr style=\"text-align: right;\">\n",
       "      <th></th>\n",
       "      <th>Job_Titles</th>\n",
       "      <th>Company_names</th>\n",
       "      <th>Job_Locations</th>\n",
       "      <th>Job_Description</th>\n",
       "    </tr>\n",
       "  </thead>\n",
       "  <tbody>\n",
       "    <tr>\n",
       "      <th>0</th>\n",
       "      <td>Data Scientist</td>\n",
       "      <td>Bion</td>\n",
       "      <td>Bangalore/Bengaluru</td>\n",
       "      <td>Responsibilities Collaborate with product and ...</td>\n",
       "    </tr>\n",
       "    <tr>\n",
       "      <th>1</th>\n",
       "      <td>Data Scientist - Python/ SQL</td>\n",
       "      <td>Catalyst</td>\n",
       "      <td>Bangalore/Bengaluru</td>\n",
       "      <td>Being the first data scientist of the company,...</td>\n",
       "    </tr>\n",
       "    <tr>\n",
       "      <th>2</th>\n",
       "      <td>Data Scientist</td>\n",
       "      <td>Catalyst</td>\n",
       "      <td>Bangalore/Bengaluru</td>\n",
       "      <td>Responsibilities Collaborate with product and ...</td>\n",
       "    </tr>\n",
       "    <tr>\n",
       "      <th>3</th>\n",
       "      <td>Data Scientist - Machine Learning</td>\n",
       "      <td>Catalyst</td>\n",
       "      <td>Bangalore/Bengaluru</td>\n",
       "      <td>Roles and Responsibilities- Implement data-dri...</td>\n",
       "    </tr>\n",
       "    <tr>\n",
       "      <th>4</th>\n",
       "      <td>Data Scientist - Python/r</td>\n",
       "      <td>Catalyst</td>\n",
       "      <td>Bangalore/Bengaluru</td>\n",
       "      <td>Comfortable writing code and contributing to a...</td>\n",
       "    </tr>\n",
       "    <tr>\n",
       "      <th>5</th>\n",
       "      <td>Data Scientist</td>\n",
       "      <td>Talent Corner HR Services Pvt Ltd</td>\n",
       "      <td>Bangalore/Bengaluru</td>\n",
       "      <td>Must have min 2 to 5 years of expertise in mac...</td>\n",
       "    </tr>\n",
       "    <tr>\n",
       "      <th>6</th>\n",
       "      <td>Data Scientist</td>\n",
       "      <td>COUTURE AI PRIVATE LIMITED</td>\n",
       "      <td>Bangalore/Bengaluru</td>\n",
       "      <td>IITs, IISc, BITS, IIITs and global ranked Univ...</td>\n",
       "    </tr>\n",
       "    <tr>\n",
       "      <th>7</th>\n",
       "      <td>Data scientist - Bangalore - only IITand IIM</td>\n",
       "      <td>Industrial Personnel Network</td>\n",
       "      <td>Bangalore/Bengaluru</td>\n",
       "      <td>The candidate should have relevant experience ...</td>\n",
       "    </tr>\n",
       "    <tr>\n",
       "      <th>8</th>\n",
       "      <td>Data Scientist - Optimus ( RL/ DL)</td>\n",
       "      <td>Bert Labs</td>\n",
       "      <td>Bangalore/Bengaluru</td>\n",
       "      <td>Experience: BTech / MTech/MS / PhD in CS / ECE...</td>\n",
       "    </tr>\n",
       "    <tr>\n",
       "      <th>9</th>\n",
       "      <td>Data Scientist</td>\n",
       "      <td>Simplify360</td>\n",
       "      <td>Bangalore/Bengaluru</td>\n",
       "      <td>Should have understanding of model deploymentE...</td>\n",
       "    </tr>\n",
       "  </tbody>\n",
       "</table>\n",
       "</div>"
      ],
      "text/plain": [
       "                                     Job_Titles  \\\n",
       "0                                Data Scientist   \n",
       "1                  Data Scientist - Python/ SQL   \n",
       "2                                Data Scientist   \n",
       "3             Data Scientist - Machine Learning   \n",
       "4                     Data Scientist - Python/r   \n",
       "5                                Data Scientist   \n",
       "6                                Data Scientist   \n",
       "7  Data scientist - Bangalore - only IITand IIM   \n",
       "8            Data Scientist - Optimus ( RL/ DL)   \n",
       "9                                Data Scientist   \n",
       "\n",
       "                       Company_names        Job_Locations  \\\n",
       "0                               Bion  Bangalore/Bengaluru   \n",
       "1                           Catalyst  Bangalore/Bengaluru   \n",
       "2                           Catalyst  Bangalore/Bengaluru   \n",
       "3                           Catalyst  Bangalore/Bengaluru   \n",
       "4                           Catalyst  Bangalore/Bengaluru   \n",
       "5  Talent Corner HR Services Pvt Ltd  Bangalore/Bengaluru   \n",
       "6         COUTURE AI PRIVATE LIMITED  Bangalore/Bengaluru   \n",
       "7       Industrial Personnel Network  Bangalore/Bengaluru   \n",
       "8                          Bert Labs  Bangalore/Bengaluru   \n",
       "9                        Simplify360  Bangalore/Bengaluru   \n",
       "\n",
       "                                     Job_Description  \n",
       "0  Responsibilities Collaborate with product and ...  \n",
       "1  Being the first data scientist of the company,...  \n",
       "2  Responsibilities Collaborate with product and ...  \n",
       "3  Roles and Responsibilities- Implement data-dri...  \n",
       "4  Comfortable writing code and contributing to a...  \n",
       "5  Must have min 2 to 5 years of expertise in mac...  \n",
       "6  IITs, IISc, BITS, IIITs and global ranked Univ...  \n",
       "7  The candidate should have relevant experience ...  \n",
       "8  Experience: BTech / MTech/MS / PhD in CS / ECE...  \n",
       "9  Should have understanding of model deploymentE...  "
      ]
     },
     "execution_count": 47,
     "metadata": {},
     "output_type": "execute_result"
    }
   ],
   "source": [
    "job_details"
   ]
  },
  {
   "cell_type": "markdown",
   "metadata": {},
   "source": [
    "### Ques3. You have to scrape data for “Data Scientist” designation for first 10 job results.You have to scrape the                        job-title, job-location, company_name,experience_required.The location filter to be used is                  “Delhi/NCR”,The salary filter to be used is “3-6” lakhs"
   ]
  },
  {
   "cell_type": "code",
   "execution_count": 3,
   "metadata": {},
   "outputs": [],
   "source": [
    "driver=webdriver.Chrome(\"chromedriver.exe\")"
   ]
  },
  {
   "cell_type": "code",
   "execution_count": 4,
   "metadata": {},
   "outputs": [],
   "source": [
    "driver.get(\"https://www.naukri.com\")"
   ]
  },
  {
   "cell_type": "code",
   "execution_count": 5,
   "metadata": {},
   "outputs": [],
   "source": [
    "search_job=driver.find_element_by_id('qsb-keyword-sugg')\n",
    "search_job.send_keys(\"Data Scientist\")"
   ]
  },
  {
   "cell_type": "code",
   "execution_count": 6,
   "metadata": {},
   "outputs": [],
   "source": [
    "search_btn=driver.find_element_by_xpath('//button[@class=\"btn\"]')\n",
    "search_btn.click()"
   ]
  },
  {
   "cell_type": "code",
   "execution_count": 7,
   "metadata": {},
   "outputs": [],
   "source": [
    "filter_btn=driver.find_element_by_xpath('//*[@id=\"root\"]/div[3]/div[2]/section[1]/div[2]/div[2]/div[2]/div[3]')\n",
    "filter_btn.click()"
   ]
  },
  {
   "cell_type": "code",
   "execution_count": 8,
   "metadata": {},
   "outputs": [],
   "source": [
    "filter_sal=driver.find_element_by_xpath('//*[@id=\"root\"]/div[3]/div[2]/section[1]/div[2]/div[1]/div[2]/div[2]')\n",
    "filter_sal.click()"
   ]
  },
  {
   "cell_type": "code",
   "execution_count": 9,
   "metadata": {},
   "outputs": [
    {
     "data": {
      "text/plain": [
       "['Data Scientist / Data Analyst -Business Analyst',\n",
       " 'Data analytics / Data scientist intern (work from Home)',\n",
       " 'Data Scientist, Machine Learning',\n",
       " 'Data Scientist',\n",
       " 'Looking For Data Scientist For Infogain',\n",
       " 'Data Scientist',\n",
       " 'data scientist',\n",
       " 'Opening For Data Scientist in Axtria',\n",
       " 'Data Scientist',\n",
       " 'Data Engineers /Data Scientist - CES IT LTD - CMMI LVL 5']"
      ]
     },
     "execution_count": 9,
     "metadata": {},
     "output_type": "execute_result"
    }
   ],
   "source": [
    "job_title=[]\n",
    "for i in driver.find_elements_by_xpath('//a[@class=\"title fw500 ellipsis\"]'):\n",
    "    job_title.append(i.text)\n",
    "job_title[:10]"
   ]
  },
  {
   "cell_type": "code",
   "execution_count": 10,
   "metadata": {},
   "outputs": [
    {
     "data": {
      "text/plain": [
       "['Mumbai, Hyderabad/Secunderabad, Pune, Gurgaon/Gurugram, Chennai, Bangalore/Bengaluru',\n",
       " 'Kolkata, Bangalore/Bengaluru, Delhi / NCR',\n",
       " 'Gurgaon/Gurugram, Bangalore/Bengaluru, Mumbai (All Areas)',\n",
       " 'Mumbai, Gurgaon/Gurugram, Bangalore/Bengaluru',\n",
       " 'Noida(Sector-60 Noida), Bangalore/Bengaluru(Electronics City Phase 1), Mumbai (All Areas)(SEEPZ)',\n",
       " 'Noida, Bangalore/Bengaluru',\n",
       " 'Bangalore/Bengaluru',\n",
       " 'Noida, Bangalore/Bengaluru',\n",
       " 'Noida, Hyderabad/Secunderabad, Pune, Gurgaon/Gurugram, Chennai, Bangalore/Bengaluru, Delhi / NCR, Mumbai (All Areas)',\n",
       " 'Kolkata, Hyderabad/Secunderabad, Pune, Ahmedabad, Chennai, Bangalore/Bengaluru, Delhi / NCR, Mumbai (All Areas)']"
      ]
     },
     "execution_count": 10,
     "metadata": {},
     "output_type": "execute_result"
    }
   ],
   "source": [
    "job_loc=[]\n",
    "for i in driver.find_elements_by_xpath('//li[@class=\"fleft grey-text br2 placeHolderLi location\"]'):\n",
    "    job_loc.append(i.text)\n",
    "job_loc[:10]"
   ]
  },
  {
   "cell_type": "code",
   "execution_count": 11,
   "metadata": {},
   "outputs": [
    {
     "data": {
      "text/plain": [
       "['Inflexion Analytix Private Limited',\n",
       " 'TalkValley LLC',\n",
       " 'Fractal Analytics',\n",
       " 'Fractal Analytics',\n",
       " 'Infogain India (P) Ltd.',\n",
       " 'Oracle India Pvt. Ltd.',\n",
       " 'Global Talent Pool',\n",
       " 'Axtria India Private Limited',\n",
       " 'Replicon Software (India) Pvt Ltd',\n",
       " 'CES Ltd.']"
      ]
     },
     "execution_count": 11,
     "metadata": {},
     "output_type": "execute_result"
    }
   ],
   "source": [
    "com_name=[]\n",
    "for i in driver.find_elements_by_xpath('//a[@class=\"subTitle ellipsis fleft\"]'):\n",
    "    com_name.append(i.text)\n",
    "com_name[:10]"
   ]
  },
  {
   "cell_type": "code",
   "execution_count": 12,
   "metadata": {},
   "outputs": [
    {
     "data": {
      "text/plain": [
       "['0-3 Yrs',\n",
       " '0-5 Yrs',\n",
       " '3-6 Yrs',\n",
       " '3-7 Yrs',\n",
       " '10-20 Yrs',\n",
       " '5-9 Yrs',\n",
       " '0-2 Yrs',\n",
       " '7-12 Yrs',\n",
       " '4-8 Yrs',\n",
       " '3-5 Yrs']"
      ]
     },
     "execution_count": 12,
     "metadata": {},
     "output_type": "execute_result"
    }
   ],
   "source": [
    "exp_req=[]\n",
    "for i in driver.find_elements_by_xpath('//li[@class=\"fleft grey-text br2 placeHolderLi experience\"]'):\n",
    "    exp_req.append(i.text)\n",
    "exp_req[:10]"
   ]
  },
  {
   "cell_type": "code",
   "execution_count": 13,
   "metadata": {},
   "outputs": [],
   "source": [
    "job_details=pd.DataFrame({})\n",
    "job_details['Job_Titles']=job_title[:10]\n",
    "job_details['Company_names']=com_name[:10]\n",
    "job_details['Job_Locations']=job_loc[:10]\n",
    "job_details['Experience_Req']=exp_req[:10]"
   ]
  },
  {
   "cell_type": "code",
   "execution_count": 14,
   "metadata": {},
   "outputs": [
    {
     "data": {
      "text/html": [
       "<div>\n",
       "<style scoped>\n",
       "    .dataframe tbody tr th:only-of-type {\n",
       "        vertical-align: middle;\n",
       "    }\n",
       "\n",
       "    .dataframe tbody tr th {\n",
       "        vertical-align: top;\n",
       "    }\n",
       "\n",
       "    .dataframe thead th {\n",
       "        text-align: right;\n",
       "    }\n",
       "</style>\n",
       "<table border=\"1\" class=\"dataframe\">\n",
       "  <thead>\n",
       "    <tr style=\"text-align: right;\">\n",
       "      <th></th>\n",
       "      <th>Job_Titles</th>\n",
       "      <th>Company_names</th>\n",
       "      <th>Job_Locations</th>\n",
       "      <th>Experience_Req</th>\n",
       "    </tr>\n",
       "  </thead>\n",
       "  <tbody>\n",
       "    <tr>\n",
       "      <th>0</th>\n",
       "      <td>Data Scientist / Data Analyst -Business Analyst</td>\n",
       "      <td>Inflexion Analytix Private Limited</td>\n",
       "      <td>Mumbai, Hyderabad/Secunderabad, Pune, Gurgaon/...</td>\n",
       "      <td>0-3 Yrs</td>\n",
       "    </tr>\n",
       "    <tr>\n",
       "      <th>1</th>\n",
       "      <td>Data analytics / Data scientist intern (work f...</td>\n",
       "      <td>TalkValley LLC</td>\n",
       "      <td>Kolkata, Bangalore/Bengaluru, Delhi / NCR</td>\n",
       "      <td>0-5 Yrs</td>\n",
       "    </tr>\n",
       "    <tr>\n",
       "      <th>2</th>\n",
       "      <td>Data Scientist, Machine Learning</td>\n",
       "      <td>Fractal Analytics</td>\n",
       "      <td>Gurgaon/Gurugram, Bangalore/Bengaluru, Mumbai ...</td>\n",
       "      <td>3-6 Yrs</td>\n",
       "    </tr>\n",
       "    <tr>\n",
       "      <th>3</th>\n",
       "      <td>Data Scientist</td>\n",
       "      <td>Fractal Analytics</td>\n",
       "      <td>Mumbai, Gurgaon/Gurugram, Bangalore/Bengaluru</td>\n",
       "      <td>3-7 Yrs</td>\n",
       "    </tr>\n",
       "    <tr>\n",
       "      <th>4</th>\n",
       "      <td>Looking For Data Scientist For Infogain</td>\n",
       "      <td>Infogain India (P) Ltd.</td>\n",
       "      <td>Noida(Sector-60 Noida), Bangalore/Bengaluru(El...</td>\n",
       "      <td>10-20 Yrs</td>\n",
       "    </tr>\n",
       "    <tr>\n",
       "      <th>5</th>\n",
       "      <td>Data Scientist</td>\n",
       "      <td>Oracle India Pvt. Ltd.</td>\n",
       "      <td>Noida, Bangalore/Bengaluru</td>\n",
       "      <td>5-9 Yrs</td>\n",
       "    </tr>\n",
       "    <tr>\n",
       "      <th>6</th>\n",
       "      <td>data scientist</td>\n",
       "      <td>Global Talent Pool</td>\n",
       "      <td>Bangalore/Bengaluru</td>\n",
       "      <td>0-2 Yrs</td>\n",
       "    </tr>\n",
       "    <tr>\n",
       "      <th>7</th>\n",
       "      <td>Opening For Data Scientist in Axtria</td>\n",
       "      <td>Axtria India Private Limited</td>\n",
       "      <td>Noida, Bangalore/Bengaluru</td>\n",
       "      <td>7-12 Yrs</td>\n",
       "    </tr>\n",
       "    <tr>\n",
       "      <th>8</th>\n",
       "      <td>Data Scientist</td>\n",
       "      <td>Replicon Software (India) Pvt Ltd</td>\n",
       "      <td>Noida, Hyderabad/Secunderabad, Pune, Gurgaon/G...</td>\n",
       "      <td>4-8 Yrs</td>\n",
       "    </tr>\n",
       "    <tr>\n",
       "      <th>9</th>\n",
       "      <td>Data Engineers /Data Scientist - CES IT LTD - ...</td>\n",
       "      <td>CES Ltd.</td>\n",
       "      <td>Kolkata, Hyderabad/Secunderabad, Pune, Ahmedab...</td>\n",
       "      <td>3-5 Yrs</td>\n",
       "    </tr>\n",
       "  </tbody>\n",
       "</table>\n",
       "</div>"
      ],
      "text/plain": [
       "                                          Job_Titles  \\\n",
       "0    Data Scientist / Data Analyst -Business Analyst   \n",
       "1  Data analytics / Data scientist intern (work f...   \n",
       "2                   Data Scientist, Machine Learning   \n",
       "3                                     Data Scientist   \n",
       "4            Looking For Data Scientist For Infogain   \n",
       "5                                     Data Scientist   \n",
       "6                                     data scientist   \n",
       "7               Opening For Data Scientist in Axtria   \n",
       "8                                     Data Scientist   \n",
       "9  Data Engineers /Data Scientist - CES IT LTD - ...   \n",
       "\n",
       "                        Company_names  \\\n",
       "0  Inflexion Analytix Private Limited   \n",
       "1                      TalkValley LLC   \n",
       "2                   Fractal Analytics   \n",
       "3                   Fractal Analytics   \n",
       "4             Infogain India (P) Ltd.   \n",
       "5              Oracle India Pvt. Ltd.   \n",
       "6                  Global Talent Pool   \n",
       "7        Axtria India Private Limited   \n",
       "8   Replicon Software (India) Pvt Ltd   \n",
       "9                            CES Ltd.   \n",
       "\n",
       "                                       Job_Locations Experience_Req  \n",
       "0  Mumbai, Hyderabad/Secunderabad, Pune, Gurgaon/...        0-3 Yrs  \n",
       "1          Kolkata, Bangalore/Bengaluru, Delhi / NCR        0-5 Yrs  \n",
       "2  Gurgaon/Gurugram, Bangalore/Bengaluru, Mumbai ...        3-6 Yrs  \n",
       "3      Mumbai, Gurgaon/Gurugram, Bangalore/Bengaluru        3-7 Yrs  \n",
       "4  Noida(Sector-60 Noida), Bangalore/Bengaluru(El...      10-20 Yrs  \n",
       "5                         Noida, Bangalore/Bengaluru        5-9 Yrs  \n",
       "6                                Bangalore/Bengaluru        0-2 Yrs  \n",
       "7                         Noida, Bangalore/Bengaluru       7-12 Yrs  \n",
       "8  Noida, Hyderabad/Secunderabad, Pune, Gurgaon/G...        4-8 Yrs  \n",
       "9  Kolkata, Hyderabad/Secunderabad, Pune, Ahmedab...        3-5 Yrs  "
      ]
     },
     "execution_count": 14,
     "metadata": {},
     "output_type": "execute_result"
    }
   ],
   "source": [
    "job_details"
   ]
  },
  {
   "cell_type": "markdown",
   "metadata": {},
   "source": [
    "### Ques4.Write a python program to scrape data for first 10 job results for Data scientist Designation in Noida              location. You have to scrape company_name, No. of days ago when job was posted, Rating of the company."
   ]
  },
  {
   "cell_type": "code",
   "execution_count": 77,
   "metadata": {},
   "outputs": [],
   "source": [
    "driver=webdriver.Chrome(\"chromedriver.exe\")"
   ]
  },
  {
   "cell_type": "code",
   "execution_count": 78,
   "metadata": {},
   "outputs": [],
   "source": [
    "driver.get('https://www.glassdoor.co.in/index.htm')"
   ]
  },
  {
   "cell_type": "code",
   "execution_count": 84,
   "metadata": {},
   "outputs": [],
   "source": [
    "search_job=driver.find_element_by_xpath('//input[@id=\"sc.keyword\"]')"
   ]
  },
  {
   "cell_type": "code",
   "execution_count": 85,
   "metadata": {},
   "outputs": [],
   "source": [
    "search_job.send_keys(\"Data Scientist\")"
   ]
  },
  {
   "cell_type": "code",
   "execution_count": 86,
   "metadata": {},
   "outputs": [],
   "source": [
    "search_loc=driver.find_element_by_xpath('//input[@id=\"sc.location\"]')"
   ]
  },
  {
   "cell_type": "code",
   "execution_count": 87,
   "metadata": {},
   "outputs": [],
   "source": [
    "search_loc.send_keys('Noida')"
   ]
  },
  {
   "cell_type": "code",
   "execution_count": 88,
   "metadata": {},
   "outputs": [],
   "source": [
    "search_btn=driver.find_element_by_xpath('//button[@class=\"gd-ui-button ml-std col-auto SearchStyles__newSearchButton css-iixdfr\"]')\n",
    "search_btn.click()"
   ]
  },
  {
   "cell_type": "code",
   "execution_count": 90,
   "metadata": {},
   "outputs": [
    {
     "name": "stdout",
     "output_type": "stream",
     "text": [
      "32\n"
     ]
    }
   ],
   "source": [
    "company_name=[]\n",
    "for i in driver.find_elements_by_xpath('//a[@class=\" css-l2wjgv e1n63ojh0 jobLink\"]'):\n",
    "    company_name.append(i.text)\n",
    "\n",
    "print(len(company_name))"
   ]
  },
  {
   "cell_type": "code",
   "execution_count": 91,
   "metadata": {},
   "outputs": [
    {
     "name": "stdout",
     "output_type": "stream",
     "text": [
      "32\n"
     ]
    }
   ],
   "source": [
    "post_day=[]\n",
    "for i in driver.find_elements_by_xpath('//div[@class=\"d-flex align-items-end pl-std css-mi55ob\"]'):\n",
    "    post_day.append(i.text)\n",
    "\n",
    "print(len(post_day))"
   ]
  },
  {
   "cell_type": "code",
   "execution_count": 93,
   "metadata": {},
   "outputs": [
    {
     "name": "stdout",
     "output_type": "stream",
     "text": [
      "24\n"
     ]
    }
   ],
   "source": [
    "rat=[]\n",
    "for i in driver.find_elements_by_xpath('//span[@class=\"css-19pjha7 e1cjmv6j1\"]'):\n",
    "    if i.text is None:\n",
    "        rat.append(\"None\")\n",
    "    else:\n",
    "        rat.append(i.text)\n",
    "    \n",
    "    \n",
    "\n",
    "print(len(rat))"
   ]
  },
  {
   "cell_type": "code",
   "execution_count": 94,
   "metadata": {},
   "outputs": [
    {
     "data": {
      "text/html": [
       "<div>\n",
       "<style scoped>\n",
       "    .dataframe tbody tr th:only-of-type {\n",
       "        vertical-align: middle;\n",
       "    }\n",
       "\n",
       "    .dataframe tbody tr th {\n",
       "        vertical-align: top;\n",
       "    }\n",
       "\n",
       "    .dataframe thead th {\n",
       "        text-align: right;\n",
       "    }\n",
       "</style>\n",
       "<table border=\"1\" class=\"dataframe\">\n",
       "  <thead>\n",
       "    <tr style=\"text-align: right;\">\n",
       "      <th></th>\n",
       "      <th>Company_name</th>\n",
       "      <th>Posting_agodays</th>\n",
       "      <th>Company_rating</th>\n",
       "    </tr>\n",
       "  </thead>\n",
       "  <tbody>\n",
       "    <tr>\n",
       "      <th>0</th>\n",
       "      <td>Taboola</td>\n",
       "      <td>2d</td>\n",
       "      <td>4.2</td>\n",
       "    </tr>\n",
       "    <tr>\n",
       "      <th>1</th>\n",
       "      <td>Bechtel</td>\n",
       "      <td>12d</td>\n",
       "      <td>3.9</td>\n",
       "    </tr>\n",
       "    <tr>\n",
       "      <th>2</th>\n",
       "      <td>MasterCard</td>\n",
       "      <td>18d</td>\n",
       "      <td>4.3</td>\n",
       "    </tr>\n",
       "    <tr>\n",
       "      <th>3</th>\n",
       "      <td>Dürr Somac GmbH</td>\n",
       "      <td>24h</td>\n",
       "      <td>3.8</td>\n",
       "    </tr>\n",
       "    <tr>\n",
       "      <th>4</th>\n",
       "      <td>Jubna</td>\n",
       "      <td>10d</td>\n",
       "      <td>4.0</td>\n",
       "    </tr>\n",
       "    <tr>\n",
       "      <th>5</th>\n",
       "      <td>Donaldson</td>\n",
       "      <td>1d</td>\n",
       "      <td>3.5</td>\n",
       "    </tr>\n",
       "    <tr>\n",
       "      <th>6</th>\n",
       "      <td>Ank Aha</td>\n",
       "      <td>9d</td>\n",
       "      <td>3.9</td>\n",
       "    </tr>\n",
       "    <tr>\n",
       "      <th>7</th>\n",
       "      <td>Lantern Digital Services</td>\n",
       "      <td>3d</td>\n",
       "      <td>3.7</td>\n",
       "    </tr>\n",
       "    <tr>\n",
       "      <th>8</th>\n",
       "      <td>Dürr IT Services India</td>\n",
       "      <td>1d</td>\n",
       "      <td>4.0</td>\n",
       "    </tr>\n",
       "    <tr>\n",
       "      <th>9</th>\n",
       "      <td>Biz2Credit Inc</td>\n",
       "      <td>18d</td>\n",
       "      <td>4.1</td>\n",
       "    </tr>\n",
       "  </tbody>\n",
       "</table>\n",
       "</div>"
      ],
      "text/plain": [
       "               Company_name Posting_agodays Company_rating\n",
       "0                   Taboola              2d            4.2\n",
       "1                   Bechtel             12d            3.9\n",
       "2                MasterCard             18d            4.3\n",
       "3           Dürr Somac GmbH             24h            3.8\n",
       "4                     Jubna             10d            4.0\n",
       "5                 Donaldson              1d            3.5\n",
       "6                   Ank Aha              9d            3.9\n",
       "7  Lantern Digital Services              3d            3.7\n",
       "8    Dürr IT Services India              1d            4.0\n",
       "9            Biz2Credit Inc             18d            4.1"
      ]
     },
     "execution_count": 94,
     "metadata": {},
     "output_type": "execute_result"
    }
   ],
   "source": [
    "Job_detail=pd.DataFrame({})\n",
    "Job_detail['Company_name']=company_name[:10]\n",
    "Job_detail['Posting_agodays']=post_day[:10]\n",
    "Job_detail['Company_rating']=rat[:10]\n",
    "\n",
    "Job_detail"
   ]
  },
  {
   "cell_type": "markdown",
   "metadata": {},
   "source": [
    "### Ques5.Write a python program to scrape the salary data for Data Scientist designation in Noida location.You have to scrape Company name, Number of salaries, Average salary, Min salary, Max Salary,Rating of the company."
   ]
  },
  {
   "cell_type": "code",
   "execution_count": 95,
   "metadata": {},
   "outputs": [],
   "source": [
    "driver=webdriver.Chrome(\"chromedriver.exe\")"
   ]
  },
  {
   "cell_type": "code",
   "execution_count": 96,
   "metadata": {},
   "outputs": [],
   "source": [
    "driver.get('https://www.glassdoor.co.in/Salaries/index.htm')"
   ]
  },
  {
   "cell_type": "code",
   "execution_count": 97,
   "metadata": {},
   "outputs": [],
   "source": [
    "search_job=driver.find_element_by_xpath('//input[@name=\"sc.keyword\"]')"
   ]
  },
  {
   "cell_type": "code",
   "execution_count": 98,
   "metadata": {},
   "outputs": [],
   "source": [
    "search_job.send_keys(\"Data Scientist\")"
   ]
  },
  {
   "cell_type": "code",
   "execution_count": 99,
   "metadata": {},
   "outputs": [],
   "source": [
    "search_loc=driver.find_element_by_xpath('//input[@id=\"LocationSearch\"]')"
   ]
  },
  {
   "cell_type": "code",
   "execution_count": 100,
   "metadata": {},
   "outputs": [],
   "source": [
    "search_loc.send_keys('Noida')"
   ]
  },
  {
   "cell_type": "code",
   "execution_count": 101,
   "metadata": {},
   "outputs": [],
   "source": [
    "search_btn=driver.find_element_by_xpath('//button[@class=\"gd-btn-mkt\"]')\n",
    "search_btn.click()"
   ]
  },
  {
   "cell_type": "code",
   "execution_count": 102,
   "metadata": {},
   "outputs": [
    {
     "name": "stdout",
     "output_type": "stream",
     "text": [
      "20\n"
     ]
    }
   ],
   "source": [
    "company_name=[]\n",
    "for i in driver.find_elements_by_xpath('//a[@class=\"css-f3vw95 e1aj7ssy3\"]'):\n",
    "    company_name.append(i.text)\n",
    "\n",
    "print(len(company_name))"
   ]
  },
  {
   "cell_type": "code",
   "execution_count": 104,
   "metadata": {},
   "outputs": [
    {
     "name": "stdout",
     "output_type": "stream",
     "text": [
      "20\n"
     ]
    }
   ],
   "source": [
    "num_of_sl=[]\n",
    "for i in driver.find_elements_by_xpath('//div[@class=\"col-12 col-lg-auto\"]'):\n",
    "    num_of_sl.append(i.text)\n",
    "\n",
    "print(len(num_of_sl))"
   ]
  },
  {
   "cell_type": "code",
   "execution_count": 110,
   "metadata": {},
   "outputs": [
    {
     "name": "stdout",
     "output_type": "stream",
     "text": [
      "20\n"
     ]
    }
   ],
   "source": [
    "avg_sal=[]\n",
    "for i in driver.find_elements_by_xpath('//div[@class=\"col-12 col-lg-4 px-lg-0 d-flex align-items-baseline\"]/h3'):\n",
    "    avg_sal.append(i.text)\n",
    "\n",
    "print(len(avg_sal))"
   ]
  },
  {
   "cell_type": "code",
   "execution_count": 106,
   "metadata": {},
   "outputs": [
    {
     "name": "stdout",
     "output_type": "stream",
     "text": [
      "20\n"
     ]
    }
   ],
   "source": [
    "range_of_sal=[]\n",
    "for i in driver.find_elements_by_xpath('//span[@class=\"d-block d-lg-none m-0 css-1b6bxoo\"]'):\n",
    "    range_of_sal.append(i.text)\n",
    "\n",
    "print(len(range_of_sal))"
   ]
  },
  {
   "cell_type": "code",
   "execution_count": 107,
   "metadata": {},
   "outputs": [
    {
     "name": "stdout",
     "output_type": "stream",
     "text": [
      "20\n"
     ]
    }
   ],
   "source": [
    "ratn=[]\n",
    "for i in driver.find_elements_by_xpath('//span[@class=\"m-0 css-kyx745\"]'):\n",
    "    ratn.append(i.text)\n",
    "\n",
    "print(len(ratn))"
   ]
  },
  {
   "cell_type": "code",
   "execution_count": 111,
   "metadata": {},
   "outputs": [],
   "source": [
    "Salary_desc=pd.DataFrame({})\n",
    "Salary_desc['Company_name']=company_name[:10]\n",
    "Salary_desc['No_of_salary']=num_of_sl[:10]\n",
    "Salary_desc['Range_of_salary']=range_of_sal[:10]\n",
    "Salary_desc['Average_salary']=avg_sal[:10]\n",
    "Salary_desc['Ratings']=ratn[:10]"
   ]
  },
  {
   "cell_type": "code",
   "execution_count": 112,
   "metadata": {},
   "outputs": [
    {
     "data": {
      "text/html": [
       "<div>\n",
       "<style scoped>\n",
       "    .dataframe tbody tr th:only-of-type {\n",
       "        vertical-align: middle;\n",
       "    }\n",
       "\n",
       "    .dataframe tbody tr th {\n",
       "        vertical-align: top;\n",
       "    }\n",
       "\n",
       "    .dataframe thead th {\n",
       "        text-align: right;\n",
       "    }\n",
       "</style>\n",
       "<table border=\"1\" class=\"dataframe\">\n",
       "  <thead>\n",
       "    <tr style=\"text-align: right;\">\n",
       "      <th></th>\n",
       "      <th>Company_name</th>\n",
       "      <th>No_of_salary</th>\n",
       "      <th>Range_of_salary</th>\n",
       "      <th>Average_salary</th>\n",
       "      <th>Ratings</th>\n",
       "    </tr>\n",
       "  </thead>\n",
       "  <tbody>\n",
       "    <tr>\n",
       "      <th>0</th>\n",
       "      <td>Tata Consultancy Services</td>\n",
       "      <td>17 salaries</td>\n",
       "      <td>Range: ₹343K - ₹1,250K</td>\n",
       "      <td>₹ 6,15,289</td>\n",
       "      <td>3.9</td>\n",
       "    </tr>\n",
       "    <tr>\n",
       "      <th>1</th>\n",
       "      <td>IBM</td>\n",
       "      <td>15 salaries</td>\n",
       "      <td>Range: ₹587K - ₹2,734K</td>\n",
       "      <td>₹ 9,00,000</td>\n",
       "      <td>3.9</td>\n",
       "    </tr>\n",
       "    <tr>\n",
       "      <th>2</th>\n",
       "      <td>Accenture</td>\n",
       "      <td>14 salaries</td>\n",
       "      <td>Range: ₹578K - ₹2,217K</td>\n",
       "      <td>₹ 11,48,366</td>\n",
       "      <td>4</td>\n",
       "    </tr>\n",
       "    <tr>\n",
       "      <th>3</th>\n",
       "      <td>Ericsson-Worldwide</td>\n",
       "      <td>14 salaries</td>\n",
       "      <td>Range: ₹355K - ₹1,615K</td>\n",
       "      <td>₹ 7,39,238</td>\n",
       "      <td>4</td>\n",
       "    </tr>\n",
       "    <tr>\n",
       "      <th>4</th>\n",
       "      <td>Delhivery</td>\n",
       "      <td>14 salaries</td>\n",
       "      <td>Range: ₹451K - ₹11,640K</td>\n",
       "      <td>₹ 12,41,763</td>\n",
       "      <td>3.8</td>\n",
       "    </tr>\n",
       "    <tr>\n",
       "      <th>5</th>\n",
       "      <td>UnitedHealth Group</td>\n",
       "      <td>11 salaries</td>\n",
       "      <td>Range: ₹1,071K - ₹1,523K</td>\n",
       "      <td>₹ 13,38,279</td>\n",
       "      <td>3.6</td>\n",
       "    </tr>\n",
       "    <tr>\n",
       "      <th>6</th>\n",
       "      <td>Optum Global Solutions</td>\n",
       "      <td>9 salaries</td>\n",
       "      <td>Range: ₹350K - ₹2,152K</td>\n",
       "      <td>₹ 13,28,697</td>\n",
       "      <td>3.9</td>\n",
       "    </tr>\n",
       "    <tr>\n",
       "      <th>7</th>\n",
       "      <td>Valiance Solutions</td>\n",
       "      <td>9 salaries</td>\n",
       "      <td>Range: ₹502K - ₹1,467K</td>\n",
       "      <td>₹ 8,16,495</td>\n",
       "      <td>4.1</td>\n",
       "    </tr>\n",
       "    <tr>\n",
       "      <th>8</th>\n",
       "      <td>ZS Associates</td>\n",
       "      <td>8 salaries</td>\n",
       "      <td>Range: ₹202K - ₹1,812K</td>\n",
       "      <td>₹ 11,42,356</td>\n",
       "      <td>4</td>\n",
       "    </tr>\n",
       "    <tr>\n",
       "      <th>9</th>\n",
       "      <td>EXL Service</td>\n",
       "      <td>8 salaries</td>\n",
       "      <td>Range: ₹576K - ₹1,523K</td>\n",
       "      <td>₹ 11,46,073</td>\n",
       "      <td>3.6</td>\n",
       "    </tr>\n",
       "  </tbody>\n",
       "</table>\n",
       "</div>"
      ],
      "text/plain": [
       "                Company_name No_of_salary           Range_of_salary  \\\n",
       "0  Tata Consultancy Services  17 salaries    Range: ₹343K - ₹1,250K   \n",
       "1                        IBM  15 salaries    Range: ₹587K - ₹2,734K   \n",
       "2                  Accenture  14 salaries    Range: ₹578K - ₹2,217K   \n",
       "3         Ericsson-Worldwide  14 salaries    Range: ₹355K - ₹1,615K   \n",
       "4                  Delhivery  14 salaries   Range: ₹451K - ₹11,640K   \n",
       "5         UnitedHealth Group  11 salaries  Range: ₹1,071K - ₹1,523K   \n",
       "6     Optum Global Solutions   9 salaries    Range: ₹350K - ₹2,152K   \n",
       "7         Valiance Solutions   9 salaries    Range: ₹502K - ₹1,467K   \n",
       "8              ZS Associates   8 salaries    Range: ₹202K - ₹1,812K   \n",
       "9                EXL Service   8 salaries    Range: ₹576K - ₹1,523K   \n",
       "\n",
       "  Average_salary Ratings  \n",
       "0     ₹ 6,15,289     3.9  \n",
       "1     ₹ 9,00,000     3.9  \n",
       "2    ₹ 11,48,366       4  \n",
       "3     ₹ 7,39,238       4  \n",
       "4    ₹ 12,41,763     3.8  \n",
       "5    ₹ 13,38,279     3.6  \n",
       "6    ₹ 13,28,697     3.9  \n",
       "7     ₹ 8,16,495     4.1  \n",
       "8    ₹ 11,42,356       4  \n",
       "9    ₹ 11,46,073     3.6  "
      ]
     },
     "execution_count": 112,
     "metadata": {},
     "output_type": "execute_result"
    }
   ],
   "source": [
    "Salary_desc"
   ]
  },
  {
   "cell_type": "markdown",
   "metadata": {},
   "source": [
    "### Ques6.Scrape data of first 100 sunglasses listings on flipkart.com. You have to scrape four attributes:\n",
    "### 1. Brand\n",
    "### 2. Product Description\n",
    "### 3. Price\n",
    "### 4. Discount %\n"
   ]
  },
  {
   "cell_type": "code",
   "execution_count": 7,
   "metadata": {},
   "outputs": [],
   "source": [
    "dv=webdriver.Chrome('chromedriver.exe')"
   ]
  },
  {
   "cell_type": "code",
   "execution_count": 8,
   "metadata": {},
   "outputs": [],
   "source": [
    "dv.get(' https://www.flipkart.com/')"
   ]
  },
  {
   "cell_type": "code",
   "execution_count": 10,
   "metadata": {},
   "outputs": [],
   "source": [
    "search=dv.find_element_by_xpath('//input[@class=\"_3704LK\"]')\n",
    "search.send_keys(\"sunglasses\")"
   ]
  },
  {
   "cell_type": "code",
   "execution_count": 12,
   "metadata": {},
   "outputs": [],
   "source": [
    "search_btn=dv.find_element_by_xpath(\"//button[@class='L0Z3Pu']\")\n",
    "search_btn.click()"
   ]
  },
  {
   "cell_type": "code",
   "execution_count": 15,
   "metadata": {},
   "outputs": [],
   "source": [
    "brand_name=[]\n",
    "\n",
    "for i in range(3):\n",
    "    for j in dv.find_elements_by_xpath('//div[@class=\"_2WkVRV\"]'):\n",
    "        brand_name.append(j.text)\n",
    "        \n",
    "    dv.find_element_by_xpath('//a[@class=\"_1LKTO3\"]').click()\n",
    "    time.sleep(5)"
   ]
  },
  {
   "cell_type": "code",
   "execution_count": 16,
   "metadata": {},
   "outputs": [
    {
     "data": {
      "text/plain": [
       "['Singco India',\n",
       " 'NuVew',\n",
       " 'ROYAL SON',\n",
       " 'NuVew',\n",
       " 'PHENOMENAL',\n",
       " 'GANSTA',\n",
       " 'DEIXELS',\n",
       " 'povty',\n",
       " 'ROYAL SON',\n",
       " 'PHENOMENAL',\n",
       " 'ROZZETTA CRAFT',\n",
       " 'Villain',\n",
       " 'Fastrack',\n",
       " 'Fastrack',\n",
       " 'ROZZETTA CRAFT',\n",
       " 'Villain',\n",
       " 'Cristiano Ronnie',\n",
       " 'ROYAL SON',\n",
       " 'PIRASO',\n",
       " 'NuVew',\n",
       " 'DEIXELS',\n",
       " 'ROYAL SON',\n",
       " 'ROZZETTA CRAFT',\n",
       " 'NuVew',\n",
       " 'Silver Kartz',\n",
       " 'NuVew',\n",
       " 'Flizz',\n",
       " 'hipe',\n",
       " 'Fastrack',\n",
       " 'NuVew',\n",
       " 'NuVew',\n",
       " 'ROYAL SON',\n",
       " 'NuVew',\n",
       " 'NuVew',\n",
       " 'ROZZETTA CRAFT',\n",
       " 'ROZZETTA CRAFT',\n",
       " 'Fastrack',\n",
       " 'hipe',\n",
       " 'Fastrack',\n",
       " 'NuVew',\n",
       " 'NuVew',\n",
       " 'AISLIN',\n",
       " 'PIRASO',\n",
       " 'PIRASO',\n",
       " 'Fastrack',\n",
       " 'PIRASO',\n",
       " 'Fastrack',\n",
       " 'AISLIN',\n",
       " 'DEIXELS',\n",
       " 'PIRASO',\n",
       " 'ROZZETTA CRAFT',\n",
       " 'AISLIN',\n",
       " 'HIPPON',\n",
       " 'PHENOMENAL',\n",
       " 'GANSTA',\n",
       " 'AISLIN',\n",
       " 'ROZZETTA CRAFT',\n",
       " 'Fastrack',\n",
       " 'PIRASO',\n",
       " 'AISLIN',\n",
       " 'ROZZETTA CRAFT',\n",
       " 'PHENOMENAL',\n",
       " 'Fastrack',\n",
       " 'NuVew',\n",
       " 'Fastrack',\n",
       " 'NuVew',\n",
       " 'hipe',\n",
       " 'NuVew',\n",
       " 'Fastrack',\n",
       " 'PIRASO',\n",
       " 'PHENOMENAL',\n",
       " 'AISLIN',\n",
       " 'ROZZETTA CRAFT',\n",
       " 'Fastrack',\n",
       " 'NuVew',\n",
       " 'NuVew',\n",
       " 'NuVew',\n",
       " 'PHENOMENAL',\n",
       " 'hipe',\n",
       " 'AISLIN',\n",
       " 'ROYAL SON',\n",
       " 'ROYAL SON',\n",
       " 'PHENOMENAL',\n",
       " 'EYEWEARLABS',\n",
       " 'DEIXELS',\n",
       " 'Singco India',\n",
       " 'NuVew',\n",
       " 'NuVew',\n",
       " 'ROZZETTA CRAFT',\n",
       " 'Fastrack',\n",
       " 'GANSTA',\n",
       " 'povty',\n",
       " 'PHENOMENAL',\n",
       " 'ROZZETTA CRAFT',\n",
       " 'Fastrack',\n",
       " 'NuVew',\n",
       " 'Cristiano Ronnie',\n",
       " 'DEIXELS',\n",
       " 'ROYAL SON',\n",
       " 'Villain']"
      ]
     },
     "execution_count": 16,
     "metadata": {},
     "output_type": "execute_result"
    }
   ],
   "source": [
    "brand_name[:100]"
   ]
  },
  {
   "cell_type": "code",
   "execution_count": 19,
   "metadata": {},
   "outputs": [],
   "source": [
    "prod_desc=[]\n",
    "\n",
    "for i in range(3):\n",
    "    for j in dv.find_elements_by_xpath('//a[@class=\"IRpwTa\"]'):\n",
    "        prod_desc.append(j.text)\n",
    "        \n",
    "    dv.find_element_by_xpath('//a[@class=\"_1LKTO3\"]').click()\n",
    "    time.sleep(5)"
   ]
  },
  {
   "cell_type": "code",
   "execution_count": 20,
   "metadata": {},
   "outputs": [
    {
     "data": {
      "text/plain": [
       "['Mirrored Aviator Sunglasses (55)',\n",
       " 'UV Protection, Gradient Wayfarer Sunglasses (55)',\n",
       " 'UV Protection, Mirrored Retro Square Sunglasses (Free S...',\n",
       " 'UV Protection, Gradient, Night Vision, Mirrored Aviator...',\n",
       " 'UV Protection Round Sunglasses (Free Size)',\n",
       " 'UV Protection, Riding Glasses, Others Aviator, Wayfarer...',\n",
       " 'UV Protection, Riding Glasses Wayfarer Sunglasses (56)',\n",
       " 'UV Protection Wayfarer Sunglasses (Free Size)',\n",
       " 'Gradient, UV Protection Round Sunglasses (Free Size)',\n",
       " 'UV Protection Shield Sunglasses (Free Size)',\n",
       " 'UV Protection, Night Vision, Riding Glasses Aviator Sun...',\n",
       " 'UV Protection, Mirrored, Gradient Cat-eye Sunglasses (6...',\n",
       " 'UV Protection, Mirrored Clubmaster Sunglasses (Free Siz...',\n",
       " 'UV Protection, Gradient Round Sunglasses (Free Size)',\n",
       " 'UV Protection Aviator Sunglasses (Free Size)',\n",
       " 'Others Wayfarer Sunglasses (Free Size)',\n",
       " 'UV Protection, Riding Glasses Aviator Sunglasses (57)',\n",
       " 'Polarized, UV Protection, Riding Glasses Wayfarer Sungl...',\n",
       " 'UV Protection Wayfarer Sunglasses (55)',\n",
       " 'Others Retro Square Sunglasses (Free Size)',\n",
       " 'UV Protection Aviator Sunglasses (54)',\n",
       " 'Mirrored Aviator Sunglasses (Free Size)',\n",
       " 'UV Protection, Mirrored Sports Sunglasses (73)',\n",
       " 'UV Protection Cat-eye Sunglasses (60)',\n",
       " 'UV Protection Retro Square Sunglasses (Free Size)',\n",
       " 'UV Protection Retro Square Sunglasses (Free Size)',\n",
       " 'UV Protection Wayfarer Sunglasses (Free Size)',\n",
       " 'UV Protection, Mirrored Aviator Sunglasses (Free Size)',\n",
       " 'UV Protection Aviator Sunglasses (58)',\n",
       " 'UV Protection, Gradient, Night Vision, Mirrored Aviator...',\n",
       " 'Polarized, UV Protection Aviator Sunglasses (Free Size)',\n",
       " 'UV Protection Rectangular Sunglasses (58)',\n",
       " 'UV Protection, Mirrored, Night Vision, Riding Glasses S...',\n",
       " 'UV Protection, Mirrored, Gradient Wayfarer Sunglasses (...',\n",
       " 'UV Protection Wayfarer Sunglasses (Free Size)',\n",
       " 'Gradient, UV Protection Wayfarer Sunglasses (Free Size)',\n",
       " 'UV Protection Butterfly Sunglasses (65)',\n",
       " 'UV Protection Rectangular Sunglasses (Free Size)',\n",
       " 'Gradient, UV Protection Wayfarer Sunglasses (Free Size)',\n",
       " 'UV Protection Aviator Sunglasses (57)',\n",
       " 'Polarized, UV Protection, Gradient Aviator Sunglasses (...',\n",
       " 'UV Protection, Others Aviator Sunglasses (58)',\n",
       " 'UV Protection Aviator Sunglasses (54)',\n",
       " 'UV Protection Aviator Sunglasses (54)',\n",
       " 'UV Protection Rectangular Sunglasses (Free Size)',\n",
       " 'UV Protection Aviator Sunglasses (54)',\n",
       " 'UV Protection Wayfarer Sunglasses (Free Size)',\n",
       " 'UV Protection, Mirrored, Gradient Over-sized, Retro Squ...',\n",
       " 'UV Protection Aviator, Wayfarer Sunglasses (Free Size)',\n",
       " 'UV Protection Aviator Sunglasses (Free Size)',\n",
       " 'UV Protection, Gradient Rectangular Sunglasses (Free Si...',\n",
       " 'UV Protection, Gradient Aviator Sunglasses (58)',\n",
       " 'UV Protection Wayfarer Sunglasses (55)',\n",
       " 'UV Protection Retro Square Sunglasses (Free Size)',\n",
       " 'UV Protection Aviator Sunglasses (57)',\n",
       " 'UV Protection, Mirrored Wayfarer, Shield Sunglasses (57...',\n",
       " 'UV Protection Retro Square Sunglasses (Free Size)',\n",
       " 'UV Protection Aviator Sunglasses (58)',\n",
       " 'UV Protection Wayfarer Sunglasses (32)',\n",
       " 'UV Protection Wayfarer, Rectangular Sunglasses (55)',\n",
       " 'UV Protection, Gradient Rectangular Sunglasses (Free Si...',\n",
       " 'UV Protection, Mirrored Retro Square Sunglasses (53)',\n",
       " 'Gradient, UV Protection Wayfarer Sunglasses (Free Size)',\n",
       " 'Polarized, UV Protection Aviator Sunglasses (58)',\n",
       " 'UV Protection Wayfarer Sunglasses (Free Size)',\n",
       " 'UV Protection Aviator Sunglasses (57)',\n",
       " 'Mirrored, UV Protection, Gradient Round Sunglasses (55)',\n",
       " 'UV Protection, Gradient Aviator Sunglasses (61)',\n",
       " 'UV Protection Aviator Sunglasses (Free Size)',\n",
       " 'UV Protection Aviator Sunglasses (58)',\n",
       " 'UV Protection Clubmaster Sunglasses (Free Size)',\n",
       " 'UV Protection Aviator Sunglasses (Free Size)',\n",
       " 'UV Protection, Riding Glasses Rectangular Sunglasses (F...',\n",
       " 'UV Protection Wayfarer Sunglasses (56)',\n",
       " 'UV Protection Aviator Sunglasses (58)',\n",
       " 'UV Protection Wayfarer Sunglasses (61)',\n",
       " 'UV Protection, Gradient, Night Vision, Mirrored Aviator...',\n",
       " 'UV Protection, Mirrored Retro Square Sunglasses (53)',\n",
       " 'UV Protection Sports Sunglasses (Free Size)',\n",
       " 'Mirrored Aviator Sunglasses (55)',\n",
       " 'UV Protection, Gradient Wayfarer Sunglasses (55)',\n",
       " 'UV Protection, Mirrored Retro Square Sunglasses (Free S...',\n",
       " 'UV Protection, Gradient, Night Vision, Mirrored Aviator...',\n",
       " 'UV Protection Round Sunglasses (Free Size)',\n",
       " 'UV Protection, Riding Glasses, Others Aviator, Wayfarer...',\n",
       " 'UV Protection, Riding Glasses Wayfarer Sunglasses (56)',\n",
       " 'UV Protection, Mirrored, Gradient Cat-eye Sunglasses (6...',\n",
       " 'Gradient, UV Protection Round Sunglasses (Free Size)',\n",
       " 'UV Protection Shield Sunglasses (Free Size)',\n",
       " 'UV Protection, Night Vision, Riding Glasses Aviator Sun...',\n",
       " 'Others Wayfarer Sunglasses (Free Size)',\n",
       " 'UV Protection, Mirrored Clubmaster Sunglasses (Free Siz...',\n",
       " 'UV Protection, Gradient Round Sunglasses (Free Size)',\n",
       " 'UV Protection Aviator Sunglasses (Free Size)',\n",
       " 'Others Retro Square Sunglasses (Free Size)',\n",
       " 'UV Protection, Riding Glasses Aviator Sunglasses (57)',\n",
       " 'Polarized, UV Protection, Riding Glasses Wayfarer Sungl...',\n",
       " 'UV Protection Wayfarer Sunglasses (55)',\n",
       " 'UV Protection Aviator Sunglasses (57)',\n",
       " 'UV Protection Aviator Sunglasses (54)']"
      ]
     },
     "execution_count": 20,
     "metadata": {},
     "output_type": "execute_result"
    }
   ],
   "source": [
    "prod_desc[:100]"
   ]
  },
  {
   "cell_type": "code",
   "execution_count": 21,
   "metadata": {},
   "outputs": [],
   "source": [
    "price=[]\n",
    "\n",
    "for i in range(3):\n",
    "    for j in dv.find_elements_by_xpath('//div[@class=\"_30jeq3\"]'):\n",
    "        price.append(j.text)\n",
    "        \n",
    "    dv.find_element_by_xpath('//a[@class=\"_1LKTO3\"]').click()\n",
    "    time.sleep(5)"
   ]
  },
  {
   "cell_type": "code",
   "execution_count": 22,
   "metadata": {},
   "outputs": [
    {
     "data": {
      "text/plain": [
       "['₹1,698',\n",
       " '₹1,498',\n",
       " '₹225',\n",
       " '₹200',\n",
       " '₹570',\n",
       " '₹200',\n",
       " '₹647',\n",
       " '₹1,498',\n",
       " '₹213',\n",
       " '₹314',\n",
       " '₹404',\n",
       " '₹395',\n",
       " '₹251',\n",
       " '₹399',\n",
       " '₹281',\n",
       " '₹312',\n",
       " '₹499',\n",
       " '₹1,085',\n",
       " '₹200',\n",
       " '₹189',\n",
       " '₹499',\n",
       " '₹399',\n",
       " '₹536',\n",
       " '₹699',\n",
       " '₹733',\n",
       " '₹227',\n",
       " '₹210',\n",
       " '₹679',\n",
       " '₹674',\n",
       " '₹314',\n",
       " '₹319',\n",
       " '₹1,185',\n",
       " '₹449',\n",
       " '₹759',\n",
       " '₹206',\n",
       " '₹500',\n",
       " '₹314',\n",
       " '₹399',\n",
       " '₹319',\n",
       " '₹232',\n",
       " '₹319',\n",
       " '₹217',\n",
       " '₹399',\n",
       " '₹308',\n",
       " '₹219',\n",
       " '₹219',\n",
       " '₹198',\n",
       " '₹274',\n",
       " '₹449',\n",
       " '₹759',\n",
       " '₹292',\n",
       " '₹750',\n",
       " '₹319',\n",
       " '₹449',\n",
       " '₹702',\n",
       " '₹539',\n",
       " '₹449',\n",
       " '₹236',\n",
       " '₹265',\n",
       " '₹335',\n",
       " '₹200',\n",
       " '₹319',\n",
       " '₹293',\n",
       " '₹301',\n",
       " '₹399',\n",
       " '₹499',\n",
       " '₹246',\n",
       " '₹199',\n",
       " '₹227',\n",
       " '₹301',\n",
       " '₹449',\n",
       " '₹399',\n",
       " '₹349',\n",
       " '₹290',\n",
       " '₹758',\n",
       " '₹799',\n",
       " '₹323',\n",
       " '₹398',\n",
       " '₹638',\n",
       " '₹291',\n",
       " '₹1,498',\n",
       " '₹1,498',\n",
       " '₹225',\n",
       " '₹200',\n",
       " '₹570',\n",
       " '₹200',\n",
       " '₹647',\n",
       " '₹395',\n",
       " '₹213',\n",
       " '₹314',\n",
       " '₹404',\n",
       " '₹189',\n",
       " '₹251',\n",
       " '₹399',\n",
       " '₹281',\n",
       " '₹699',\n",
       " '₹499',\n",
       " '₹1,085',\n",
       " '₹200',\n",
       " '₹679']"
      ]
     },
     "execution_count": 22,
     "metadata": {},
     "output_type": "execute_result"
    }
   ],
   "source": [
    "price[:100]"
   ]
  },
  {
   "cell_type": "code",
   "execution_count": 23,
   "metadata": {},
   "outputs": [],
   "source": [
    "disc=[]\n",
    "\n",
    "for i in range(3):\n",
    "    for j in dv.find_elements_by_xpath('//div[@class=\"_3Ay6Sb\"]'):\n",
    "        if j.text is None:\n",
    "            disc.append('no discount')\n",
    "        else:\n",
    "            disc.append(j.text)\n",
    "        \n",
    "    dv.find_element_by_xpath('//a[@class=\"_1LKTO3\"]').click()\n",
    "    time.sleep(5)"
   ]
  },
  {
   "cell_type": "code",
   "execution_count": 24,
   "metadata": {},
   "outputs": [
    {
     "data": {
      "text/plain": [
       "['78% off',\n",
       " '78% off',\n",
       " '80% off',\n",
       " '73% off',\n",
       " '72% off',\n",
       " '68% off',\n",
       " '79% off',\n",
       " '82% off',\n",
       " '77% off',\n",
       " '15% off',\n",
       " '85% off',\n",
       " '68% off',\n",
       " '84% off',\n",
       " '77% off',\n",
       " '12% off',\n",
       " '24% off',\n",
       " '71% off',\n",
       " '60% off',\n",
       " '79% off',\n",
       " '28% off',\n",
       " '87% off',\n",
       " '78% off',\n",
       " '76% off',\n",
       " '76% off',\n",
       " '81% off',\n",
       " '77% off',\n",
       " '83% off',\n",
       " '80% off',\n",
       " '71% off',\n",
       " '72% off',\n",
       " '77% off',\n",
       " '73% off',\n",
       " '72% off',\n",
       " '75% off',\n",
       " '15% off',\n",
       " '87% off',\n",
       " '73% off',\n",
       " '20% off',\n",
       " '80% off',\n",
       " '57% off',\n",
       " '40% off',\n",
       " '85% off',\n",
       " '87% off',\n",
       " '28% off',\n",
       " '28% off',\n",
       " '87% off',\n",
       " '62% off',\n",
       " '80% off',\n",
       " '82% off',\n",
       " '79% off',\n",
       " '73% off',\n",
       " '79% off',\n",
       " '80% off',\n",
       " '85% off',\n",
       " '82% off',\n",
       " '16% off',\n",
       " '77% off',\n",
       " '87% off',\n",
       " '28% off',\n",
       " '32% off',\n",
       " '80% off',\n",
       " '77% off',\n",
       " '76% off',\n",
       " '18% off',\n",
       " '71% off',\n",
       " '85% off',\n",
       " '68% off',\n",
       " '25% off',\n",
       " '80% off',\n",
       " '84% off',\n",
       " '75% off',\n",
       " '87% off',\n",
       " '79% off',\n",
       " '15% off',\n",
       " '68% off',\n",
       " '73% off',\n",
       " '68% off',\n",
       " '83% off',\n",
       " '72% off',\n",
       " '85% off',\n",
       " '72% off',\n",
       " '79% off',\n",
       " '24% off',\n",
       " '78% off',\n",
       " '80% off',\n",
       " '68% off',\n",
       " '80% off',\n",
       " '15% off',\n",
       " '78% off',\n",
       " '84% off',\n",
       " '73% off',\n",
       " '77% off',\n",
       " '12% off',\n",
       " '77% off',\n",
       " '82% off',\n",
       " '79% off',\n",
       " '87% off',\n",
       " '71% off',\n",
       " '69% off',\n",
       " '60% off']"
      ]
     },
     "execution_count": 24,
     "metadata": {},
     "output_type": "execute_result"
    }
   ],
   "source": [
    "disc[:100]"
   ]
  },
  {
   "cell_type": "code",
   "execution_count": 28,
   "metadata": {},
   "outputs": [
    {
     "name": "stdout",
     "output_type": "stream",
     "text": [
      "239 118 120 119\n"
     ]
    }
   ],
   "source": [
    "print(len(brand_name),len(disc),len(price),len(prod_desc))"
   ]
  },
  {
   "cell_type": "code",
   "execution_count": 29,
   "metadata": {},
   "outputs": [],
   "source": [
    "sunglass_details=pd.DataFrame({})\n",
    "sunglass_details['Brand']=brand_name[:100]\n",
    "sunglass_details['Price']=price[:100]\n",
    "sunglass_details['Product_Desc']=prod_desc[:100]\n",
    "sunglass_details['Discount']=disc[:100]"
   ]
  },
  {
   "cell_type": "code",
   "execution_count": 30,
   "metadata": {},
   "outputs": [
    {
     "data": {
      "text/html": [
       "<div>\n",
       "<style scoped>\n",
       "    .dataframe tbody tr th:only-of-type {\n",
       "        vertical-align: middle;\n",
       "    }\n",
       "\n",
       "    .dataframe tbody tr th {\n",
       "        vertical-align: top;\n",
       "    }\n",
       "\n",
       "    .dataframe thead th {\n",
       "        text-align: right;\n",
       "    }\n",
       "</style>\n",
       "<table border=\"1\" class=\"dataframe\">\n",
       "  <thead>\n",
       "    <tr style=\"text-align: right;\">\n",
       "      <th></th>\n",
       "      <th>Brand</th>\n",
       "      <th>Price</th>\n",
       "      <th>Product_Desc</th>\n",
       "      <th>Discount</th>\n",
       "    </tr>\n",
       "  </thead>\n",
       "  <tbody>\n",
       "    <tr>\n",
       "      <th>0</th>\n",
       "      <td>Singco India</td>\n",
       "      <td>₹1,698</td>\n",
       "      <td>Mirrored Aviator Sunglasses (55)</td>\n",
       "      <td>78% off</td>\n",
       "    </tr>\n",
       "    <tr>\n",
       "      <th>1</th>\n",
       "      <td>NuVew</td>\n",
       "      <td>₹1,498</td>\n",
       "      <td>UV Protection, Gradient Wayfarer Sunglasses (55)</td>\n",
       "      <td>78% off</td>\n",
       "    </tr>\n",
       "    <tr>\n",
       "      <th>2</th>\n",
       "      <td>ROYAL SON</td>\n",
       "      <td>₹225</td>\n",
       "      <td>UV Protection, Mirrored Retro Square Sunglasse...</td>\n",
       "      <td>80% off</td>\n",
       "    </tr>\n",
       "    <tr>\n",
       "      <th>3</th>\n",
       "      <td>NuVew</td>\n",
       "      <td>₹200</td>\n",
       "      <td>UV Protection, Gradient, Night Vision, Mirrore...</td>\n",
       "      <td>73% off</td>\n",
       "    </tr>\n",
       "    <tr>\n",
       "      <th>4</th>\n",
       "      <td>PHENOMENAL</td>\n",
       "      <td>₹570</td>\n",
       "      <td>UV Protection Round Sunglasses (Free Size)</td>\n",
       "      <td>72% off</td>\n",
       "    </tr>\n",
       "    <tr>\n",
       "      <th>...</th>\n",
       "      <td>...</td>\n",
       "      <td>...</td>\n",
       "      <td>...</td>\n",
       "      <td>...</td>\n",
       "    </tr>\n",
       "    <tr>\n",
       "      <th>95</th>\n",
       "      <td>NuVew</td>\n",
       "      <td>₹699</td>\n",
       "      <td>UV Protection, Riding Glasses Aviator Sunglass...</td>\n",
       "      <td>79% off</td>\n",
       "    </tr>\n",
       "    <tr>\n",
       "      <th>96</th>\n",
       "      <td>Cristiano Ronnie</td>\n",
       "      <td>₹499</td>\n",
       "      <td>Polarized, UV Protection, Riding Glasses Wayfa...</td>\n",
       "      <td>87% off</td>\n",
       "    </tr>\n",
       "    <tr>\n",
       "      <th>97</th>\n",
       "      <td>DEIXELS</td>\n",
       "      <td>₹1,085</td>\n",
       "      <td>UV Protection Wayfarer Sunglasses (55)</td>\n",
       "      <td>71% off</td>\n",
       "    </tr>\n",
       "    <tr>\n",
       "      <th>98</th>\n",
       "      <td>ROYAL SON</td>\n",
       "      <td>₹200</td>\n",
       "      <td>UV Protection Aviator Sunglasses (57)</td>\n",
       "      <td>69% off</td>\n",
       "    </tr>\n",
       "    <tr>\n",
       "      <th>99</th>\n",
       "      <td>Villain</td>\n",
       "      <td>₹679</td>\n",
       "      <td>UV Protection Aviator Sunglasses (54)</td>\n",
       "      <td>60% off</td>\n",
       "    </tr>\n",
       "  </tbody>\n",
       "</table>\n",
       "<p>100 rows × 4 columns</p>\n",
       "</div>"
      ],
      "text/plain": [
       "               Brand   Price  \\\n",
       "0       Singco India  ₹1,698   \n",
       "1              NuVew  ₹1,498   \n",
       "2          ROYAL SON    ₹225   \n",
       "3              NuVew    ₹200   \n",
       "4         PHENOMENAL    ₹570   \n",
       "..               ...     ...   \n",
       "95             NuVew    ₹699   \n",
       "96  Cristiano Ronnie    ₹499   \n",
       "97           DEIXELS  ₹1,085   \n",
       "98         ROYAL SON    ₹200   \n",
       "99           Villain    ₹679   \n",
       "\n",
       "                                         Product_Desc Discount  \n",
       "0                    Mirrored Aviator Sunglasses (55)  78% off  \n",
       "1    UV Protection, Gradient Wayfarer Sunglasses (55)  78% off  \n",
       "2   UV Protection, Mirrored Retro Square Sunglasse...  80% off  \n",
       "3   UV Protection, Gradient, Night Vision, Mirrore...  73% off  \n",
       "4          UV Protection Round Sunglasses (Free Size)  72% off  \n",
       "..                                                ...      ...  \n",
       "95  UV Protection, Riding Glasses Aviator Sunglass...  79% off  \n",
       "96  Polarized, UV Protection, Riding Glasses Wayfa...  87% off  \n",
       "97             UV Protection Wayfarer Sunglasses (55)  71% off  \n",
       "98              UV Protection Aviator Sunglasses (57)  69% off  \n",
       "99              UV Protection Aviator Sunglasses (54)  60% off  \n",
       "\n",
       "[100 rows x 4 columns]"
      ]
     },
     "execution_count": 30,
     "metadata": {},
     "output_type": "execute_result"
    }
   ],
   "source": [
    "sunglass_details"
   ]
  },
  {
   "cell_type": "markdown",
   "metadata": {},
   "source": [
    "### Ques7.: Scrape 100 reviews data from flipkart.com for iphone11 phone. These are \n",
    "### 1. Rating \n",
    "### 2. Review_summary \n",
    "### 3. Full review"
   ]
  },
  {
   "cell_type": "code",
   "execution_count": 32,
   "metadata": {},
   "outputs": [],
   "source": [
    "dv=webdriver.Chrome('chromedriver.exe')"
   ]
  },
  {
   "cell_type": "code",
   "execution_count": 33,
   "metadata": {},
   "outputs": [],
   "source": [
    "dv.get('https://www.flipkart.com/apple-iphone-11-black-64-gb-includes\u0002earpods-power\u0002adapter/p/itm0f37c2240b217?pid=MOBFKCTSVZAXUHGR&lid=LSTMOBFKCTSVZAXUHGREPBFGI&marketplace')"
   ]
  },
  {
   "cell_type": "code",
   "execution_count": 45,
   "metadata": {},
   "outputs": [
    {
     "name": "stdout",
     "output_type": "stream",
     "text": [
      "100\n"
     ]
    }
   ],
   "source": [
    "rat=[]\n",
    "    \n",
    "for j in range(10):\n",
    "    for i in dv.find_elements_by_xpath('//div[@class=\"_3LWZlK _1BLPMq\"]'):\n",
    "        rat.append(i.text)\n",
    "   \n",
    "    dv.find_element_by_xpath('//a[@class=\"_1LKTO3\"]').click()\n",
    "    time.sleep(3)\n",
    "    \n",
    "print(len(rat))"
   ]
  },
  {
   "cell_type": "code",
   "execution_count": 46,
   "metadata": {},
   "outputs": [
    {
     "name": "stdout",
     "output_type": "stream",
     "text": [
      "100\n"
     ]
    }
   ],
   "source": [
    "rew_sum=[]\n",
    "\n",
    "for j in range(10):\n",
    "    for i in dv.find_elements_by_xpath('//p[@class=\"_2-N8zT\"]'):\n",
    "        rew_sum.append(i.text)\n",
    "   \n",
    "    dv.find_element_by_xpath('//a[@class=\"_1LKTO3\"]').click()\n",
    "    time.sleep(3)\n",
    "    \n",
    "print(len(rew_sum))"
   ]
  },
  {
   "cell_type": "code",
   "execution_count": 47,
   "metadata": {},
   "outputs": [
    {
     "name": "stdout",
     "output_type": "stream",
     "text": [
      "100\n"
     ]
    }
   ],
   "source": [
    "full_rew=[]\n",
    "\n",
    "for j in range(10):\n",
    "    for i in dv.find_elements_by_xpath('//div[@class=\"t-ZTKy\"]'):\n",
    "        full_rew.append(i.text)\n",
    "   \n",
    "    dv.find_element_by_xpath('//a[@class=\"_1LKTO3\"]').click()\n",
    "    time.sleep(3)\n",
    "    \n",
    "print(len(full_rew))"
   ]
  },
  {
   "cell_type": "code",
   "execution_count": 48,
   "metadata": {},
   "outputs": [
    {
     "data": {
      "text/html": [
       "<div>\n",
       "<style scoped>\n",
       "    .dataframe tbody tr th:only-of-type {\n",
       "        vertical-align: middle;\n",
       "    }\n",
       "\n",
       "    .dataframe tbody tr th {\n",
       "        vertical-align: top;\n",
       "    }\n",
       "\n",
       "    .dataframe thead th {\n",
       "        text-align: right;\n",
       "    }\n",
       "</style>\n",
       "<table border=\"1\" class=\"dataframe\">\n",
       "  <thead>\n",
       "    <tr style=\"text-align: right;\">\n",
       "      <th></th>\n",
       "      <th>Ratings</th>\n",
       "      <th>Review_Summary</th>\n",
       "      <th>Full_Summary</th>\n",
       "    </tr>\n",
       "  </thead>\n",
       "  <tbody>\n",
       "    <tr>\n",
       "      <th>0</th>\n",
       "      <td>5</td>\n",
       "      <td>Brilliant</td>\n",
       "      <td>Iphone is just awesome.. battery backup is ver...</td>\n",
       "    </tr>\n",
       "    <tr>\n",
       "      <th>1</th>\n",
       "      <td>5</td>\n",
       "      <td>Perfect product!</td>\n",
       "      <td>It’s been almost a month since I have been usi...</td>\n",
       "    </tr>\n",
       "    <tr>\n",
       "      <th>2</th>\n",
       "      <td>5</td>\n",
       "      <td>Great product</td>\n",
       "      <td>What a camera .....just awesome ..you can feel...</td>\n",
       "    </tr>\n",
       "    <tr>\n",
       "      <th>3</th>\n",
       "      <td>5</td>\n",
       "      <td>Worth every penny</td>\n",
       "      <td>Excellent camera, good performance, no lag. Th...</td>\n",
       "    </tr>\n",
       "    <tr>\n",
       "      <th>4</th>\n",
       "      <td>4</td>\n",
       "      <td>Good choice</td>\n",
       "      <td>Awesome Phone. Slightly high price but worth. ...</td>\n",
       "    </tr>\n",
       "    <tr>\n",
       "      <th>...</th>\n",
       "      <td>...</td>\n",
       "      <td>...</td>\n",
       "      <td>...</td>\n",
       "    </tr>\n",
       "    <tr>\n",
       "      <th>95</th>\n",
       "      <td>5</td>\n",
       "      <td>Terrific</td>\n",
       "      <td>Really worth of money. i just love it. It is t...</td>\n",
       "    </tr>\n",
       "    <tr>\n",
       "      <th>96</th>\n",
       "      <td>5</td>\n",
       "      <td>Classy product</td>\n",
       "      <td>Superb Product !!!\\nA big and worthy upgrade f...</td>\n",
       "    </tr>\n",
       "    <tr>\n",
       "      <th>97</th>\n",
       "      <td>5</td>\n",
       "      <td>Highly recommended</td>\n",
       "      <td>It's my first time to use iOS phone and I am l...</td>\n",
       "    </tr>\n",
       "    <tr>\n",
       "      <th>98</th>\n",
       "      <td>5</td>\n",
       "      <td>Wonderful</td>\n",
       "      <td>This is my first ever I phone. Before this I w...</td>\n",
       "    </tr>\n",
       "    <tr>\n",
       "      <th>99</th>\n",
       "      <td>5</td>\n",
       "      <td>Brilliant</td>\n",
       "      <td>I have migrated from OP 7pro... and trust me, ...</td>\n",
       "    </tr>\n",
       "  </tbody>\n",
       "</table>\n",
       "<p>100 rows × 3 columns</p>\n",
       "</div>"
      ],
      "text/plain": [
       "   Ratings      Review_Summary  \\\n",
       "0        5           Brilliant   \n",
       "1        5    Perfect product!   \n",
       "2        5       Great product   \n",
       "3        5   Worth every penny   \n",
       "4        4         Good choice   \n",
       "..     ...                 ...   \n",
       "95       5            Terrific   \n",
       "96       5      Classy product   \n",
       "97       5  Highly recommended   \n",
       "98       5           Wonderful   \n",
       "99       5           Brilliant   \n",
       "\n",
       "                                         Full_Summary  \n",
       "0   Iphone is just awesome.. battery backup is ver...  \n",
       "1   It’s been almost a month since I have been usi...  \n",
       "2   What a camera .....just awesome ..you can feel...  \n",
       "3   Excellent camera, good performance, no lag. Th...  \n",
       "4   Awesome Phone. Slightly high price but worth. ...  \n",
       "..                                                ...  \n",
       "95  Really worth of money. i just love it. It is t...  \n",
       "96  Superb Product !!!\\nA big and worthy upgrade f...  \n",
       "97  It's my first time to use iOS phone and I am l...  \n",
       "98  This is my first ever I phone. Before this I w...  \n",
       "99  I have migrated from OP 7pro... and trust me, ...  \n",
       "\n",
       "[100 rows x 3 columns]"
      ]
     },
     "execution_count": 48,
     "metadata": {},
     "output_type": "execute_result"
    }
   ],
   "source": [
    "iPhone11_review=pd.DataFrame({})\n",
    "iPhone11_review['Ratings']=rat\n",
    "iPhone11_review['Review_Summary']=rew_sum\n",
    "iPhone11_review['Full_Summary']=full_rew\n",
    "\n",
    "iPhone11_review"
   ]
  },
  {
   "cell_type": "markdown",
   "metadata": {},
   "source": [
    "### Ques8. Scrape data for first 100 sneakers you find when you visit flipkart.com and search for “sneakers” in the search field.You have to scrape 4 attributes of each sneaker :\n",
    "### 1. Brand\n",
    "### 2. Product Description\n",
    "### 3. Price\n",
    "### 4. discount %\n"
   ]
  },
  {
   "cell_type": "code",
   "execution_count": 49,
   "metadata": {},
   "outputs": [],
   "source": [
    "dv=webdriver.Chrome('chromedriver.exe')"
   ]
  },
  {
   "cell_type": "code",
   "execution_count": 50,
   "metadata": {},
   "outputs": [],
   "source": [
    "dv.get('https://www.flipkart.com/')"
   ]
  },
  {
   "cell_type": "code",
   "execution_count": 51,
   "metadata": {},
   "outputs": [],
   "source": [
    "search=dv.find_element_by_xpath('//input[@class=\"_3704LK\"]')\n",
    "search.send_keys(\"sneakers\")"
   ]
  },
  {
   "cell_type": "code",
   "execution_count": 52,
   "metadata": {},
   "outputs": [],
   "source": [
    "search_btn=dv.find_element_by_xpath(\"//button[@class='L0Z3Pu']\")\n",
    "search_btn.click()"
   ]
  },
  {
   "cell_type": "code",
   "execution_count": 53,
   "metadata": {},
   "outputs": [],
   "source": [
    "brand=[]\n",
    "\n",
    "for i in range(3):\n",
    "    for j in dv.find_elements_by_xpath('//div[@class=\"_2WkVRV\"]'):\n",
    "        brand.append(j.text)\n",
    "        \n",
    "    dv.find_element_by_xpath('//a[@class=\"_1LKTO3\"]').click()\n",
    "    time.sleep(5)"
   ]
  },
  {
   "cell_type": "code",
   "execution_count": 54,
   "metadata": {},
   "outputs": [
    {
     "name": "stdout",
     "output_type": "stream",
     "text": [
      "120\n"
     ]
    }
   ],
   "source": [
    "print(len(brand))"
   ]
  },
  {
   "cell_type": "code",
   "execution_count": 57,
   "metadata": {},
   "outputs": [],
   "source": [
    "prod_ds=[]\n",
    "\n",
    "for i in range(3):\n",
    "    for j in dv.find_elements_by_xpath('//div[@class=\"_2WkVRV\"]'):\n",
    "        prod_ds.append(j.text)\n",
    "        \n",
    "    dv.find_element_by_xpath('//a[@class=\"_1LKTO3\"]').click()\n",
    "    time.sleep(5)"
   ]
  },
  {
   "cell_type": "code",
   "execution_count": 58,
   "metadata": {},
   "outputs": [
    {
     "name": "stdout",
     "output_type": "stream",
     "text": [
      "120\n"
     ]
    }
   ],
   "source": [
    "print(len(prod_ds))"
   ]
  },
  {
   "cell_type": "code",
   "execution_count": 59,
   "metadata": {},
   "outputs": [],
   "source": [
    "price=[]\n",
    "\n",
    "for i in range(3):\n",
    "    for j in dv.find_elements_by_xpath('//div[@class=\"_30jeq3\"]'):\n",
    "        price.append(j.text)\n",
    "        \n",
    "    dv.find_element_by_xpath('//a[@class=\"_1LKTO3\"]').click()\n",
    "    time.sleep(5)"
   ]
  },
  {
   "cell_type": "code",
   "execution_count": 60,
   "metadata": {},
   "outputs": [
    {
     "name": "stdout",
     "output_type": "stream",
     "text": [
      "120\n"
     ]
    }
   ],
   "source": [
    "print(len(price))"
   ]
  },
  {
   "cell_type": "code",
   "execution_count": 61,
   "metadata": {},
   "outputs": [],
   "source": [
    "disc=[]\n",
    "\n",
    "for i in range(3):\n",
    "    for j in dv.find_elements_by_xpath('//div[@class=\"_3Ay6Sb\"]'):\n",
    "        disc.append(j.text)\n",
    "        \n",
    "    dv.find_element_by_xpath('//a[@class=\"_1LKTO3\"]').click()\n",
    "    time.sleep(5)"
   ]
  },
  {
   "cell_type": "code",
   "execution_count": 62,
   "metadata": {},
   "outputs": [
    {
     "name": "stdout",
     "output_type": "stream",
     "text": [
      "120\n"
     ]
    }
   ],
   "source": [
    "print(len(disc))"
   ]
  },
  {
   "cell_type": "code",
   "execution_count": 63,
   "metadata": {},
   "outputs": [
    {
     "data": {
      "text/html": [
       "<div>\n",
       "<style scoped>\n",
       "    .dataframe tbody tr th:only-of-type {\n",
       "        vertical-align: middle;\n",
       "    }\n",
       "\n",
       "    .dataframe tbody tr th {\n",
       "        vertical-align: top;\n",
       "    }\n",
       "\n",
       "    .dataframe thead th {\n",
       "        text-align: right;\n",
       "    }\n",
       "</style>\n",
       "<table border=\"1\" class=\"dataframe\">\n",
       "  <thead>\n",
       "    <tr style=\"text-align: right;\">\n",
       "      <th></th>\n",
       "      <th>Brand</th>\n",
       "      <th>Product_Desc</th>\n",
       "      <th>Price</th>\n",
       "      <th>Discount</th>\n",
       "    </tr>\n",
       "  </thead>\n",
       "  <tbody>\n",
       "    <tr>\n",
       "      <th>0</th>\n",
       "      <td>BRUTON</td>\n",
       "      <td>bluemaker</td>\n",
       "      <td>₹449</td>\n",
       "      <td>52% off</td>\n",
       "    </tr>\n",
       "    <tr>\n",
       "      <th>1</th>\n",
       "      <td>3SIX5</td>\n",
       "      <td>SWIGGY</td>\n",
       "      <td>₹399</td>\n",
       "      <td>71% off</td>\n",
       "    </tr>\n",
       "    <tr>\n",
       "      <th>2</th>\n",
       "      <td>India hub</td>\n",
       "      <td>SPARX</td>\n",
       "      <td>₹404</td>\n",
       "      <td>15% off</td>\n",
       "    </tr>\n",
       "    <tr>\n",
       "      <th>3</th>\n",
       "      <td>ORICUM</td>\n",
       "      <td>Extoes</td>\n",
       "      <td>₹377</td>\n",
       "      <td>72% off</td>\n",
       "    </tr>\n",
       "    <tr>\n",
       "      <th>4</th>\n",
       "      <td>PEHANOSA</td>\n",
       "      <td>HOTSTYLE</td>\n",
       "      <td>₹474</td>\n",
       "      <td>43% off</td>\n",
       "    </tr>\n",
       "    <tr>\n",
       "      <th>...</th>\n",
       "      <td>...</td>\n",
       "      <td>...</td>\n",
       "      <td>...</td>\n",
       "      <td>...</td>\n",
       "    </tr>\n",
       "    <tr>\n",
       "      <th>95</th>\n",
       "      <td>BRUTON</td>\n",
       "      <td>BRUTON</td>\n",
       "      <td>₹1,272</td>\n",
       "      <td>31% off</td>\n",
       "    </tr>\n",
       "    <tr>\n",
       "      <th>96</th>\n",
       "      <td>Chevit</td>\n",
       "      <td>Alfiya</td>\n",
       "      <td>₹473</td>\n",
       "      <td>62% off</td>\n",
       "    </tr>\n",
       "    <tr>\n",
       "      <th>97</th>\n",
       "      <td>HOTSTYLE</td>\n",
       "      <td>Magnolia</td>\n",
       "      <td>₹448</td>\n",
       "      <td>68% off</td>\n",
       "    </tr>\n",
       "    <tr>\n",
       "      <th>98</th>\n",
       "      <td>TR</td>\n",
       "      <td>Robbie jones</td>\n",
       "      <td>₹379</td>\n",
       "      <td>52% off</td>\n",
       "    </tr>\n",
       "    <tr>\n",
       "      <th>99</th>\n",
       "      <td>Fashion Faster</td>\n",
       "      <td>Xtoon</td>\n",
       "      <td>₹525</td>\n",
       "      <td>80% off</td>\n",
       "    </tr>\n",
       "  </tbody>\n",
       "</table>\n",
       "<p>100 rows × 4 columns</p>\n",
       "</div>"
      ],
      "text/plain": [
       "             Brand  Product_Desc   Price Discount\n",
       "0           BRUTON     bluemaker    ₹449  52% off\n",
       "1            3SIX5        SWIGGY    ₹399  71% off\n",
       "2        India hub         SPARX    ₹404  15% off\n",
       "3           ORICUM        Extoes    ₹377  72% off\n",
       "4         PEHANOSA      HOTSTYLE    ₹474  43% off\n",
       "..             ...           ...     ...      ...\n",
       "95          BRUTON        BRUTON  ₹1,272  31% off\n",
       "96          Chevit        Alfiya    ₹473  62% off\n",
       "97        HOTSTYLE      Magnolia    ₹448  68% off\n",
       "98              TR  Robbie jones    ₹379  52% off\n",
       "99  Fashion Faster         Xtoon    ₹525  80% off\n",
       "\n",
       "[100 rows x 4 columns]"
      ]
     },
     "execution_count": 63,
     "metadata": {},
     "output_type": "execute_result"
    }
   ],
   "source": [
    "Sneakers_details=pd.DataFrame({})\n",
    "Sneakers_details['Brand']=brand[:100]\n",
    "Sneakers_details['Product_Desc']=prod_ds[:100]\n",
    "Sneakers_details['Price']=price[:100]\n",
    "Sneakers_details['Discount']=disc[:100]\n",
    "\n",
    "Sneakers_details"
   ]
  },
  {
   "cell_type": "markdown",
   "metadata": {},
   "source": [
    "### Ques9.Go to the link - https://www.myntra.com/shoes Set Price filter to “Rs. 6649 to Rs. 13099” , Color filter to “Black”.\n",
    "### And then scrape First 100 shoes data you get. The data should include “Brand” of the shoes , Short Shoe description, price of the shoes."
   ]
  },
  {
   "cell_type": "code",
   "execution_count": 64,
   "metadata": {},
   "outputs": [],
   "source": [
    "d=webdriver.Chrome('chromedriver.exe')"
   ]
  },
  {
   "cell_type": "code",
   "execution_count": 65,
   "metadata": {},
   "outputs": [],
   "source": [
    "d.get('https://www.myntra.com/shoes')"
   ]
  },
  {
   "cell_type": "code",
   "execution_count": 66,
   "metadata": {},
   "outputs": [],
   "source": [
    "search=d.find_element_by_xpath('//input[@class=\"desktop-searchBar\"]')\n",
    "search.send_keys(\"shoes\")"
   ]
  },
  {
   "cell_type": "code",
   "execution_count": 67,
   "metadata": {},
   "outputs": [],
   "source": [
    "search_btn=d.find_element_by_xpath('//a[@class=\"desktop-submit\"]')\n",
    "search_btn.click()"
   ]
  },
  {
   "cell_type": "code",
   "execution_count": 70,
   "metadata": {},
   "outputs": [],
   "source": [
    "filter_price=d.find_element_by_xpath('//*[@id=\"mountRoot\"]/div/div[1]/main/div[3]/div[1]/section/div/div[5]/ul/li[2]/label/div')\n",
    "filter_price.click()"
   ]
  },
  {
   "cell_type": "code",
   "execution_count": 69,
   "metadata": {},
   "outputs": [],
   "source": [
    "filter_color=d.find_element_by_xpath('//*[@id=\"mountRoot\"]/div/div[1]/main/div[3]/div[1]/section/div/div[6]/ul/li[1]/label/div')\n",
    "filter_color.click()"
   ]
  },
  {
   "cell_type": "code",
   "execution_count": 71,
   "metadata": {},
   "outputs": [],
   "source": [
    "brand=[]\n",
    "for i in range(2):\n",
    "    for j in d.find_elements_by_xpath('//h3[@class=\"product-brand\"]'):\n",
    "        brand.append(j.text)\n",
    "        \n",
    "    d.find_element_by_xpath('//a[@rel=\"next\"]').click()\n",
    "    time.sleep(3)"
   ]
  },
  {
   "cell_type": "code",
   "execution_count": 72,
   "metadata": {},
   "outputs": [
    {
     "name": "stdout",
     "output_type": "stream",
     "text": [
      "100\n"
     ]
    }
   ],
   "source": [
    "print(len(brand))"
   ]
  },
  {
   "cell_type": "code",
   "execution_count": 73,
   "metadata": {},
   "outputs": [],
   "source": [
    "desc=[]\n",
    "\n",
    "for i in range(2):\n",
    "    for j in d.find_elements_by_xpath('//h4[@class=\"product-product\"]'):\n",
    "        desc.append(j.text)\n",
    "        \n",
    "    d.find_element_by_xpath('//a[@rel=\"next\"]').click()\n",
    "    time.sleep(3)"
   ]
  },
  {
   "cell_type": "code",
   "execution_count": 74,
   "metadata": {},
   "outputs": [
    {
     "name": "stdout",
     "output_type": "stream",
     "text": [
      "100\n"
     ]
    }
   ],
   "source": [
    "print(len(desc))"
   ]
  },
  {
   "cell_type": "code",
   "execution_count": 78,
   "metadata": {},
   "outputs": [],
   "source": [
    "price=[]\n",
    "\n",
    "for i in range(2):\n",
    "    for j in d.find_elements_by_xpath('//div[@class=\"product-price\"]/span[1]'):\n",
    "        price.append(j.text)\n",
    "        \n",
    "    d.find_element_by_xpath('//a[@rel=\"next\"]').click()\n",
    "    time.sleep(3)"
   ]
  },
  {
   "cell_type": "code",
   "execution_count": 79,
   "metadata": {},
   "outputs": [
    {
     "name": "stdout",
     "output_type": "stream",
     "text": [
      "100\n"
     ]
    }
   ],
   "source": [
    "print(len(price))"
   ]
  },
  {
   "cell_type": "code",
   "execution_count": 80,
   "metadata": {},
   "outputs": [
    {
     "data": {
      "text/html": [
       "<div>\n",
       "<style scoped>\n",
       "    .dataframe tbody tr th:only-of-type {\n",
       "        vertical-align: middle;\n",
       "    }\n",
       "\n",
       "    .dataframe tbody tr th {\n",
       "        vertical-align: top;\n",
       "    }\n",
       "\n",
       "    .dataframe thead th {\n",
       "        text-align: right;\n",
       "    }\n",
       "</style>\n",
       "<table border=\"1\" class=\"dataframe\">\n",
       "  <thead>\n",
       "    <tr style=\"text-align: right;\">\n",
       "      <th></th>\n",
       "      <th>Brand</th>\n",
       "      <th>Short_Desc</th>\n",
       "      <th>Price</th>\n",
       "    </tr>\n",
       "  </thead>\n",
       "  <tbody>\n",
       "    <tr>\n",
       "      <th>0</th>\n",
       "      <td>Nike</td>\n",
       "      <td>Women AIR MAX VIVA Sneakers</td>\n",
       "      <td>Rs. 7192Rs. 8990</td>\n",
       "    </tr>\n",
       "    <tr>\n",
       "      <th>1</th>\n",
       "      <td>ALDO</td>\n",
       "      <td>Men REACT MILER 2 Running</td>\n",
       "      <td>Rs. 10999</td>\n",
       "    </tr>\n",
       "    <tr>\n",
       "      <th>2</th>\n",
       "      <td>Nike</td>\n",
       "      <td>Men Formal Leather Brogues</td>\n",
       "      <td>Rs. 10999</td>\n",
       "    </tr>\n",
       "    <tr>\n",
       "      <th>3</th>\n",
       "      <td>Nike</td>\n",
       "      <td>Men Solid Driving Shoes</td>\n",
       "      <td>Rs. 10990</td>\n",
       "    </tr>\n",
       "    <tr>\n",
       "      <th>4</th>\n",
       "      <td>Nike</td>\n",
       "      <td>Men Solid Leather Formal Loafers</td>\n",
       "      <td>Rs. 9793Rs. 13990</td>\n",
       "    </tr>\n",
       "    <tr>\n",
       "      <th>...</th>\n",
       "      <td>...</td>\n",
       "      <td>...</td>\n",
       "      <td>...</td>\n",
       "    </tr>\n",
       "    <tr>\n",
       "      <th>95</th>\n",
       "      <td>Heel &amp; Buckle London</td>\n",
       "      <td>Men Woven Design Sneakers</td>\n",
       "      <td>Rs. 6993Rs. 9990</td>\n",
       "    </tr>\n",
       "    <tr>\n",
       "      <th>96</th>\n",
       "      <td>Nike</td>\n",
       "      <td>Men Charged Escape 3 Evo</td>\n",
       "      <td>Rs. 6999</td>\n",
       "    </tr>\n",
       "    <tr>\n",
       "      <th>97</th>\n",
       "      <td>UNDER ARMOUR</td>\n",
       "      <td>Men Future Leather Sneakers</td>\n",
       "      <td>Rs. 7999Rs. 9999</td>\n",
       "    </tr>\n",
       "    <tr>\n",
       "      <th>98</th>\n",
       "      <td>ASICS</td>\n",
       "      <td>Unisex Delegation EX Sneakers</td>\n",
       "      <td>Rs. 10499Rs. 14999</td>\n",
       "    </tr>\n",
       "    <tr>\n",
       "      <th>99</th>\n",
       "      <td>Bugatti</td>\n",
       "      <td>Unisex RS-Fast Sneakers</td>\n",
       "      <td>Rs. 11999</td>\n",
       "    </tr>\n",
       "  </tbody>\n",
       "</table>\n",
       "<p>100 rows × 3 columns</p>\n",
       "</div>"
      ],
      "text/plain": [
       "                   Brand                        Short_Desc               Price\n",
       "0                   Nike       Women AIR MAX VIVA Sneakers    Rs. 7192Rs. 8990\n",
       "1                   ALDO         Men REACT MILER 2 Running           Rs. 10999\n",
       "2                   Nike        Men Formal Leather Brogues           Rs. 10999\n",
       "3                   Nike           Men Solid Driving Shoes           Rs. 10990\n",
       "4                   Nike  Men Solid Leather Formal Loafers   Rs. 9793Rs. 13990\n",
       "..                   ...                               ...                 ...\n",
       "95  Heel & Buckle London         Men Woven Design Sneakers    Rs. 6993Rs. 9990\n",
       "96                  Nike          Men Charged Escape 3 Evo            Rs. 6999\n",
       "97          UNDER ARMOUR       Men Future Leather Sneakers    Rs. 7999Rs. 9999\n",
       "98                 ASICS     Unisex Delegation EX Sneakers  Rs. 10499Rs. 14999\n",
       "99               Bugatti           Unisex RS-Fast Sneakers           Rs. 11999\n",
       "\n",
       "[100 rows x 3 columns]"
      ]
     },
     "execution_count": 80,
     "metadata": {},
     "output_type": "execute_result"
    }
   ],
   "source": [
    "Shoes_details=pd.DataFrame({})\n",
    "Shoes_details['Brand']=brand\n",
    "Shoes_details['Short_Desc']=desc\n",
    "Shoes_details['Price']=price\n",
    "\n",
    "Shoes_details"
   ]
  },
  {
   "cell_type": "markdown",
   "metadata": {},
   "source": [
    "### Ques10.Go to webpage https://www.amazon.in/ Enter “Laptop” in the search field and then click the search icon.Then set CPU Type filter to “Intel Core i7” and “Intel Core i9”. After setting the filters scrape first 10 laptops data. You have to scrape 3 attributes for each laptop:\n",
    "### 1. title\n",
    "### 2. Ratings\n",
    "### 3. Price"
   ]
  },
  {
   "cell_type": "code",
   "execution_count": 48,
   "metadata": {},
   "outputs": [],
   "source": [
    "d=webdriver.Chrome('chromedriver.exe')"
   ]
  },
  {
   "cell_type": "code",
   "execution_count": 49,
   "metadata": {},
   "outputs": [],
   "source": [
    "d.get('https://www.amazon.in/')"
   ]
  },
  {
   "cell_type": "code",
   "execution_count": 50,
   "metadata": {},
   "outputs": [],
   "source": [
    "search=d.find_element_by_id('twotabsearchtextbox')\n",
    "search.send_keys(\"Laptop\")"
   ]
  },
  {
   "cell_type": "code",
   "execution_count": 51,
   "metadata": {},
   "outputs": [],
   "source": [
    "search_btn=d.find_element_by_id('nav-search-submit-text')\n",
    "search_btn.click()"
   ]
  },
  {
   "cell_type": "code",
   "execution_count": 52,
   "metadata": {},
   "outputs": [],
   "source": [
    "filter_cpu=d.find_element_by_xpath('//*[@id=\"p_n_feature_thirteen_browse-bin/12598163031\"]/span/a/div/label/i')\n",
    "filter_cpu.click()"
   ]
  },
  {
   "cell_type": "code",
   "execution_count": 53,
   "metadata": {},
   "outputs": [],
   "source": [
    "filter_cpu2=d.find_element_by_xpath('//*[@id=\"p_n_feature_thirteen_browse-bin/16757432031\"]/span/a/div/label/i')\n",
    "filter_cpu2.click()"
   ]
  },
  {
   "cell_type": "code",
   "execution_count": null,
   "metadata": {},
   "outputs": [],
   "source": [
    "#for i in url[:10]:\n",
    " #   d.get(i)\n",
    "  #  time.sleep(3)"
   ]
  },
  {
   "cell_type": "code",
   "execution_count": 54,
   "metadata": {},
   "outputs": [
    {
     "name": "stdout",
     "output_type": "stream",
     "text": [
      "24\n"
     ]
    }
   ],
   "source": [
    "title=[]\n",
    "\n",
    "for j in d.find_elements_by_xpath('//h2[@class=\"a-size-mini a-spacing-none a-color-base s-line-clamp-2\"]'):\n",
    "    title.append(j.text)\n",
    "    \n",
    "\n",
    "print(len(title))"
   ]
  },
  {
   "cell_type": "code",
   "execution_count": 56,
   "metadata": {},
   "outputs": [
    {
     "name": "stdout",
     "output_type": "stream",
     "text": [
      "22\n"
     ]
    }
   ],
   "source": [
    "price=[]\n",
    "\n",
    "for i in d.find_elements_by_xpath('//span[@class=\"a-price-whole\"]'):\n",
    "    price.append(i.text)\n",
    "    \n",
    "\n",
    "print(len(price))"
   ]
  },
  {
   "cell_type": "code",
   "execution_count": 57,
   "metadata": {},
   "outputs": [],
   "source": [
    "url=[]\n",
    "for i in d.find_elements_by_xpath('//h2[@class=\"a-size-mini a-spacing-none a-color-base s-line-clamp-2\"]/a'):\n",
    "    url.append(i.get_attribute('href'))"
   ]
  },
  {
   "cell_type": "code",
   "execution_count": 58,
   "metadata": {},
   "outputs": [
    {
     "name": "stdout",
     "output_type": "stream",
     "text": [
      "10\n"
     ]
    }
   ],
   "source": [
    "rat=[]\n",
    "for i in url[:10]:\n",
    "    d.get(i)\n",
    "    time.sleep(3)\n",
    "    try:\n",
    "        tags=d.find_element_by_xpath('//span[@class=\"a-size-medium a-color-base\"]')\n",
    "        rat.append(tags.text)\n",
    "    except:\n",
    "        rat.append(\"none\")\n",
    "\n",
    "print(len(rat))"
   ]
  },
  {
   "cell_type": "code",
   "execution_count": 59,
   "metadata": {},
   "outputs": [
    {
     "data": {
      "text/html": [
       "<div>\n",
       "<style scoped>\n",
       "    .dataframe tbody tr th:only-of-type {\n",
       "        vertical-align: middle;\n",
       "    }\n",
       "\n",
       "    .dataframe tbody tr th {\n",
       "        vertical-align: top;\n",
       "    }\n",
       "\n",
       "    .dataframe thead th {\n",
       "        text-align: right;\n",
       "    }\n",
       "</style>\n",
       "<table border=\"1\" class=\"dataframe\">\n",
       "  <thead>\n",
       "    <tr style=\"text-align: right;\">\n",
       "      <th></th>\n",
       "      <th>Laptop_Name</th>\n",
       "      <th>Price</th>\n",
       "      <th>Ratings</th>\n",
       "    </tr>\n",
       "  </thead>\n",
       "  <tbody>\n",
       "    <tr>\n",
       "      <th>0</th>\n",
       "      <td>Dell Inspiron 5410 14\" FHD Touch Display 2in1 ...</td>\n",
       "      <td>97,990</td>\n",
       "      <td>none</td>\n",
       "    </tr>\n",
       "    <tr>\n",
       "      <th>1</th>\n",
       "      <td>Mi Notebook Horizon Edition 14 Intel Core i5-1...</td>\n",
       "      <td>54,999</td>\n",
       "      <td>4.4 out of 5</td>\n",
       "    </tr>\n",
       "    <tr>\n",
       "      <th>2</th>\n",
       "      <td>Lenovo Ideapad 5 Intel i7 11th Gen 15.6\" Thin ...</td>\n",
       "      <td>76,990</td>\n",
       "      <td>5 out of 5</td>\n",
       "    </tr>\n",
       "    <tr>\n",
       "      <th>3</th>\n",
       "      <td>HP Pavilion Gaming 10th Gen Intel Core i7 Proc...</td>\n",
       "      <td>86,990</td>\n",
       "      <td>4 out of 5</td>\n",
       "    </tr>\n",
       "    <tr>\n",
       "      <th>4</th>\n",
       "      <td>Life Digital Laptop 15.6-inch (39.62 cms) (Int...</td>\n",
       "      <td>26,990</td>\n",
       "      <td>3.1 out of 5</td>\n",
       "    </tr>\n",
       "    <tr>\n",
       "      <th>5</th>\n",
       "      <td>HP Pavilion (2021) Thin &amp; Light 11th Gen Core ...</td>\n",
       "      <td>84,990</td>\n",
       "      <td>4.5 out of 5</td>\n",
       "    </tr>\n",
       "    <tr>\n",
       "      <th>6</th>\n",
       "      <td>(Renewed) ASUS ROG Strix Scar II GL504GM-ES155...</td>\n",
       "      <td>1,46,192</td>\n",
       "      <td>none</td>\n",
       "    </tr>\n",
       "    <tr>\n",
       "      <th>7</th>\n",
       "      <td>HP 14 Thin &amp; Light 14\" (35.56cms) FHD Laptop (...</td>\n",
       "      <td>89,990</td>\n",
       "      <td>4.7 out of 5</td>\n",
       "    </tr>\n",
       "    <tr>\n",
       "      <th>8</th>\n",
       "      <td>ASUS ROG Zephyrus Duo 15, 15.6\" 4K UHD, Intel ...</td>\n",
       "      <td>2,69,990</td>\n",
       "      <td>3.8 out of 5</td>\n",
       "    </tr>\n",
       "    <tr>\n",
       "      <th>9</th>\n",
       "      <td>Lenovo Yoga 7 11th Gen Intel Core i7 14\" (35.5...</td>\n",
       "      <td>97,990</td>\n",
       "      <td>4.6 out of 5</td>\n",
       "    </tr>\n",
       "  </tbody>\n",
       "</table>\n",
       "</div>"
      ],
      "text/plain": [
       "                                         Laptop_Name     Price       Ratings\n",
       "0  Dell Inspiron 5410 14\" FHD Touch Display 2in1 ...    97,990          none\n",
       "1  Mi Notebook Horizon Edition 14 Intel Core i5-1...    54,999  4.4 out of 5\n",
       "2  Lenovo Ideapad 5 Intel i7 11th Gen 15.6\" Thin ...    76,990    5 out of 5\n",
       "3  HP Pavilion Gaming 10th Gen Intel Core i7 Proc...    86,990    4 out of 5\n",
       "4  Life Digital Laptop 15.6-inch (39.62 cms) (Int...    26,990  3.1 out of 5\n",
       "5  HP Pavilion (2021) Thin & Light 11th Gen Core ...    84,990  4.5 out of 5\n",
       "6  (Renewed) ASUS ROG Strix Scar II GL504GM-ES155...  1,46,192          none\n",
       "7  HP 14 Thin & Light 14\" (35.56cms) FHD Laptop (...    89,990  4.7 out of 5\n",
       "8  ASUS ROG Zephyrus Duo 15, 15.6\" 4K UHD, Intel ...  2,69,990  3.8 out of 5\n",
       "9  Lenovo Yoga 7 11th Gen Intel Core i7 14\" (35.5...    97,990  4.6 out of 5"
      ]
     },
     "execution_count": 59,
     "metadata": {},
     "output_type": "execute_result"
    }
   ],
   "source": [
    "Laptop_details=pd.DataFrame({})\n",
    "Laptop_details['Laptop_Name']=title[:10]\n",
    "Laptop_details['Price']=price[:10]\n",
    "Laptop_details['Ratings']=rat\n",
    "\n",
    "Laptop_details"
   ]
  },
  {
   "cell_type": "markdown",
   "metadata": {},
   "source": [
    "### Ques11.Write a python program to scrape details of all the mobile phones under Rs. 20,000 listed on Amazon.in.The scraped data should include Product Name, Price, Image URL and Average Rating.\n"
   ]
  },
  {
   "cell_type": "code",
   "execution_count": 80,
   "metadata": {},
   "outputs": [],
   "source": [
    "d=webdriver.Chrome('chromedriver.exe')"
   ]
  },
  {
   "cell_type": "code",
   "execution_count": 81,
   "metadata": {},
   "outputs": [],
   "source": [
    "d.get('https://www.amazon.in/')"
   ]
  },
  {
   "cell_type": "code",
   "execution_count": 82,
   "metadata": {},
   "outputs": [],
   "source": [
    "search=d.find_element_by_id('twotabsearchtextbox')\n",
    "search.send_keys(\"Phones under 20,000\")"
   ]
  },
  {
   "cell_type": "code",
   "execution_count": 83,
   "metadata": {},
   "outputs": [],
   "source": [
    "search_btn=d.find_element_by_id('nav-search-submit-text')\n",
    "search_btn.click()"
   ]
  },
  {
   "cell_type": "code",
   "execution_count": 89,
   "metadata": {},
   "outputs": [],
   "source": [
    "url=[]\n",
    "\n",
    "for i in d.find_elements_by_xpath('//h2[@class=\"a-size-mini a-spacing-none a-color-base s-line-clamp-2\"]/a'):\n",
    "    url.append(i.get_attribute('href'))"
   ]
  },
  {
   "cell_type": "code",
   "execution_count": 84,
   "metadata": {},
   "outputs": [
    {
     "name": "stdout",
     "output_type": "stream",
     "text": [
      "20\n"
     ]
    }
   ],
   "source": [
    "phn_name=[]\n",
    "for i in d.find_elements_by_xpath('//h2[@class=\"a-size-mini a-spacing-none a-color-base s-line-clamp-2\"]'):\n",
    "    phn_name.append(i.text)\n",
    "\n",
    "print(len(phn_name))"
   ]
  },
  {
   "cell_type": "code",
   "execution_count": 95,
   "metadata": {},
   "outputs": [
    {
     "name": "stdout",
     "output_type": "stream",
     "text": [
      "20\n"
     ]
    }
   ],
   "source": [
    "img_url=[]\n",
    "for i in d.find_elements_by_xpath('//img[@class=\"s-image\"]'):\n",
    "    img_url.append(i.get_attribute('src'))\n",
    "    \n",
    "print(len(img_url))"
   ]
  },
  {
   "cell_type": "code",
   "execution_count": 90,
   "metadata": {},
   "outputs": [
    {
     "name": "stdout",
     "output_type": "stream",
     "text": [
      "20\n"
     ]
    }
   ],
   "source": [
    "rat=[]\n",
    "for i in url:\n",
    "    d.get(i)\n",
    "    time.sleep(3)\n",
    "    try:\n",
    "        tags=d.find_element_by_xpath('//span[@class=\"a-size-medium a-color-base\"]')\n",
    "        rat.append(tags.text)\n",
    "    except:\n",
    "        rat.append(\"none\")\n",
    "\n",
    "print(len(rat))"
   ]
  },
  {
   "cell_type": "code",
   "execution_count": 92,
   "metadata": {},
   "outputs": [
    {
     "name": "stdout",
     "output_type": "stream",
     "text": [
      "20\n"
     ]
    }
   ],
   "source": [
    "price=[]\n",
    "\n",
    "for i in url:\n",
    "    d.get(i)\n",
    "    time.sleep(3)\n",
    "    pr=d.find_element_by_xpath('/html/body/div[2]/div[2]/div[5]/div[4]/div[4]/div[9]/div[1]/div/table/tbody/tr[2]/td[2]/span[1]')\n",
    "    price.append(pr.text)\n",
    "\n",
    "print(len(price))"
   ]
  },
  {
   "cell_type": "code",
   "execution_count": 96,
   "metadata": {},
   "outputs": [
    {
     "data": {
      "text/html": [
       "<div>\n",
       "<style scoped>\n",
       "    .dataframe tbody tr th:only-of-type {\n",
       "        vertical-align: middle;\n",
       "    }\n",
       "\n",
       "    .dataframe tbody tr th {\n",
       "        vertical-align: top;\n",
       "    }\n",
       "\n",
       "    .dataframe thead th {\n",
       "        text-align: right;\n",
       "    }\n",
       "</style>\n",
       "<table border=\"1\" class=\"dataframe\">\n",
       "  <thead>\n",
       "    <tr style=\"text-align: right;\">\n",
       "      <th></th>\n",
       "      <th>Phone_name</th>\n",
       "      <th>Price</th>\n",
       "      <th>Ratings</th>\n",
       "      <th>Image_url</th>\n",
       "    </tr>\n",
       "  </thead>\n",
       "  <tbody>\n",
       "    <tr>\n",
       "      <th>0</th>\n",
       "      <td>iQOO Z3 5G (Ace Black, 8GB RAM, 128GB Storage)...</td>\n",
       "      <td>₹ 20,990.00</td>\n",
       "      <td>4.2 out of 5</td>\n",
       "      <td>https://m.media-amazon.com/images/I/61uIgwiP90...</td>\n",
       "    </tr>\n",
       "    <tr>\n",
       "      <th>1</th>\n",
       "      <td>Samsung Galaxy M31 (Ocean Blue, 8GB RAM, 128GB...</td>\n",
       "      <td>₹ 16,999.00</td>\n",
       "      <td>4.3 out of 5</td>\n",
       "      <td>https://m.media-amazon.com/images/I/71R3hxVbj8...</td>\n",
       "    </tr>\n",
       "    <tr>\n",
       "      <th>2</th>\n",
       "      <td>Redmi 9 Power (Mighty Black, 6GB RAM, 128GB St...</td>\n",
       "      <td>₹ 12,999.00</td>\n",
       "      <td>4.2 out of 5</td>\n",
       "      <td>https://m.media-amazon.com/images/I/71-Su4Wr0H...</td>\n",
       "    </tr>\n",
       "    <tr>\n",
       "      <th>3</th>\n",
       "      <td>Vivo Y51A (Titanium Sapphire, 8GB, 128GB Stora...</td>\n",
       "      <td>₹ 17,990.00</td>\n",
       "      <td>4.1 out of 5</td>\n",
       "      <td>https://m.media-amazon.com/images/I/61LHaUOheh...</td>\n",
       "    </tr>\n",
       "    <tr>\n",
       "      <th>4</th>\n",
       "      <td>realme 8 5G (4 GB RAM, 64GB ROM) (Supersonic B...</td>\n",
       "      <td>₹ 14,878.00</td>\n",
       "      <td>5 out of 5</td>\n",
       "      <td>https://m.media-amazon.com/images/I/71BRHXBME2...</td>\n",
       "    </tr>\n",
       "    <tr>\n",
       "      <th>5</th>\n",
       "      <td>Redmi 9 (Sky Blue, 4GB RAM, 64GB Storage)| 500...</td>\n",
       "      <td>₹ 8,799.00</td>\n",
       "      <td>4.2 out of 5</td>\n",
       "      <td>https://m.media-amazon.com/images/I/41NE1xBiBI...</td>\n",
       "    </tr>\n",
       "    <tr>\n",
       "      <th>6</th>\n",
       "      <td>Redmi 9A (Nature Green, 2GB RAM, 32GB Storage)...</td>\n",
       "      <td>₹ 6,799.00</td>\n",
       "      <td>4.2 out of 5</td>\n",
       "      <td>https://m.media-amazon.com/images/I/71A9Vo1Bat...</td>\n",
       "    </tr>\n",
       "    <tr>\n",
       "      <th>7</th>\n",
       "      <td>Oppo A31 (Fantasy White, 6GB RAM, 128GB Storag...</td>\n",
       "      <td>₹ 11,490.00</td>\n",
       "      <td>4.2 out of 5</td>\n",
       "      <td>https://m.media-amazon.com/images/I/71sxlhYhKW...</td>\n",
       "    </tr>\n",
       "    <tr>\n",
       "      <th>8</th>\n",
       "      <td>Oppo A31 (Mystery Black, 6GB RAM, 128GB Storag...</td>\n",
       "      <td>₹ 11,490.00</td>\n",
       "      <td>4.2 out of 5</td>\n",
       "      <td>https://m.media-amazon.com/images/I/715t-uJnjM...</td>\n",
       "    </tr>\n",
       "    <tr>\n",
       "      <th>9</th>\n",
       "      <td>OPPO A74 5G (Fluid Black, 6GB RAM, 128GB Stora...</td>\n",
       "      <td>₹ 17,990.00</td>\n",
       "      <td>4.2 out of 5</td>\n",
       "      <td>https://m.media-amazon.com/images/I/61IhTtJUXJ...</td>\n",
       "    </tr>\n",
       "    <tr>\n",
       "      <th>10</th>\n",
       "      <td>OPPO F19 Pro+ 5G (Space Silver, 8GB RAM, 128GB...</td>\n",
       "      <td>₹ 25,990.00</td>\n",
       "      <td>4.1 out of 5</td>\n",
       "      <td>https://m.media-amazon.com/images/I/71uXmoBZpO...</td>\n",
       "    </tr>\n",
       "    <tr>\n",
       "      <th>11</th>\n",
       "      <td>Redmi Note 9 (Pebble Grey, 4GB RAM 64GB Storag...</td>\n",
       "      <td>₹ 10,999.00</td>\n",
       "      <td>4.3 out of 5</td>\n",
       "      <td>https://m.media-amazon.com/images/I/71crCF+ogw...</td>\n",
       "    </tr>\n",
       "    <tr>\n",
       "      <th>12</th>\n",
       "      <td>Panasonic Eluga i7 (2GB RAM, 16GB Storage, Fin...</td>\n",
       "      <td>₹ 5,298.00</td>\n",
       "      <td>3.1 out of 5</td>\n",
       "      <td>https://m.media-amazon.com/images/I/71KCwNV6Mu...</td>\n",
       "    </tr>\n",
       "    <tr>\n",
       "      <th>13</th>\n",
       "      <td>Samsung Galaxy M42 5G (Prism Dot Black, 8GB RA...</td>\n",
       "      <td>₹ 23,999.00</td>\n",
       "      <td>4.1 out of 5</td>\n",
       "      <td>https://m.media-amazon.com/images/I/71X5I1cVfb...</td>\n",
       "    </tr>\n",
       "    <tr>\n",
       "      <th>14</th>\n",
       "      <td>Samsung Galaxy M31s (Mirage Black, 8GB RAM, 12...</td>\n",
       "      <td>₹ 18,999.00</td>\n",
       "      <td>4.3 out of 5</td>\n",
       "      <td>https://m.media-amazon.com/images/I/41QsvcpKaZ...</td>\n",
       "    </tr>\n",
       "    <tr>\n",
       "      <th>15</th>\n",
       "      <td>OPPO A74 5G (Fluid Black, 6GB RAM, 128GB Stora...</td>\n",
       "      <td>₹ 17,990.00</td>\n",
       "      <td>4.2 out of 5</td>\n",
       "      <td>https://m.media-amazon.com/images/I/71LweCKOpF...</td>\n",
       "    </tr>\n",
       "    <tr>\n",
       "      <th>16</th>\n",
       "      <td>Samsung Galaxy M11 (Metallic Blue, 4GB RAM, 64...</td>\n",
       "      <td>₹ 9,499.00</td>\n",
       "      <td>4.2 out of 5</td>\n",
       "      <td>https://m.media-amazon.com/images/I/71BFG8Zu7z...</td>\n",
       "    </tr>\n",
       "    <tr>\n",
       "      <th>17</th>\n",
       "      <td>Samsung Galaxy M31 (Space Black, 8GB RAM, 128G...</td>\n",
       "      <td>₹ 16,999.00</td>\n",
       "      <td>4.3 out of 5</td>\n",
       "      <td>https://m.media-amazon.com/images/I/71R3hxVbj8...</td>\n",
       "    </tr>\n",
       "    <tr>\n",
       "      <th>18</th>\n",
       "      <td>Vivo Y31 (Ocean Blue, 6GB, 128GB Storage) with...</td>\n",
       "      <td>₹ 16,490.00</td>\n",
       "      <td>4.2 out of 5</td>\n",
       "      <td>https://m.media-amazon.com/images/I/71GQUxuSpn...</td>\n",
       "    </tr>\n",
       "    <tr>\n",
       "      <th>19</th>\n",
       "      <td>Oppo F19 (Prism Black, 6GB RAM, 128GB Storage)...</td>\n",
       "      <td>₹ 18,990.00</td>\n",
       "      <td>4 out of 5</td>\n",
       "      <td>https://m.media-amazon.com/images/I/71OxJeyywS...</td>\n",
       "    </tr>\n",
       "  </tbody>\n",
       "</table>\n",
       "</div>"
      ],
      "text/plain": [
       "                                           Phone_name        Price  \\\n",
       "0   iQOO Z3 5G (Ace Black, 8GB RAM, 128GB Storage)...  ₹ 20,990.00   \n",
       "1   Samsung Galaxy M31 (Ocean Blue, 8GB RAM, 128GB...  ₹ 16,999.00   \n",
       "2   Redmi 9 Power (Mighty Black, 6GB RAM, 128GB St...  ₹ 12,999.00   \n",
       "3   Vivo Y51A (Titanium Sapphire, 8GB, 128GB Stora...  ₹ 17,990.00   \n",
       "4   realme 8 5G (4 GB RAM, 64GB ROM) (Supersonic B...  ₹ 14,878.00   \n",
       "5   Redmi 9 (Sky Blue, 4GB RAM, 64GB Storage)| 500...   ₹ 8,799.00   \n",
       "6   Redmi 9A (Nature Green, 2GB RAM, 32GB Storage)...   ₹ 6,799.00   \n",
       "7   Oppo A31 (Fantasy White, 6GB RAM, 128GB Storag...  ₹ 11,490.00   \n",
       "8   Oppo A31 (Mystery Black, 6GB RAM, 128GB Storag...  ₹ 11,490.00   \n",
       "9   OPPO A74 5G (Fluid Black, 6GB RAM, 128GB Stora...  ₹ 17,990.00   \n",
       "10  OPPO F19 Pro+ 5G (Space Silver, 8GB RAM, 128GB...  ₹ 25,990.00   \n",
       "11  Redmi Note 9 (Pebble Grey, 4GB RAM 64GB Storag...  ₹ 10,999.00   \n",
       "12  Panasonic Eluga i7 (2GB RAM, 16GB Storage, Fin...   ₹ 5,298.00   \n",
       "13  Samsung Galaxy M42 5G (Prism Dot Black, 8GB RA...  ₹ 23,999.00   \n",
       "14  Samsung Galaxy M31s (Mirage Black, 8GB RAM, 12...  ₹ 18,999.00   \n",
       "15  OPPO A74 5G (Fluid Black, 6GB RAM, 128GB Stora...  ₹ 17,990.00   \n",
       "16  Samsung Galaxy M11 (Metallic Blue, 4GB RAM, 64...   ₹ 9,499.00   \n",
       "17  Samsung Galaxy M31 (Space Black, 8GB RAM, 128G...  ₹ 16,999.00   \n",
       "18  Vivo Y31 (Ocean Blue, 6GB, 128GB Storage) with...  ₹ 16,490.00   \n",
       "19  Oppo F19 (Prism Black, 6GB RAM, 128GB Storage)...  ₹ 18,990.00   \n",
       "\n",
       "         Ratings                                          Image_url  \n",
       "0   4.2 out of 5  https://m.media-amazon.com/images/I/61uIgwiP90...  \n",
       "1   4.3 out of 5  https://m.media-amazon.com/images/I/71R3hxVbj8...  \n",
       "2   4.2 out of 5  https://m.media-amazon.com/images/I/71-Su4Wr0H...  \n",
       "3   4.1 out of 5  https://m.media-amazon.com/images/I/61LHaUOheh...  \n",
       "4     5 out of 5  https://m.media-amazon.com/images/I/71BRHXBME2...  \n",
       "5   4.2 out of 5  https://m.media-amazon.com/images/I/41NE1xBiBI...  \n",
       "6   4.2 out of 5  https://m.media-amazon.com/images/I/71A9Vo1Bat...  \n",
       "7   4.2 out of 5  https://m.media-amazon.com/images/I/71sxlhYhKW...  \n",
       "8   4.2 out of 5  https://m.media-amazon.com/images/I/715t-uJnjM...  \n",
       "9   4.2 out of 5  https://m.media-amazon.com/images/I/61IhTtJUXJ...  \n",
       "10  4.1 out of 5  https://m.media-amazon.com/images/I/71uXmoBZpO...  \n",
       "11  4.3 out of 5  https://m.media-amazon.com/images/I/71crCF+ogw...  \n",
       "12  3.1 out of 5  https://m.media-amazon.com/images/I/71KCwNV6Mu...  \n",
       "13  4.1 out of 5  https://m.media-amazon.com/images/I/71X5I1cVfb...  \n",
       "14  4.3 out of 5  https://m.media-amazon.com/images/I/41QsvcpKaZ...  \n",
       "15  4.2 out of 5  https://m.media-amazon.com/images/I/71LweCKOpF...  \n",
       "16  4.2 out of 5  https://m.media-amazon.com/images/I/71BFG8Zu7z...  \n",
       "17  4.3 out of 5  https://m.media-amazon.com/images/I/71R3hxVbj8...  \n",
       "18  4.2 out of 5  https://m.media-amazon.com/images/I/71GQUxuSpn...  \n",
       "19    4 out of 5  https://m.media-amazon.com/images/I/71OxJeyywS...  "
      ]
     },
     "execution_count": 96,
     "metadata": {},
     "output_type": "execute_result"
    }
   ],
   "source": [
    "Phones_details=pd.DataFrame({})\n",
    "Phones_details['Phone_name']=phn_name\n",
    "Phones_details['Price']=price\n",
    "Phones_details['Ratings']=rat\n",
    "Phones_details['Image_url']=img_url\n",
    "\n",
    "Phones_details"
   ]
  },
  {
   "cell_type": "code",
   "execution_count": null,
   "metadata": {},
   "outputs": [],
   "source": []
  }
 ],
 "metadata": {
  "kernelspec": {
   "display_name": "Python 3",
   "language": "python",
   "name": "python3"
  },
  "language_info": {
   "codemirror_mode": {
    "name": "ipython",
    "version": 3
   },
   "file_extension": ".py",
   "mimetype": "text/x-python",
   "name": "python",
   "nbconvert_exporter": "python",
   "pygments_lexer": "ipython3",
   "version": "3.7.6"
  }
 },
 "nbformat": 4,
 "nbformat_minor": 4
}
