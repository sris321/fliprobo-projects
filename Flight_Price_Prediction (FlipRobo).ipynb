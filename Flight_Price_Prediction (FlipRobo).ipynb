{
 "cells": [
  {
   "cell_type": "code",
   "execution_count": 377,
   "metadata": {},
   "outputs": [],
   "source": [
    "import pandas as pd\n",
    "import numpy as np\n",
    "import seaborn as sns\n",
    "import matplotlib.pyplot as plt\n",
    "import sklearn\n",
    "from sklearn.model_selection import train_test_split\n",
    "from sklearn.linear_model import LinearRegression\n",
    "from sklearn.linear_model import Lasso,Ridge\n",
    "from sklearn.tree import DecisionTreeRegressor\n",
    "from sklearn.neighbors import KNeighborsRegressor\n",
    "from sklearn.ensemble import RandomForestRegressor\n",
    "from sklearn.ensemble import AdaBoostRegressor\n",
    "from xgboost import XGBRegressor\n",
    "from sklearn.metrics import r2_score,mean_squared_error\n",
    "from sklearn.model_selection import cross_val_score,KFold,GridSearchCV\n",
    "import warnings\n",
    "warnings.filterwarnings('ignore')"
   ]
  },
  {
   "cell_type": "code",
   "execution_count": 313,
   "metadata": {},
   "outputs": [
    {
     "data": {
      "text/html": [
       "<div>\n",
       "<style scoped>\n",
       "    .dataframe tbody tr th:only-of-type {\n",
       "        vertical-align: middle;\n",
       "    }\n",
       "\n",
       "    .dataframe tbody tr th {\n",
       "        vertical-align: top;\n",
       "    }\n",
       "\n",
       "    .dataframe thead th {\n",
       "        text-align: right;\n",
       "    }\n",
       "</style>\n",
       "<table border=\"1\" class=\"dataframe\">\n",
       "  <thead>\n",
       "    <tr style=\"text-align: right;\">\n",
       "      <th></th>\n",
       "      <th>Airlines</th>\n",
       "      <th>Source</th>\n",
       "      <th>Destination</th>\n",
       "      <th>Total Stops</th>\n",
       "      <th>Duration</th>\n",
       "      <th>Departure Time</th>\n",
       "      <th>Arrival Time</th>\n",
       "      <th>Price</th>\n",
       "      <th>Date of Journey</th>\n",
       "    </tr>\n",
       "  </thead>\n",
       "  <tbody>\n",
       "    <tr>\n",
       "      <th>0</th>\n",
       "      <td>Air Asia</td>\n",
       "      <td>New Delhi</td>\n",
       "      <td>Mumbai</td>\n",
       "      <td>1 Stop</td>\n",
       "      <td>6h 00m</td>\n",
       "      <td>05:20</td>\n",
       "      <td>11:20</td>\n",
       "      <td>5,953</td>\n",
       "      <td>17/10/2021</td>\n",
       "    </tr>\n",
       "    <tr>\n",
       "      <th>1</th>\n",
       "      <td>Go First</td>\n",
       "      <td>New Delhi</td>\n",
       "      <td>Mumbai</td>\n",
       "      <td>Non Stop</td>\n",
       "      <td>2h 00m</td>\n",
       "      <td>09:05</td>\n",
       "      <td>11:05</td>\n",
       "      <td>5,954</td>\n",
       "      <td>17/10/2021</td>\n",
       "    </tr>\n",
       "    <tr>\n",
       "      <th>2</th>\n",
       "      <td>Go First</td>\n",
       "      <td>New Delhi</td>\n",
       "      <td>Mumbai</td>\n",
       "      <td>Non Stop</td>\n",
       "      <td>2h 05m</td>\n",
       "      <td>06:15</td>\n",
       "      <td>08:20</td>\n",
       "      <td>5,954</td>\n",
       "      <td>17/10/2021</td>\n",
       "    </tr>\n",
       "    <tr>\n",
       "      <th>3</th>\n",
       "      <td>Go First</td>\n",
       "      <td>New Delhi</td>\n",
       "      <td>Mumbai</td>\n",
       "      <td>1 Stop</td>\n",
       "      <td>4h 40m</td>\n",
       "      <td>17:45</td>\n",
       "      <td>22:25</td>\n",
       "      <td>5,954</td>\n",
       "      <td>17/10/2021</td>\n",
       "    </tr>\n",
       "    <tr>\n",
       "      <th>4</th>\n",
       "      <td>Go First</td>\n",
       "      <td>New Delhi</td>\n",
       "      <td>Mumbai</td>\n",
       "      <td>1 Stop</td>\n",
       "      <td>4h 55m</td>\n",
       "      <td>16:10</td>\n",
       "      <td>21:05</td>\n",
       "      <td>5,954</td>\n",
       "      <td>17/10/2021</td>\n",
       "    </tr>\n",
       "  </tbody>\n",
       "</table>\n",
       "</div>"
      ],
      "text/plain": [
       "   Airlines     Source Destination Total Stops Duration Departure Time  \\\n",
       "0  Air Asia  New Delhi      Mumbai      1 Stop   6h 00m          05:20   \n",
       "1  Go First  New Delhi      Mumbai    Non Stop   2h 00m          09:05   \n",
       "2  Go First  New Delhi      Mumbai    Non Stop   2h 05m          06:15   \n",
       "3  Go First  New Delhi      Mumbai      1 Stop   4h 40m          17:45   \n",
       "4  Go First  New Delhi      Mumbai      1 Stop   4h 55m          16:10   \n",
       "\n",
       "  Arrival Time  Price Date of Journey  \n",
       "0        11:20  5,953      17/10/2021  \n",
       "1        11:05  5,954      17/10/2021  \n",
       "2        08:20  5,954      17/10/2021  \n",
       "3        22:25  5,954      17/10/2021  \n",
       "4        21:05  5,954      17/10/2021  "
      ]
     },
     "execution_count": 313,
     "metadata": {},
     "output_type": "execute_result"
    }
   ],
   "source": [
    "dataset=pd.read_csv(\"flight_detail.csv\")\n",
    "dataset.head()"
   ]
  },
  {
   "cell_type": "code",
   "execution_count": 314,
   "metadata": {},
   "outputs": [],
   "source": [
    "df=dataset.copy()"
   ]
  },
  {
   "cell_type": "markdown",
   "metadata": {},
   "source": [
    "### Exploratory Data Analysis"
   ]
  },
  {
   "cell_type": "code",
   "execution_count": 315,
   "metadata": {},
   "outputs": [
    {
     "data": {
      "text/plain": [
       "(1710, 9)"
      ]
     },
     "execution_count": 315,
     "metadata": {},
     "output_type": "execute_result"
    }
   ],
   "source": [
    "df.shape"
   ]
  },
  {
   "cell_type": "markdown",
   "metadata": {},
   "source": [
    "1. Dataset has 1710 rows and 9 columns."
   ]
  },
  {
   "cell_type": "code",
   "execution_count": 316,
   "metadata": {},
   "outputs": [
    {
     "data": {
      "text/plain": [
       "Index(['Airlines', 'Source', 'Destination', 'Total Stops', 'Duration',\n",
       "       'Departure Time', 'Arrival Time', 'Price', 'Date of Journey'],\n",
       "      dtype='object')"
      ]
     },
     "execution_count": 316,
     "metadata": {},
     "output_type": "execute_result"
    }
   ],
   "source": [
    "df.columns"
   ]
  },
  {
   "cell_type": "code",
   "execution_count": 317,
   "metadata": {},
   "outputs": [
    {
     "name": "stdout",
     "output_type": "stream",
     "text": [
      "<class 'pandas.core.frame.DataFrame'>\n",
      "RangeIndex: 1710 entries, 0 to 1709\n",
      "Data columns (total 9 columns):\n",
      " #   Column           Non-Null Count  Dtype \n",
      "---  ------           --------------  ----- \n",
      " 0   Airlines         1710 non-null   object\n",
      " 1   Source           1710 non-null   object\n",
      " 2   Destination      1710 non-null   object\n",
      " 3   Total Stops      1710 non-null   object\n",
      " 4   Duration         1710 non-null   object\n",
      " 5   Departure Time   1710 non-null   object\n",
      " 6   Arrival Time     1710 non-null   object\n",
      " 7   Price            1710 non-null   object\n",
      " 8   Date of Journey  1710 non-null   object\n",
      "dtypes: object(9)\n",
      "memory usage: 120.4+ KB\n"
     ]
    }
   ],
   "source": [
    "df.info()"
   ]
  },
  {
   "cell_type": "code",
   "execution_count": 318,
   "metadata": {},
   "outputs": [
    {
     "data": {
      "text/plain": [
       "Airlines           object\n",
       "Source             object\n",
       "Destination        object\n",
       "Total Stops        object\n",
       "Duration           object\n",
       "Departure Time     object\n",
       "Arrival Time       object\n",
       "Price              object\n",
       "Date of Journey    object\n",
       "dtype: object"
      ]
     },
     "execution_count": 318,
     "metadata": {},
     "output_type": "execute_result"
    }
   ],
   "source": [
    "df.dtypes"
   ]
  },
  {
   "cell_type": "markdown",
   "metadata": {},
   "source": [
    "1. All the columns are object type, we need to change their type according to the data in the columns."
   ]
  },
  {
   "cell_type": "code",
   "execution_count": 319,
   "metadata": {},
   "outputs": [
    {
     "data": {
      "text/plain": [
       "Airlines           0\n",
       "Source             0\n",
       "Destination        0\n",
       "Total Stops        0\n",
       "Duration           0\n",
       "Departure Time     0\n",
       "Arrival Time       0\n",
       "Price              0\n",
       "Date of Journey    0\n",
       "dtype: int64"
      ]
     },
     "execution_count": 319,
     "metadata": {},
     "output_type": "execute_result"
    }
   ],
   "source": [
    "df.isnull().sum()"
   ]
  },
  {
   "cell_type": "markdown",
   "metadata": {},
   "source": [
    "1. There are no null value present in the dataset."
   ]
  },
  {
   "cell_type": "code",
   "execution_count": 320,
   "metadata": {},
   "outputs": [
    {
     "data": {
      "text/plain": [
       "array(['Air Asia', 'Go First', 'Vistara', 'Air India', 'IndiGo',\n",
       "       'SpiceJet'], dtype=object)"
      ]
     },
     "execution_count": 320,
     "metadata": {},
     "output_type": "execute_result"
    }
   ],
   "source": [
    "df['Airlines'].unique()"
   ]
  },
  {
   "cell_type": "code",
   "execution_count": 321,
   "metadata": {},
   "outputs": [
    {
     "data": {
      "text/plain": [
       "array(['New Delhi', 'Bangalore', 'Goa', 'Chennai', 'Kolkata', 'Kochi',\n",
       "       'Nasik', 'Mumbai', 'Lucknow', 'Pune', 'Varanasi', 'Hyderabad',\n",
       "       'Ahmedabad', 'Jammu', 'Jaipur', 'Indore', 'Trivandrum'],\n",
       "      dtype=object)"
      ]
     },
     "execution_count": 321,
     "metadata": {},
     "output_type": "execute_result"
    }
   ],
   "source": [
    "df['Source'].unique()"
   ]
  },
  {
   "cell_type": "code",
   "execution_count": 322,
   "metadata": {},
   "outputs": [
    {
     "data": {
      "text/plain": [
       "17"
      ]
     },
     "execution_count": 322,
     "metadata": {},
     "output_type": "execute_result"
    }
   ],
   "source": [
    "df['Source'].nunique()"
   ]
  },
  {
   "cell_type": "code",
   "execution_count": 323,
   "metadata": {},
   "outputs": [
    {
     "data": {
      "text/plain": [
       "array(['Mumbai', 'Goa', 'Bangalore', 'Kolkata', 'Chennai', 'Ahmedabad',\n",
       "       'Jaipur', 'Hyderabad', 'New Delhi', 'Kochi', 'Udaipur', 'Varanasi',\n",
       "       'Jammu', 'Trivandrum', 'Indore'], dtype=object)"
      ]
     },
     "execution_count": 323,
     "metadata": {},
     "output_type": "execute_result"
    }
   ],
   "source": [
    "df['Destination'].unique()"
   ]
  },
  {
   "cell_type": "code",
   "execution_count": 324,
   "metadata": {},
   "outputs": [
    {
     "data": {
      "text/plain": [
       "15"
      ]
     },
     "execution_count": 324,
     "metadata": {},
     "output_type": "execute_result"
    }
   ],
   "source": [
    "df['Destination'].nunique()"
   ]
  },
  {
   "cell_type": "code",
   "execution_count": 325,
   "metadata": {},
   "outputs": [
    {
     "data": {
      "text/plain": [
       "array(['1 Stop', 'Non Stop', '2 Stop(s)', '3 Stop(s)', '4 Stop(s)'],\n",
       "      dtype=object)"
      ]
     },
     "execution_count": 325,
     "metadata": {},
     "output_type": "execute_result"
    }
   ],
   "source": [
    "df['Total Stops'].unique()"
   ]
  },
  {
   "cell_type": "code",
   "execution_count": 326,
   "metadata": {},
   "outputs": [],
   "source": [
    "# converting date of journey column into datetime type from object type.\n",
    "\n",
    "df['Date of Journey']=pd.to_datetime(df['Date of Journey'])"
   ]
  },
  {
   "cell_type": "code",
   "execution_count": 327,
   "metadata": {},
   "outputs": [
    {
     "data": {
      "text/html": [
       "<div>\n",
       "<style scoped>\n",
       "    .dataframe tbody tr th:only-of-type {\n",
       "        vertical-align: middle;\n",
       "    }\n",
       "\n",
       "    .dataframe tbody tr th {\n",
       "        vertical-align: top;\n",
       "    }\n",
       "\n",
       "    .dataframe thead th {\n",
       "        text-align: right;\n",
       "    }\n",
       "</style>\n",
       "<table border=\"1\" class=\"dataframe\">\n",
       "  <thead>\n",
       "    <tr style=\"text-align: right;\">\n",
       "      <th></th>\n",
       "      <th>Airlines</th>\n",
       "      <th>Source</th>\n",
       "      <th>Destination</th>\n",
       "      <th>Total Stops</th>\n",
       "      <th>Duration</th>\n",
       "      <th>Departure Time</th>\n",
       "      <th>Arrival Time</th>\n",
       "      <th>Price</th>\n",
       "      <th>Date of Journey</th>\n",
       "    </tr>\n",
       "  </thead>\n",
       "  <tbody>\n",
       "    <tr>\n",
       "      <th>0</th>\n",
       "      <td>Air Asia</td>\n",
       "      <td>New Delhi</td>\n",
       "      <td>Mumbai</td>\n",
       "      <td>1 Stop</td>\n",
       "      <td>6h 00m</td>\n",
       "      <td>05:20</td>\n",
       "      <td>11:20</td>\n",
       "      <td>5,953</td>\n",
       "      <td>2021-10-17</td>\n",
       "    </tr>\n",
       "    <tr>\n",
       "      <th>1</th>\n",
       "      <td>Go First</td>\n",
       "      <td>New Delhi</td>\n",
       "      <td>Mumbai</td>\n",
       "      <td>Non Stop</td>\n",
       "      <td>2h 00m</td>\n",
       "      <td>09:05</td>\n",
       "      <td>11:05</td>\n",
       "      <td>5,954</td>\n",
       "      <td>2021-10-17</td>\n",
       "    </tr>\n",
       "    <tr>\n",
       "      <th>2</th>\n",
       "      <td>Go First</td>\n",
       "      <td>New Delhi</td>\n",
       "      <td>Mumbai</td>\n",
       "      <td>Non Stop</td>\n",
       "      <td>2h 05m</td>\n",
       "      <td>06:15</td>\n",
       "      <td>08:20</td>\n",
       "      <td>5,954</td>\n",
       "      <td>2021-10-17</td>\n",
       "    </tr>\n",
       "    <tr>\n",
       "      <th>3</th>\n",
       "      <td>Go First</td>\n",
       "      <td>New Delhi</td>\n",
       "      <td>Mumbai</td>\n",
       "      <td>1 Stop</td>\n",
       "      <td>4h 40m</td>\n",
       "      <td>17:45</td>\n",
       "      <td>22:25</td>\n",
       "      <td>5,954</td>\n",
       "      <td>2021-10-17</td>\n",
       "    </tr>\n",
       "    <tr>\n",
       "      <th>4</th>\n",
       "      <td>Go First</td>\n",
       "      <td>New Delhi</td>\n",
       "      <td>Mumbai</td>\n",
       "      <td>1 Stop</td>\n",
       "      <td>4h 55m</td>\n",
       "      <td>16:10</td>\n",
       "      <td>21:05</td>\n",
       "      <td>5,954</td>\n",
       "      <td>2021-10-17</td>\n",
       "    </tr>\n",
       "  </tbody>\n",
       "</table>\n",
       "</div>"
      ],
      "text/plain": [
       "   Airlines     Source Destination Total Stops Duration Departure Time  \\\n",
       "0  Air Asia  New Delhi      Mumbai      1 Stop   6h 00m          05:20   \n",
       "1  Go First  New Delhi      Mumbai    Non Stop   2h 00m          09:05   \n",
       "2  Go First  New Delhi      Mumbai    Non Stop   2h 05m          06:15   \n",
       "3  Go First  New Delhi      Mumbai      1 Stop   4h 40m          17:45   \n",
       "4  Go First  New Delhi      Mumbai      1 Stop   4h 55m          16:10   \n",
       "\n",
       "  Arrival Time  Price Date of Journey  \n",
       "0        11:20  5,953      2021-10-17  \n",
       "1        11:05  5,954      2021-10-17  \n",
       "2        08:20  5,954      2021-10-17  \n",
       "3        22:25  5,954      2021-10-17  \n",
       "4        21:05  5,954      2021-10-17  "
      ]
     },
     "execution_count": 327,
     "metadata": {},
     "output_type": "execute_result"
    }
   ],
   "source": [
    "df.head()"
   ]
  },
  {
   "cell_type": "code",
   "execution_count": 328,
   "metadata": {},
   "outputs": [],
   "source": [
    "# extracting date and monthh from this column.\n",
    "\n",
    "df['Month']=df['Date of Journey'].apply(lambda x:x.month)\n",
    "df['Day']=df['Date of Journey'].apply(lambda x:x.day)"
   ]
  },
  {
   "cell_type": "code",
   "execution_count": 329,
   "metadata": {},
   "outputs": [
    {
     "data": {
      "text/html": [
       "<div>\n",
       "<style scoped>\n",
       "    .dataframe tbody tr th:only-of-type {\n",
       "        vertical-align: middle;\n",
       "    }\n",
       "\n",
       "    .dataframe tbody tr th {\n",
       "        vertical-align: top;\n",
       "    }\n",
       "\n",
       "    .dataframe thead th {\n",
       "        text-align: right;\n",
       "    }\n",
       "</style>\n",
       "<table border=\"1\" class=\"dataframe\">\n",
       "  <thead>\n",
       "    <tr style=\"text-align: right;\">\n",
       "      <th></th>\n",
       "      <th>Airlines</th>\n",
       "      <th>Source</th>\n",
       "      <th>Destination</th>\n",
       "      <th>Total Stops</th>\n",
       "      <th>Duration</th>\n",
       "      <th>Departure Time</th>\n",
       "      <th>Arrival Time</th>\n",
       "      <th>Price</th>\n",
       "      <th>Date of Journey</th>\n",
       "      <th>Month</th>\n",
       "      <th>Day</th>\n",
       "    </tr>\n",
       "  </thead>\n",
       "  <tbody>\n",
       "    <tr>\n",
       "      <th>0</th>\n",
       "      <td>Air Asia</td>\n",
       "      <td>New Delhi</td>\n",
       "      <td>Mumbai</td>\n",
       "      <td>1 Stop</td>\n",
       "      <td>6h 00m</td>\n",
       "      <td>05:20</td>\n",
       "      <td>11:20</td>\n",
       "      <td>5,953</td>\n",
       "      <td>2021-10-17</td>\n",
       "      <td>10</td>\n",
       "      <td>17</td>\n",
       "    </tr>\n",
       "    <tr>\n",
       "      <th>1</th>\n",
       "      <td>Go First</td>\n",
       "      <td>New Delhi</td>\n",
       "      <td>Mumbai</td>\n",
       "      <td>Non Stop</td>\n",
       "      <td>2h 00m</td>\n",
       "      <td>09:05</td>\n",
       "      <td>11:05</td>\n",
       "      <td>5,954</td>\n",
       "      <td>2021-10-17</td>\n",
       "      <td>10</td>\n",
       "      <td>17</td>\n",
       "    </tr>\n",
       "    <tr>\n",
       "      <th>2</th>\n",
       "      <td>Go First</td>\n",
       "      <td>New Delhi</td>\n",
       "      <td>Mumbai</td>\n",
       "      <td>Non Stop</td>\n",
       "      <td>2h 05m</td>\n",
       "      <td>06:15</td>\n",
       "      <td>08:20</td>\n",
       "      <td>5,954</td>\n",
       "      <td>2021-10-17</td>\n",
       "      <td>10</td>\n",
       "      <td>17</td>\n",
       "    </tr>\n",
       "    <tr>\n",
       "      <th>3</th>\n",
       "      <td>Go First</td>\n",
       "      <td>New Delhi</td>\n",
       "      <td>Mumbai</td>\n",
       "      <td>1 Stop</td>\n",
       "      <td>4h 40m</td>\n",
       "      <td>17:45</td>\n",
       "      <td>22:25</td>\n",
       "      <td>5,954</td>\n",
       "      <td>2021-10-17</td>\n",
       "      <td>10</td>\n",
       "      <td>17</td>\n",
       "    </tr>\n",
       "    <tr>\n",
       "      <th>4</th>\n",
       "      <td>Go First</td>\n",
       "      <td>New Delhi</td>\n",
       "      <td>Mumbai</td>\n",
       "      <td>1 Stop</td>\n",
       "      <td>4h 55m</td>\n",
       "      <td>16:10</td>\n",
       "      <td>21:05</td>\n",
       "      <td>5,954</td>\n",
       "      <td>2021-10-17</td>\n",
       "      <td>10</td>\n",
       "      <td>17</td>\n",
       "    </tr>\n",
       "  </tbody>\n",
       "</table>\n",
       "</div>"
      ],
      "text/plain": [
       "   Airlines     Source Destination Total Stops Duration Departure Time  \\\n",
       "0  Air Asia  New Delhi      Mumbai      1 Stop   6h 00m          05:20   \n",
       "1  Go First  New Delhi      Mumbai    Non Stop   2h 00m          09:05   \n",
       "2  Go First  New Delhi      Mumbai    Non Stop   2h 05m          06:15   \n",
       "3  Go First  New Delhi      Mumbai      1 Stop   4h 40m          17:45   \n",
       "4  Go First  New Delhi      Mumbai      1 Stop   4h 55m          16:10   \n",
       "\n",
       "  Arrival Time  Price Date of Journey  Month  Day  \n",
       "0        11:20  5,953      2021-10-17     10   17  \n",
       "1        11:05  5,954      2021-10-17     10   17  \n",
       "2        08:20  5,954      2021-10-17     10   17  \n",
       "3        22:25  5,954      2021-10-17     10   17  \n",
       "4        21:05  5,954      2021-10-17     10   17  "
      ]
     },
     "execution_count": 329,
     "metadata": {},
     "output_type": "execute_result"
    }
   ],
   "source": [
    "df.head()"
   ]
  },
  {
   "cell_type": "markdown",
   "metadata": {},
   "source": [
    "1. Now we can drop Date of Journey column as we extracted the required data."
   ]
  },
  {
   "cell_type": "code",
   "execution_count": 330,
   "metadata": {},
   "outputs": [],
   "source": [
    "df.drop('Date of Journey',axis=1,inplace=True)"
   ]
  },
  {
   "cell_type": "code",
   "execution_count": 331,
   "metadata": {},
   "outputs": [],
   "source": [
    "# coverting price column from object to float.\n",
    "\n",
    "df['Price']=df['Price'].str.replace(\",\" , '').astype(float)"
   ]
  },
  {
   "cell_type": "code",
   "execution_count": 332,
   "metadata": {},
   "outputs": [],
   "source": [
    "df['Arrival Time']=df['Arrival Time'].str.split(\"\\n\").str[0]"
   ]
  },
  {
   "cell_type": "code",
   "execution_count": 333,
   "metadata": {},
   "outputs": [
    {
     "data": {
      "text/html": [
       "<div>\n",
       "<style scoped>\n",
       "    .dataframe tbody tr th:only-of-type {\n",
       "        vertical-align: middle;\n",
       "    }\n",
       "\n",
       "    .dataframe tbody tr th {\n",
       "        vertical-align: top;\n",
       "    }\n",
       "\n",
       "    .dataframe thead th {\n",
       "        text-align: right;\n",
       "    }\n",
       "</style>\n",
       "<table border=\"1\" class=\"dataframe\">\n",
       "  <thead>\n",
       "    <tr style=\"text-align: right;\">\n",
       "      <th></th>\n",
       "      <th>Airlines</th>\n",
       "      <th>Source</th>\n",
       "      <th>Destination</th>\n",
       "      <th>Total Stops</th>\n",
       "      <th>Duration</th>\n",
       "      <th>Departure Time</th>\n",
       "      <th>Arrival Time</th>\n",
       "      <th>Price</th>\n",
       "      <th>Month</th>\n",
       "      <th>Day</th>\n",
       "    </tr>\n",
       "  </thead>\n",
       "  <tbody>\n",
       "    <tr>\n",
       "      <th>0</th>\n",
       "      <td>Air Asia</td>\n",
       "      <td>New Delhi</td>\n",
       "      <td>Mumbai</td>\n",
       "      <td>1 Stop</td>\n",
       "      <td>6h 00m</td>\n",
       "      <td>05:20</td>\n",
       "      <td>11:20</td>\n",
       "      <td>5953.0</td>\n",
       "      <td>10</td>\n",
       "      <td>17</td>\n",
       "    </tr>\n",
       "    <tr>\n",
       "      <th>1</th>\n",
       "      <td>Go First</td>\n",
       "      <td>New Delhi</td>\n",
       "      <td>Mumbai</td>\n",
       "      <td>Non Stop</td>\n",
       "      <td>2h 00m</td>\n",
       "      <td>09:05</td>\n",
       "      <td>11:05</td>\n",
       "      <td>5954.0</td>\n",
       "      <td>10</td>\n",
       "      <td>17</td>\n",
       "    </tr>\n",
       "    <tr>\n",
       "      <th>2</th>\n",
       "      <td>Go First</td>\n",
       "      <td>New Delhi</td>\n",
       "      <td>Mumbai</td>\n",
       "      <td>Non Stop</td>\n",
       "      <td>2h 05m</td>\n",
       "      <td>06:15</td>\n",
       "      <td>08:20</td>\n",
       "      <td>5954.0</td>\n",
       "      <td>10</td>\n",
       "      <td>17</td>\n",
       "    </tr>\n",
       "    <tr>\n",
       "      <th>3</th>\n",
       "      <td>Go First</td>\n",
       "      <td>New Delhi</td>\n",
       "      <td>Mumbai</td>\n",
       "      <td>1 Stop</td>\n",
       "      <td>4h 40m</td>\n",
       "      <td>17:45</td>\n",
       "      <td>22:25</td>\n",
       "      <td>5954.0</td>\n",
       "      <td>10</td>\n",
       "      <td>17</td>\n",
       "    </tr>\n",
       "    <tr>\n",
       "      <th>4</th>\n",
       "      <td>Go First</td>\n",
       "      <td>New Delhi</td>\n",
       "      <td>Mumbai</td>\n",
       "      <td>1 Stop</td>\n",
       "      <td>4h 55m</td>\n",
       "      <td>16:10</td>\n",
       "      <td>21:05</td>\n",
       "      <td>5954.0</td>\n",
       "      <td>10</td>\n",
       "      <td>17</td>\n",
       "    </tr>\n",
       "    <tr>\n",
       "      <th>...</th>\n",
       "      <td>...</td>\n",
       "      <td>...</td>\n",
       "      <td>...</td>\n",
       "      <td>...</td>\n",
       "      <td>...</td>\n",
       "      <td>...</td>\n",
       "      <td>...</td>\n",
       "      <td>...</td>\n",
       "      <td>...</td>\n",
       "      <td>...</td>\n",
       "    </tr>\n",
       "    <tr>\n",
       "      <th>1705</th>\n",
       "      <td>IndiGo</td>\n",
       "      <td>Lucknow</td>\n",
       "      <td>Indore</td>\n",
       "      <td>1 Stop</td>\n",
       "      <td>5h 40m</td>\n",
       "      <td>06:05</td>\n",
       "      <td>11:45</td>\n",
       "      <td>8303.0</td>\n",
       "      <td>10</td>\n",
       "      <td>28</td>\n",
       "    </tr>\n",
       "    <tr>\n",
       "      <th>1706</th>\n",
       "      <td>Vistara</td>\n",
       "      <td>Lucknow</td>\n",
       "      <td>Indore</td>\n",
       "      <td>1 Stop</td>\n",
       "      <td>16h 30m</td>\n",
       "      <td>15:25</td>\n",
       "      <td>07:55</td>\n",
       "      <td>8502.0</td>\n",
       "      <td>10</td>\n",
       "      <td>28</td>\n",
       "    </tr>\n",
       "    <tr>\n",
       "      <th>1707</th>\n",
       "      <td>IndiGo</td>\n",
       "      <td>Lucknow</td>\n",
       "      <td>Indore</td>\n",
       "      <td>1 Stop</td>\n",
       "      <td>7h 25m</td>\n",
       "      <td>14:10</td>\n",
       "      <td>21:35</td>\n",
       "      <td>11191.0</td>\n",
       "      <td>10</td>\n",
       "      <td>28</td>\n",
       "    </tr>\n",
       "    <tr>\n",
       "      <th>1708</th>\n",
       "      <td>Air India</td>\n",
       "      <td>Lucknow</td>\n",
       "      <td>Indore</td>\n",
       "      <td>2 Stop(s)</td>\n",
       "      <td>25h 00m</td>\n",
       "      <td>15:30</td>\n",
       "      <td>16:30</td>\n",
       "      <td>12872.0</td>\n",
       "      <td>10</td>\n",
       "      <td>28</td>\n",
       "    </tr>\n",
       "    <tr>\n",
       "      <th>1709</th>\n",
       "      <td>Air India</td>\n",
       "      <td>Lucknow</td>\n",
       "      <td>Indore</td>\n",
       "      <td>1 Stop</td>\n",
       "      <td>21h 20m</td>\n",
       "      <td>11:05</td>\n",
       "      <td>08:25</td>\n",
       "      <td>13344.0</td>\n",
       "      <td>10</td>\n",
       "      <td>28</td>\n",
       "    </tr>\n",
       "  </tbody>\n",
       "</table>\n",
       "<p>1710 rows × 10 columns</p>\n",
       "</div>"
      ],
      "text/plain": [
       "       Airlines     Source Destination Total Stops Duration Departure Time  \\\n",
       "0      Air Asia  New Delhi      Mumbai      1 Stop   6h 00m          05:20   \n",
       "1      Go First  New Delhi      Mumbai    Non Stop   2h 00m          09:05   \n",
       "2      Go First  New Delhi      Mumbai    Non Stop   2h 05m          06:15   \n",
       "3      Go First  New Delhi      Mumbai      1 Stop   4h 40m          17:45   \n",
       "4      Go First  New Delhi      Mumbai      1 Stop   4h 55m          16:10   \n",
       "...         ...        ...         ...         ...      ...            ...   \n",
       "1705     IndiGo    Lucknow      Indore      1 Stop   5h 40m          06:05   \n",
       "1706    Vistara    Lucknow      Indore      1 Stop  16h 30m          15:25   \n",
       "1707     IndiGo    Lucknow      Indore      1 Stop   7h 25m          14:10   \n",
       "1708  Air India    Lucknow      Indore   2 Stop(s)  25h 00m          15:30   \n",
       "1709  Air India    Lucknow      Indore      1 Stop  21h 20m          11:05   \n",
       "\n",
       "     Arrival Time    Price  Month  Day  \n",
       "0           11:20   5953.0     10   17  \n",
       "1           11:05   5954.0     10   17  \n",
       "2           08:20   5954.0     10   17  \n",
       "3           22:25   5954.0     10   17  \n",
       "4           21:05   5954.0     10   17  \n",
       "...           ...      ...    ...  ...  \n",
       "1705        11:45   8303.0     10   28  \n",
       "1706        07:55   8502.0     10   28  \n",
       "1707        21:35  11191.0     10   28  \n",
       "1708        16:30  12872.0     10   28  \n",
       "1709        08:25  13344.0     10   28  \n",
       "\n",
       "[1710 rows x 10 columns]"
      ]
     },
     "execution_count": 333,
     "metadata": {},
     "output_type": "execute_result"
    }
   ],
   "source": [
    "df"
   ]
  },
  {
   "cell_type": "code",
   "execution_count": 334,
   "metadata": {},
   "outputs": [],
   "source": [
    "# coverting departure and arrival column from object to integer.\n",
    "\n",
    "df['Departure Time Hr']=df['Departure Time'].str.split(':').str[0].astype(int)\n",
    "df['Departure Time Min']=df['Departure Time'].str.split(':').str[1].astype(int)\n",
    "\n",
    "df['Arrival Time Hr']=df['Arrival Time'].str.split(':').str[0].astype(int)\n",
    "df['Arrival Time Min']=df['Arrival Time'].str.split(':').str[1].astype(int)"
   ]
  },
  {
   "cell_type": "code",
   "execution_count": 335,
   "metadata": {},
   "outputs": [
    {
     "data": {
      "text/html": [
       "<div>\n",
       "<style scoped>\n",
       "    .dataframe tbody tr th:only-of-type {\n",
       "        vertical-align: middle;\n",
       "    }\n",
       "\n",
       "    .dataframe tbody tr th {\n",
       "        vertical-align: top;\n",
       "    }\n",
       "\n",
       "    .dataframe thead th {\n",
       "        text-align: right;\n",
       "    }\n",
       "</style>\n",
       "<table border=\"1\" class=\"dataframe\">\n",
       "  <thead>\n",
       "    <tr style=\"text-align: right;\">\n",
       "      <th></th>\n",
       "      <th>Airlines</th>\n",
       "      <th>Source</th>\n",
       "      <th>Destination</th>\n",
       "      <th>Total Stops</th>\n",
       "      <th>Duration</th>\n",
       "      <th>Departure Time</th>\n",
       "      <th>Arrival Time</th>\n",
       "      <th>Price</th>\n",
       "      <th>Month</th>\n",
       "      <th>Day</th>\n",
       "      <th>Departure Time Hr</th>\n",
       "      <th>Departure Time Min</th>\n",
       "      <th>Arrival Time Hr</th>\n",
       "      <th>Arrival Time Min</th>\n",
       "    </tr>\n",
       "  </thead>\n",
       "  <tbody>\n",
       "    <tr>\n",
       "      <th>0</th>\n",
       "      <td>Air Asia</td>\n",
       "      <td>New Delhi</td>\n",
       "      <td>Mumbai</td>\n",
       "      <td>1 Stop</td>\n",
       "      <td>6h 00m</td>\n",
       "      <td>05:20</td>\n",
       "      <td>11:20</td>\n",
       "      <td>5953.0</td>\n",
       "      <td>10</td>\n",
       "      <td>17</td>\n",
       "      <td>5</td>\n",
       "      <td>20</td>\n",
       "      <td>11</td>\n",
       "      <td>20</td>\n",
       "    </tr>\n",
       "    <tr>\n",
       "      <th>1</th>\n",
       "      <td>Go First</td>\n",
       "      <td>New Delhi</td>\n",
       "      <td>Mumbai</td>\n",
       "      <td>Non Stop</td>\n",
       "      <td>2h 00m</td>\n",
       "      <td>09:05</td>\n",
       "      <td>11:05</td>\n",
       "      <td>5954.0</td>\n",
       "      <td>10</td>\n",
       "      <td>17</td>\n",
       "      <td>9</td>\n",
       "      <td>5</td>\n",
       "      <td>11</td>\n",
       "      <td>5</td>\n",
       "    </tr>\n",
       "    <tr>\n",
       "      <th>2</th>\n",
       "      <td>Go First</td>\n",
       "      <td>New Delhi</td>\n",
       "      <td>Mumbai</td>\n",
       "      <td>Non Stop</td>\n",
       "      <td>2h 05m</td>\n",
       "      <td>06:15</td>\n",
       "      <td>08:20</td>\n",
       "      <td>5954.0</td>\n",
       "      <td>10</td>\n",
       "      <td>17</td>\n",
       "      <td>6</td>\n",
       "      <td>15</td>\n",
       "      <td>8</td>\n",
       "      <td>20</td>\n",
       "    </tr>\n",
       "    <tr>\n",
       "      <th>3</th>\n",
       "      <td>Go First</td>\n",
       "      <td>New Delhi</td>\n",
       "      <td>Mumbai</td>\n",
       "      <td>1 Stop</td>\n",
       "      <td>4h 40m</td>\n",
       "      <td>17:45</td>\n",
       "      <td>22:25</td>\n",
       "      <td>5954.0</td>\n",
       "      <td>10</td>\n",
       "      <td>17</td>\n",
       "      <td>17</td>\n",
       "      <td>45</td>\n",
       "      <td>22</td>\n",
       "      <td>25</td>\n",
       "    </tr>\n",
       "    <tr>\n",
       "      <th>4</th>\n",
       "      <td>Go First</td>\n",
       "      <td>New Delhi</td>\n",
       "      <td>Mumbai</td>\n",
       "      <td>1 Stop</td>\n",
       "      <td>4h 55m</td>\n",
       "      <td>16:10</td>\n",
       "      <td>21:05</td>\n",
       "      <td>5954.0</td>\n",
       "      <td>10</td>\n",
       "      <td>17</td>\n",
       "      <td>16</td>\n",
       "      <td>10</td>\n",
       "      <td>21</td>\n",
       "      <td>5</td>\n",
       "    </tr>\n",
       "    <tr>\n",
       "      <th>...</th>\n",
       "      <td>...</td>\n",
       "      <td>...</td>\n",
       "      <td>...</td>\n",
       "      <td>...</td>\n",
       "      <td>...</td>\n",
       "      <td>...</td>\n",
       "      <td>...</td>\n",
       "      <td>...</td>\n",
       "      <td>...</td>\n",
       "      <td>...</td>\n",
       "      <td>...</td>\n",
       "      <td>...</td>\n",
       "      <td>...</td>\n",
       "      <td>...</td>\n",
       "    </tr>\n",
       "    <tr>\n",
       "      <th>1705</th>\n",
       "      <td>IndiGo</td>\n",
       "      <td>Lucknow</td>\n",
       "      <td>Indore</td>\n",
       "      <td>1 Stop</td>\n",
       "      <td>5h 40m</td>\n",
       "      <td>06:05</td>\n",
       "      <td>11:45</td>\n",
       "      <td>8303.0</td>\n",
       "      <td>10</td>\n",
       "      <td>28</td>\n",
       "      <td>6</td>\n",
       "      <td>5</td>\n",
       "      <td>11</td>\n",
       "      <td>45</td>\n",
       "    </tr>\n",
       "    <tr>\n",
       "      <th>1706</th>\n",
       "      <td>Vistara</td>\n",
       "      <td>Lucknow</td>\n",
       "      <td>Indore</td>\n",
       "      <td>1 Stop</td>\n",
       "      <td>16h 30m</td>\n",
       "      <td>15:25</td>\n",
       "      <td>07:55</td>\n",
       "      <td>8502.0</td>\n",
       "      <td>10</td>\n",
       "      <td>28</td>\n",
       "      <td>15</td>\n",
       "      <td>25</td>\n",
       "      <td>7</td>\n",
       "      <td>55</td>\n",
       "    </tr>\n",
       "    <tr>\n",
       "      <th>1707</th>\n",
       "      <td>IndiGo</td>\n",
       "      <td>Lucknow</td>\n",
       "      <td>Indore</td>\n",
       "      <td>1 Stop</td>\n",
       "      <td>7h 25m</td>\n",
       "      <td>14:10</td>\n",
       "      <td>21:35</td>\n",
       "      <td>11191.0</td>\n",
       "      <td>10</td>\n",
       "      <td>28</td>\n",
       "      <td>14</td>\n",
       "      <td>10</td>\n",
       "      <td>21</td>\n",
       "      <td>35</td>\n",
       "    </tr>\n",
       "    <tr>\n",
       "      <th>1708</th>\n",
       "      <td>Air India</td>\n",
       "      <td>Lucknow</td>\n",
       "      <td>Indore</td>\n",
       "      <td>2 Stop(s)</td>\n",
       "      <td>25h 00m</td>\n",
       "      <td>15:30</td>\n",
       "      <td>16:30</td>\n",
       "      <td>12872.0</td>\n",
       "      <td>10</td>\n",
       "      <td>28</td>\n",
       "      <td>15</td>\n",
       "      <td>30</td>\n",
       "      <td>16</td>\n",
       "      <td>30</td>\n",
       "    </tr>\n",
       "    <tr>\n",
       "      <th>1709</th>\n",
       "      <td>Air India</td>\n",
       "      <td>Lucknow</td>\n",
       "      <td>Indore</td>\n",
       "      <td>1 Stop</td>\n",
       "      <td>21h 20m</td>\n",
       "      <td>11:05</td>\n",
       "      <td>08:25</td>\n",
       "      <td>13344.0</td>\n",
       "      <td>10</td>\n",
       "      <td>28</td>\n",
       "      <td>11</td>\n",
       "      <td>5</td>\n",
       "      <td>8</td>\n",
       "      <td>25</td>\n",
       "    </tr>\n",
       "  </tbody>\n",
       "</table>\n",
       "<p>1710 rows × 14 columns</p>\n",
       "</div>"
      ],
      "text/plain": [
       "       Airlines     Source Destination Total Stops Duration Departure Time  \\\n",
       "0      Air Asia  New Delhi      Mumbai      1 Stop   6h 00m          05:20   \n",
       "1      Go First  New Delhi      Mumbai    Non Stop   2h 00m          09:05   \n",
       "2      Go First  New Delhi      Mumbai    Non Stop   2h 05m          06:15   \n",
       "3      Go First  New Delhi      Mumbai      1 Stop   4h 40m          17:45   \n",
       "4      Go First  New Delhi      Mumbai      1 Stop   4h 55m          16:10   \n",
       "...         ...        ...         ...         ...      ...            ...   \n",
       "1705     IndiGo    Lucknow      Indore      1 Stop   5h 40m          06:05   \n",
       "1706    Vistara    Lucknow      Indore      1 Stop  16h 30m          15:25   \n",
       "1707     IndiGo    Lucknow      Indore      1 Stop   7h 25m          14:10   \n",
       "1708  Air India    Lucknow      Indore   2 Stop(s)  25h 00m          15:30   \n",
       "1709  Air India    Lucknow      Indore      1 Stop  21h 20m          11:05   \n",
       "\n",
       "     Arrival Time    Price  Month  Day  Departure Time Hr  Departure Time Min  \\\n",
       "0           11:20   5953.0     10   17                  5                  20   \n",
       "1           11:05   5954.0     10   17                  9                   5   \n",
       "2           08:20   5954.0     10   17                  6                  15   \n",
       "3           22:25   5954.0     10   17                 17                  45   \n",
       "4           21:05   5954.0     10   17                 16                  10   \n",
       "...           ...      ...    ...  ...                ...                 ...   \n",
       "1705        11:45   8303.0     10   28                  6                   5   \n",
       "1706        07:55   8502.0     10   28                 15                  25   \n",
       "1707        21:35  11191.0     10   28                 14                  10   \n",
       "1708        16:30  12872.0     10   28                 15                  30   \n",
       "1709        08:25  13344.0     10   28                 11                   5   \n",
       "\n",
       "      Arrival Time Hr  Arrival Time Min  \n",
       "0                  11                20  \n",
       "1                  11                 5  \n",
       "2                   8                20  \n",
       "3                  22                25  \n",
       "4                  21                 5  \n",
       "...               ...               ...  \n",
       "1705               11                45  \n",
       "1706                7                55  \n",
       "1707               21                35  \n",
       "1708               16                30  \n",
       "1709                8                25  \n",
       "\n",
       "[1710 rows x 14 columns]"
      ]
     },
     "execution_count": 335,
     "metadata": {},
     "output_type": "execute_result"
    }
   ],
   "source": [
    "df"
   ]
  },
  {
   "cell_type": "code",
   "execution_count": 336,
   "metadata": {},
   "outputs": [],
   "source": [
    "# extracting time hour and min from duration columns.\n",
    "\n",
    "df['Duration Hr']=(df['Duration'].str.split(' ').str[0])\n",
    "df['Duration Min']=(df['Duration'].str.split(' ').str[1])\n",
    "\n",
    "# removing the 'h' and 'm' word from the columns and convert it into integer type.\n",
    "\n",
    "df['Duration Hr']=df['Duration Hr'].str.slice(stop=-1).astype(int)\n",
    "df['Duration Min']=df['Duration Min'].str.slice(stop=-1).astype(int)"
   ]
  },
  {
   "cell_type": "code",
   "execution_count": 337,
   "metadata": {},
   "outputs": [
    {
     "data": {
      "text/html": [
       "<div>\n",
       "<style scoped>\n",
       "    .dataframe tbody tr th:only-of-type {\n",
       "        vertical-align: middle;\n",
       "    }\n",
       "\n",
       "    .dataframe tbody tr th {\n",
       "        vertical-align: top;\n",
       "    }\n",
       "\n",
       "    .dataframe thead th {\n",
       "        text-align: right;\n",
       "    }\n",
       "</style>\n",
       "<table border=\"1\" class=\"dataframe\">\n",
       "  <thead>\n",
       "    <tr style=\"text-align: right;\">\n",
       "      <th></th>\n",
       "      <th>Airlines</th>\n",
       "      <th>Source</th>\n",
       "      <th>Destination</th>\n",
       "      <th>Total Stops</th>\n",
       "      <th>Duration</th>\n",
       "      <th>Departure Time</th>\n",
       "      <th>Arrival Time</th>\n",
       "      <th>Price</th>\n",
       "      <th>Month</th>\n",
       "      <th>Day</th>\n",
       "      <th>Departure Time Hr</th>\n",
       "      <th>Departure Time Min</th>\n",
       "      <th>Arrival Time Hr</th>\n",
       "      <th>Arrival Time Min</th>\n",
       "      <th>Duration Hr</th>\n",
       "      <th>Duration Min</th>\n",
       "    </tr>\n",
       "  </thead>\n",
       "  <tbody>\n",
       "    <tr>\n",
       "      <th>0</th>\n",
       "      <td>Air Asia</td>\n",
       "      <td>New Delhi</td>\n",
       "      <td>Mumbai</td>\n",
       "      <td>1 Stop</td>\n",
       "      <td>6h 00m</td>\n",
       "      <td>05:20</td>\n",
       "      <td>11:20</td>\n",
       "      <td>5953.0</td>\n",
       "      <td>10</td>\n",
       "      <td>17</td>\n",
       "      <td>5</td>\n",
       "      <td>20</td>\n",
       "      <td>11</td>\n",
       "      <td>20</td>\n",
       "      <td>6</td>\n",
       "      <td>0</td>\n",
       "    </tr>\n",
       "    <tr>\n",
       "      <th>1</th>\n",
       "      <td>Go First</td>\n",
       "      <td>New Delhi</td>\n",
       "      <td>Mumbai</td>\n",
       "      <td>Non Stop</td>\n",
       "      <td>2h 00m</td>\n",
       "      <td>09:05</td>\n",
       "      <td>11:05</td>\n",
       "      <td>5954.0</td>\n",
       "      <td>10</td>\n",
       "      <td>17</td>\n",
       "      <td>9</td>\n",
       "      <td>5</td>\n",
       "      <td>11</td>\n",
       "      <td>5</td>\n",
       "      <td>2</td>\n",
       "      <td>0</td>\n",
       "    </tr>\n",
       "    <tr>\n",
       "      <th>2</th>\n",
       "      <td>Go First</td>\n",
       "      <td>New Delhi</td>\n",
       "      <td>Mumbai</td>\n",
       "      <td>Non Stop</td>\n",
       "      <td>2h 05m</td>\n",
       "      <td>06:15</td>\n",
       "      <td>08:20</td>\n",
       "      <td>5954.0</td>\n",
       "      <td>10</td>\n",
       "      <td>17</td>\n",
       "      <td>6</td>\n",
       "      <td>15</td>\n",
       "      <td>8</td>\n",
       "      <td>20</td>\n",
       "      <td>2</td>\n",
       "      <td>5</td>\n",
       "    </tr>\n",
       "    <tr>\n",
       "      <th>3</th>\n",
       "      <td>Go First</td>\n",
       "      <td>New Delhi</td>\n",
       "      <td>Mumbai</td>\n",
       "      <td>1 Stop</td>\n",
       "      <td>4h 40m</td>\n",
       "      <td>17:45</td>\n",
       "      <td>22:25</td>\n",
       "      <td>5954.0</td>\n",
       "      <td>10</td>\n",
       "      <td>17</td>\n",
       "      <td>17</td>\n",
       "      <td>45</td>\n",
       "      <td>22</td>\n",
       "      <td>25</td>\n",
       "      <td>4</td>\n",
       "      <td>40</td>\n",
       "    </tr>\n",
       "    <tr>\n",
       "      <th>4</th>\n",
       "      <td>Go First</td>\n",
       "      <td>New Delhi</td>\n",
       "      <td>Mumbai</td>\n",
       "      <td>1 Stop</td>\n",
       "      <td>4h 55m</td>\n",
       "      <td>16:10</td>\n",
       "      <td>21:05</td>\n",
       "      <td>5954.0</td>\n",
       "      <td>10</td>\n",
       "      <td>17</td>\n",
       "      <td>16</td>\n",
       "      <td>10</td>\n",
       "      <td>21</td>\n",
       "      <td>5</td>\n",
       "      <td>4</td>\n",
       "      <td>55</td>\n",
       "    </tr>\n",
       "  </tbody>\n",
       "</table>\n",
       "</div>"
      ],
      "text/plain": [
       "   Airlines     Source Destination Total Stops Duration Departure Time  \\\n",
       "0  Air Asia  New Delhi      Mumbai      1 Stop   6h 00m          05:20   \n",
       "1  Go First  New Delhi      Mumbai    Non Stop   2h 00m          09:05   \n",
       "2  Go First  New Delhi      Mumbai    Non Stop   2h 05m          06:15   \n",
       "3  Go First  New Delhi      Mumbai      1 Stop   4h 40m          17:45   \n",
       "4  Go First  New Delhi      Mumbai      1 Stop   4h 55m          16:10   \n",
       "\n",
       "  Arrival Time   Price  Month  Day  Departure Time Hr  Departure Time Min  \\\n",
       "0        11:20  5953.0     10   17                  5                  20   \n",
       "1        11:05  5954.0     10   17                  9                   5   \n",
       "2        08:20  5954.0     10   17                  6                  15   \n",
       "3        22:25  5954.0     10   17                 17                  45   \n",
       "4        21:05  5954.0     10   17                 16                  10   \n",
       "\n",
       "   Arrival Time Hr  Arrival Time Min  Duration Hr  Duration Min  \n",
       "0               11                20            6             0  \n",
       "1               11                 5            2             0  \n",
       "2                8                20            2             5  \n",
       "3               22                25            4            40  \n",
       "4               21                 5            4            55  "
      ]
     },
     "execution_count": 337,
     "metadata": {},
     "output_type": "execute_result"
    }
   ],
   "source": [
    "df.head()"
   ]
  },
  {
   "cell_type": "code",
   "execution_count": 338,
   "metadata": {},
   "outputs": [],
   "source": [
    "# Now we can drop original columns after extracting the required data.\n",
    "\n",
    "df.drop(columns=['Duration','Departure Time','Arrival Time'],axis=1,inplace=True)"
   ]
  },
  {
   "cell_type": "code",
   "execution_count": 339,
   "metadata": {},
   "outputs": [
    {
     "data": {
      "text/html": [
       "<div>\n",
       "<style scoped>\n",
       "    .dataframe tbody tr th:only-of-type {\n",
       "        vertical-align: middle;\n",
       "    }\n",
       "\n",
       "    .dataframe tbody tr th {\n",
       "        vertical-align: top;\n",
       "    }\n",
       "\n",
       "    .dataframe thead th {\n",
       "        text-align: right;\n",
       "    }\n",
       "</style>\n",
       "<table border=\"1\" class=\"dataframe\">\n",
       "  <thead>\n",
       "    <tr style=\"text-align: right;\">\n",
       "      <th></th>\n",
       "      <th>Airlines</th>\n",
       "      <th>Source</th>\n",
       "      <th>Destination</th>\n",
       "      <th>Total Stops</th>\n",
       "      <th>Price</th>\n",
       "      <th>Month</th>\n",
       "      <th>Day</th>\n",
       "      <th>Departure Time Hr</th>\n",
       "      <th>Departure Time Min</th>\n",
       "      <th>Arrival Time Hr</th>\n",
       "      <th>Arrival Time Min</th>\n",
       "      <th>Duration Hr</th>\n",
       "      <th>Duration Min</th>\n",
       "    </tr>\n",
       "  </thead>\n",
       "  <tbody>\n",
       "    <tr>\n",
       "      <th>0</th>\n",
       "      <td>Air Asia</td>\n",
       "      <td>New Delhi</td>\n",
       "      <td>Mumbai</td>\n",
       "      <td>1 Stop</td>\n",
       "      <td>5953.0</td>\n",
       "      <td>10</td>\n",
       "      <td>17</td>\n",
       "      <td>5</td>\n",
       "      <td>20</td>\n",
       "      <td>11</td>\n",
       "      <td>20</td>\n",
       "      <td>6</td>\n",
       "      <td>0</td>\n",
       "    </tr>\n",
       "    <tr>\n",
       "      <th>1</th>\n",
       "      <td>Go First</td>\n",
       "      <td>New Delhi</td>\n",
       "      <td>Mumbai</td>\n",
       "      <td>Non Stop</td>\n",
       "      <td>5954.0</td>\n",
       "      <td>10</td>\n",
       "      <td>17</td>\n",
       "      <td>9</td>\n",
       "      <td>5</td>\n",
       "      <td>11</td>\n",
       "      <td>5</td>\n",
       "      <td>2</td>\n",
       "      <td>0</td>\n",
       "    </tr>\n",
       "    <tr>\n",
       "      <th>2</th>\n",
       "      <td>Go First</td>\n",
       "      <td>New Delhi</td>\n",
       "      <td>Mumbai</td>\n",
       "      <td>Non Stop</td>\n",
       "      <td>5954.0</td>\n",
       "      <td>10</td>\n",
       "      <td>17</td>\n",
       "      <td>6</td>\n",
       "      <td>15</td>\n",
       "      <td>8</td>\n",
       "      <td>20</td>\n",
       "      <td>2</td>\n",
       "      <td>5</td>\n",
       "    </tr>\n",
       "    <tr>\n",
       "      <th>3</th>\n",
       "      <td>Go First</td>\n",
       "      <td>New Delhi</td>\n",
       "      <td>Mumbai</td>\n",
       "      <td>1 Stop</td>\n",
       "      <td>5954.0</td>\n",
       "      <td>10</td>\n",
       "      <td>17</td>\n",
       "      <td>17</td>\n",
       "      <td>45</td>\n",
       "      <td>22</td>\n",
       "      <td>25</td>\n",
       "      <td>4</td>\n",
       "      <td>40</td>\n",
       "    </tr>\n",
       "    <tr>\n",
       "      <th>4</th>\n",
       "      <td>Go First</td>\n",
       "      <td>New Delhi</td>\n",
       "      <td>Mumbai</td>\n",
       "      <td>1 Stop</td>\n",
       "      <td>5954.0</td>\n",
       "      <td>10</td>\n",
       "      <td>17</td>\n",
       "      <td>16</td>\n",
       "      <td>10</td>\n",
       "      <td>21</td>\n",
       "      <td>5</td>\n",
       "      <td>4</td>\n",
       "      <td>55</td>\n",
       "    </tr>\n",
       "  </tbody>\n",
       "</table>\n",
       "</div>"
      ],
      "text/plain": [
       "   Airlines     Source Destination Total Stops   Price  Month  Day  \\\n",
       "0  Air Asia  New Delhi      Mumbai      1 Stop  5953.0     10   17   \n",
       "1  Go First  New Delhi      Mumbai    Non Stop  5954.0     10   17   \n",
       "2  Go First  New Delhi      Mumbai    Non Stop  5954.0     10   17   \n",
       "3  Go First  New Delhi      Mumbai      1 Stop  5954.0     10   17   \n",
       "4  Go First  New Delhi      Mumbai      1 Stop  5954.0     10   17   \n",
       "\n",
       "   Departure Time Hr  Departure Time Min  Arrival Time Hr  Arrival Time Min  \\\n",
       "0                  5                  20               11                20   \n",
       "1                  9                   5               11                 5   \n",
       "2                  6                  15                8                20   \n",
       "3                 17                  45               22                25   \n",
       "4                 16                  10               21                 5   \n",
       "\n",
       "   Duration Hr  Duration Min  \n",
       "0            6             0  \n",
       "1            2             0  \n",
       "2            2             5  \n",
       "3            4            40  \n",
       "4            4            55  "
      ]
     },
     "execution_count": 339,
     "metadata": {},
     "output_type": "execute_result"
    }
   ],
   "source": [
    "df.head()"
   ]
  },
  {
   "cell_type": "markdown",
   "metadata": {},
   "source": [
    "### Univariate Analysis"
   ]
  },
  {
   "cell_type": "code",
   "execution_count": 340,
   "metadata": {},
   "outputs": [
    {
     "name": "stdout",
     "output_type": "stream",
     "text": [
      "IndiGo       550\n",
      "Air India    377\n",
      "Vistara      321\n",
      "Go First     233\n",
      "Air Asia     146\n",
      "SpiceJet      83\n",
      "Name: Airlines, dtype: int64\n"
     ]
    },
    {
     "data": {
      "text/plain": [
       "<matplotlib.axes._subplots.AxesSubplot at 0x2214f420048>"
      ]
     },
     "execution_count": 340,
     "metadata": {},
     "output_type": "execute_result"
    },
    {
     "data": {
      "image/png": "[encoded data removed]",
      "text/plain": [
       "<Figure size 1080x432 with 1 Axes>"
      ]
     },
     "metadata": {
      "needs_background": "light"
     },
     "output_type": "display_data"
    }
   ],
   "source": [
    "print(df.Airlines.value_counts())\n",
    "plt.figure(figsize=(15,6))\n",
    "sns.countplot(df['Airlines'])"
   ]
  },
  {
   "cell_type": "markdown",
   "metadata": {},
   "source": [
    "1. IndiGo has the highest count in the dataset followed by Air India and Vistara respectively."
   ]
  },
  {
   "cell_type": "code",
   "execution_count": 341,
   "metadata": {},
   "outputs": [
    {
     "name": "stdout",
     "output_type": "stream",
     "text": [
      "New Delhi     894\n",
      "Kolkata       130\n",
      "Bangalore     120\n",
      "Mumbai         90\n",
      "Lucknow        70\n",
      "Chennai        60\n",
      "Kochi          50\n",
      "Pune           47\n",
      "Ahmedabad      45\n",
      "Jammu          45\n",
      "Varanasi       45\n",
      "Goa            25\n",
      "Trivandrum     25\n",
      "Hyderabad      25\n",
      "Indore         24\n",
      "Jaipur         11\n",
      "Nasik           4\n",
      "Name: Source, dtype: int64\n"
     ]
    },
    {
     "data": {
      "text/plain": [
       "<matplotlib.axes._subplots.AxesSubplot at 0x2214f436a48>"
      ]
     },
     "execution_count": 341,
     "metadata": {},
     "output_type": "execute_result"
    },
    {
     "data": {
      "image/png": "[encoded data removed]",
      "text/plain": [
       "<Figure size 1440x432 with 1 Axes>"
      ]
     },
     "metadata": {
      "needs_background": "light"
     },
     "output_type": "display_data"
    }
   ],
   "source": [
    "print(df.Source.value_counts())\n",
    "plt.figure(figsize=(20,6))\n",
    "sns.countplot(df['Source'])"
   ]
  },
  {
   "cell_type": "markdown",
   "metadata": {},
   "source": [
    "1. New Delhi is highest in count whereas Nasik and Jaipur are lowest in count respectively."
   ]
  },
  {
   "cell_type": "code",
   "execution_count": 342,
   "metadata": {},
   "outputs": [
    {
     "name": "stdout",
     "output_type": "stream",
     "text": [
      "Mumbai        879\n",
      "Hyderabad     175\n",
      "Bangalore     140\n",
      "Varanasi       95\n",
      "Chennai        80\n",
      "New Delhi      74\n",
      "Kolkata        70\n",
      "Udaipur        47\n",
      "Kochi          35\n",
      "Jammu          35\n",
      "Ahmedabad      25\n",
      "Goa            25\n",
      "Indore         15\n",
      "Trivandrum     11\n",
      "Jaipur          4\n",
      "Name: Destination, dtype: int64\n"
     ]
    },
    {
     "data": {
      "text/plain": [
       "<matplotlib.axes._subplots.AxesSubplot at 0x2214f3d7188>"
      ]
     },
     "execution_count": 342,
     "metadata": {},
     "output_type": "execute_result"
    },
    {
     "data": {
      "image/png": "[encoded data removed]",
      "text/plain": [
       "<Figure size 1440x432 with 1 Axes>"
      ]
     },
     "metadata": {
      "needs_background": "light"
     },
     "output_type": "display_data"
    }
   ],
   "source": [
    "print(df.Destination.value_counts())\n",
    "plt.figure(figsize=(20,6))\n",
    "sns.countplot(df['Destination'])"
   ]
  },
  {
   "cell_type": "markdown",
   "metadata": {},
   "source": [
    "1. Mumbai is highest in count whereas Jaipur and Trivandrum are lowest in count respectively."
   ]
  },
  {
   "cell_type": "code",
   "execution_count": 343,
   "metadata": {},
   "outputs": [
    {
     "name": "stdout",
     "output_type": "stream",
     "text": [
      "1 Stop       1153\n",
      "Non Stop      404\n",
      "2 Stop(s)     122\n",
      "3 Stop(s)      29\n",
      "4 Stop(s)       2\n",
      "Name: Total Stops, dtype: int64\n"
     ]
    },
    {
     "data": {
      "text/plain": [
       "<matplotlib.axes._subplots.AxesSubplot at 0x22150c25688>"
      ]
     },
     "execution_count": 343,
     "metadata": {},
     "output_type": "execute_result"
    },
    {
     "data": {
      "image/png": "[encoded data removed]",
      "text/plain": [
       "<Figure size 432x288 with 1 Axes>"
      ]
     },
     "metadata": {
      "needs_background": "light"
     },
     "output_type": "display_data"
    }
   ],
   "source": [
    "print(df['Total Stops'].value_counts())\n",
    "sns.countplot(df['Total Stops'])"
   ]
  },
  {
   "cell_type": "markdown",
   "metadata": {},
   "source": [
    "1. 1 stop is highest in number whereas 4 stop is lowest.\n",
    "2. we can conclude that most of the flights are connect places with 1 stop only."
   ]
  },
  {
   "cell_type": "code",
   "execution_count": 344,
   "metadata": {},
   "outputs": [
    {
     "data": {
      "text/plain": [
       "<matplotlib.axes._subplots.AxesSubplot at 0x221509c97c8>"
      ]
     },
     "execution_count": 344,
     "metadata": {},
     "output_type": "execute_result"
    },
    {
     "data": {
      "image/png": "[encoded data removed]",
      "text/plain": [
       "<Figure size 432x288 with 1 Axes>"
      ]
     },
     "metadata": {
      "needs_background": "light"
     },
     "output_type": "display_data"
    }
   ],
   "source": [
    "sns.distplot(df['Price'])"
   ]
  },
  {
   "cell_type": "markdown",
   "metadata": {},
   "source": [
    "1. Most of the flights are having price between 3800 to 5500 and some have approx 10000 to 13000."
   ]
  },
  {
   "cell_type": "markdown",
   "metadata": {},
   "source": [
    "### Bivariate Analysis"
   ]
  },
  {
   "cell_type": "code",
   "execution_count": 345,
   "metadata": {},
   "outputs": [
    {
     "data": {
      "text/plain": [
       "<matplotlib.axes._subplots.AxesSubplot at 0x22150a91cc8>"
      ]
     },
     "execution_count": 345,
     "metadata": {},
     "output_type": "execute_result"
    },
    {
     "data": {
      "image/png": "[encoded data removed]",
      "text/plain": [
       "<Figure size 1800x432 with 1 Axes>"
      ]
     },
     "metadata": {
      "needs_background": "light"
     },
     "output_type": "display_data"
    }
   ],
   "source": [
    "plt.figure(figsize=(25,6))\n",
    "sns.barplot(x='Airlines',y='Price',data=df,palette='plasma')"
   ]
  },
  {
   "cell_type": "markdown",
   "metadata": {},
   "source": [
    "1. Vistara and Air India has highest price among all respectively."
   ]
  },
  {
   "cell_type": "code",
   "execution_count": 346,
   "metadata": {},
   "outputs": [
    {
     "data": {
      "text/plain": [
       "<matplotlib.axes._subplots.AxesSubplot at 0x22150b1d188>"
      ]
     },
     "execution_count": 346,
     "metadata": {},
     "output_type": "execute_result"
    },
    {
     "data": {
      "image/png": "[encoded data removed]",
      "text/plain": [
       "<Figure size 2160x432 with 1 Axes>"
      ]
     },
     "metadata": {
      "needs_background": "light"
     },
     "output_type": "display_data"
    }
   ],
   "source": [
    "plt.figure(figsize=(30,6))\n",
    "sns.barplot(x='Source',y='Price',data=df,palette='plasma')"
   ]
  },
  {
   "cell_type": "markdown",
   "metadata": {},
   "source": [
    "1. Among all the sources Jammu and Trivandrum has highest price for the flight."
   ]
  },
  {
   "cell_type": "code",
   "execution_count": 347,
   "metadata": {},
   "outputs": [
    {
     "data": {
      "text/plain": [
       "<matplotlib.axes._subplots.AxesSubplot at 0x22150be1e48>"
      ]
     },
     "execution_count": 347,
     "metadata": {},
     "output_type": "execute_result"
    },
    {
     "data": {
      "image/png": "[encoded data removed]",
      "text/plain": [
       "<Figure size 2160x432 with 1 Axes>"
      ]
     },
     "metadata": {
      "needs_background": "light"
     },
     "output_type": "display_data"
    }
   ],
   "source": [
    "plt.figure(figsize=(30,6))\n",
    "sns.barplot(x='Destination',y='Price',data=df,palette='plasma')"
   ]
  },
  {
   "cell_type": "code",
   "execution_count": 348,
   "metadata": {},
   "outputs": [
    {
     "data": {
      "text/plain": [
       "<matplotlib.axes._subplots.AxesSubplot at 0x22151387148>"
      ]
     },
     "execution_count": 348,
     "metadata": {},
     "output_type": "execute_result"
    },
    {
     "data": {
      "image/png": "[encoded data removed]",
      "text/plain": [
       "<Figure size 576x360 with 1 Axes>"
      ]
     },
     "metadata": {
      "needs_background": "light"
     },
     "output_type": "display_data"
    }
   ],
   "source": [
    "plt.figure(figsize=(8,5))\n",
    "sns.barplot(x='Total Stops',y='Price',data=df,palette='plasma')"
   ]
  },
  {
   "cell_type": "markdown",
   "metadata": {},
   "source": [
    "More no. of stops between source and destination leads to high price."
   ]
  },
  {
   "cell_type": "code",
   "execution_count": 349,
   "metadata": {},
   "outputs": [
    {
     "data": {
      "text/plain": [
       "<matplotlib.axes._subplots.AxesSubplot at 0x2215141bcc8>"
      ]
     },
     "execution_count": 349,
     "metadata": {},
     "output_type": "execute_result"
    },
    {
     "data": {
      "image/png": "[encoded data removed]",
      "text/plain": [
       "<Figure size 720x432 with 1 Axes>"
      ]
     },
     "metadata": {
      "needs_background": "light"
     },
     "output_type": "display_data"
    }
   ],
   "source": [
    "plt.figure(figsize=(10,6))\n",
    "sns.barplot(x='Month',y='Price',data=df,palette='plasma')"
   ]
  },
  {
   "cell_type": "markdown",
   "metadata": {},
   "source": [
    "Mostly Flight prices are highest in the month of March, June, July and October."
   ]
  },
  {
   "cell_type": "code",
   "execution_count": 350,
   "metadata": {},
   "outputs": [
    {
     "data": {
      "text/html": [
       "<div>\n",
       "<style scoped>\n",
       "    .dataframe tbody tr th:only-of-type {\n",
       "        vertical-align: middle;\n",
       "    }\n",
       "\n",
       "    .dataframe tbody tr th {\n",
       "        vertical-align: top;\n",
       "    }\n",
       "\n",
       "    .dataframe thead th {\n",
       "        text-align: right;\n",
       "    }\n",
       "</style>\n",
       "<table border=\"1\" class=\"dataframe\">\n",
       "  <thead>\n",
       "    <tr style=\"text-align: right;\">\n",
       "      <th></th>\n",
       "      <th>Price</th>\n",
       "      <th>Month</th>\n",
       "      <th>Day</th>\n",
       "      <th>Departure Time Hr</th>\n",
       "      <th>Departure Time Min</th>\n",
       "      <th>Arrival Time Hr</th>\n",
       "      <th>Arrival Time Min</th>\n",
       "      <th>Duration Hr</th>\n",
       "      <th>Duration Min</th>\n",
       "    </tr>\n",
       "  </thead>\n",
       "  <tbody>\n",
       "    <tr>\n",
       "      <th>count</th>\n",
       "      <td>1710.000000</td>\n",
       "      <td>1710.000000</td>\n",
       "      <td>1710.000000</td>\n",
       "      <td>1710.000000</td>\n",
       "      <td>1710.000000</td>\n",
       "      <td>1710.000000</td>\n",
       "      <td>1710.000000</td>\n",
       "      <td>1710.000000</td>\n",
       "      <td>1710.000000</td>\n",
       "    </tr>\n",
       "    <tr>\n",
       "      <th>mean</th>\n",
       "      <td>7596.524561</td>\n",
       "      <td>9.038012</td>\n",
       "      <td>18.323977</td>\n",
       "      <td>12.823977</td>\n",
       "      <td>26.590643</td>\n",
       "      <td>15.046784</td>\n",
       "      <td>26.809357</td>\n",
       "      <td>9.228655</td>\n",
       "      <td>26.183626</td>\n",
       "    </tr>\n",
       "    <tr>\n",
       "      <th>std</th>\n",
       "      <td>3998.835514</td>\n",
       "      <td>2.799997</td>\n",
       "      <td>6.173260</td>\n",
       "      <td>5.121463</td>\n",
       "      <td>17.745576</td>\n",
       "      <td>5.648172</td>\n",
       "      <td>16.938049</td>\n",
       "      <td>7.284473</td>\n",
       "      <td>17.113539</td>\n",
       "    </tr>\n",
       "    <tr>\n",
       "      <th>min</th>\n",
       "      <td>1552.000000</td>\n",
       "      <td>1.000000</td>\n",
       "      <td>1.000000</td>\n",
       "      <td>0.000000</td>\n",
       "      <td>0.000000</td>\n",
       "      <td>0.000000</td>\n",
       "      <td>0.000000</td>\n",
       "      <td>1.000000</td>\n",
       "      <td>0.000000</td>\n",
       "    </tr>\n",
       "    <tr>\n",
       "      <th>25%</th>\n",
       "      <td>5066.250000</td>\n",
       "      <td>10.000000</td>\n",
       "      <td>15.000000</td>\n",
       "      <td>8.000000</td>\n",
       "      <td>10.000000</td>\n",
       "      <td>11.000000</td>\n",
       "      <td>10.000000</td>\n",
       "      <td>3.000000</td>\n",
       "      <td>10.000000</td>\n",
       "    </tr>\n",
       "    <tr>\n",
       "      <th>50%</th>\n",
       "      <td>5955.000000</td>\n",
       "      <td>10.000000</td>\n",
       "      <td>19.000000</td>\n",
       "      <td>13.000000</td>\n",
       "      <td>25.000000</td>\n",
       "      <td>15.000000</td>\n",
       "      <td>30.000000</td>\n",
       "      <td>7.000000</td>\n",
       "      <td>25.000000</td>\n",
       "    </tr>\n",
       "    <tr>\n",
       "      <th>75%</th>\n",
       "      <td>9840.000000</td>\n",
       "      <td>10.000000</td>\n",
       "      <td>22.000000</td>\n",
       "      <td>17.000000</td>\n",
       "      <td>45.000000</td>\n",
       "      <td>20.000000</td>\n",
       "      <td>40.000000</td>\n",
       "      <td>13.000000</td>\n",
       "      <td>40.000000</td>\n",
       "    </tr>\n",
       "    <tr>\n",
       "      <th>max</th>\n",
       "      <td>32100.000000</td>\n",
       "      <td>12.000000</td>\n",
       "      <td>31.000000</td>\n",
       "      <td>23.000000</td>\n",
       "      <td>55.000000</td>\n",
       "      <td>23.000000</td>\n",
       "      <td>59.000000</td>\n",
       "      <td>32.000000</td>\n",
       "      <td>55.000000</td>\n",
       "    </tr>\n",
       "  </tbody>\n",
       "</table>\n",
       "</div>"
      ],
      "text/plain": [
       "              Price        Month          Day  Departure Time Hr  \\\n",
       "count   1710.000000  1710.000000  1710.000000        1710.000000   \n",
       "mean    7596.524561     9.038012    18.323977          12.823977   \n",
       "std     3998.835514     2.799997     6.173260           5.121463   \n",
       "min     1552.000000     1.000000     1.000000           0.000000   \n",
       "25%     5066.250000    10.000000    15.000000           8.000000   \n",
       "50%     5955.000000    10.000000    19.000000          13.000000   \n",
       "75%     9840.000000    10.000000    22.000000          17.000000   \n",
       "max    32100.000000    12.000000    31.000000          23.000000   \n",
       "\n",
       "       Departure Time Min  Arrival Time Hr  Arrival Time Min  Duration Hr  \\\n",
       "count         1710.000000      1710.000000       1710.000000  1710.000000   \n",
       "mean            26.590643        15.046784         26.809357     9.228655   \n",
       "std             17.745576         5.648172         16.938049     7.284473   \n",
       "min              0.000000         0.000000          0.000000     1.000000   \n",
       "25%             10.000000        11.000000         10.000000     3.000000   \n",
       "50%             25.000000        15.000000         30.000000     7.000000   \n",
       "75%             45.000000        20.000000         40.000000    13.000000   \n",
       "max             55.000000        23.000000         59.000000    32.000000   \n",
       "\n",
       "       Duration Min  \n",
       "count   1710.000000  \n",
       "mean      26.183626  \n",
       "std       17.113539  \n",
       "min        0.000000  \n",
       "25%       10.000000  \n",
       "50%       25.000000  \n",
       "75%       40.000000  \n",
       "max       55.000000  "
      ]
     },
     "execution_count": 350,
     "metadata": {},
     "output_type": "execute_result"
    }
   ],
   "source": [
    "df.describe()"
   ]
  },
  {
   "cell_type": "code",
   "execution_count": 351,
   "metadata": {},
   "outputs": [
    {
     "data": {
      "text/plain": [
       "<matplotlib.axes._subplots.AxesSubplot at 0x221514174c8>"
      ]
     },
     "execution_count": 351,
     "metadata": {},
     "output_type": "execute_result"
    },
    {
     "data": {
      "image/png": "[encoded data removed]",
      "text/plain": [
       "<Figure size 576x432 with 2 Axes>"
      ]
     },
     "metadata": {
      "needs_background": "light"
     },
     "output_type": "display_data"
    }
   ],
   "source": [
    "plt.figure(figsize=(8,6))\n",
    "sns.heatmap(df.corr(),annot=True)"
   ]
  },
  {
   "cell_type": "code",
   "execution_count": 352,
   "metadata": {},
   "outputs": [
    {
     "data": {
      "text/plain": [
       "(1710, 13)"
      ]
     },
     "execution_count": 352,
     "metadata": {},
     "output_type": "execute_result"
    }
   ],
   "source": [
    "df.shape"
   ]
  },
  {
   "cell_type": "markdown",
   "metadata": {},
   "source": [
    "### Checking for outliers"
   ]
  },
  {
   "cell_type": "code",
   "execution_count": 353,
   "metadata": {},
   "outputs": [
    {
     "data": {
      "text/plain": [
       "<matplotlib.axes._subplots.AxesSubplot at 0x221515e2d48>"
      ]
     },
     "execution_count": 353,
     "metadata": {},
     "output_type": "execute_result"
    },
    {
     "data": {
      "image/png": "[encoded data removed]",
      "text/plain": [
       "<Figure size 1080x360 with 1 Axes>"
      ]
     },
     "metadata": {
      "needs_background": "light"
     },
     "output_type": "display_data"
    }
   ],
   "source": [
    "df.boxplot(figsize=[15,5])"
   ]
  },
  {
   "cell_type": "markdown",
   "metadata": {},
   "source": [
    "No outliers are present in the columns except the target column but we should not remove it from target column."
   ]
  },
  {
   "cell_type": "markdown",
   "metadata": {},
   "source": [
    "### Encoding of Categorical Columns"
   ]
  },
  {
   "cell_type": "code",
   "execution_count": 354,
   "metadata": {},
   "outputs": [
    {
     "data": {
      "text/plain": [
       "Airlines               object\n",
       "Source                 object\n",
       "Destination            object\n",
       "Total Stops            object\n",
       "Price                 float64\n",
       "Month                   int64\n",
       "Day                     int64\n",
       "Departure Time Hr       int32\n",
       "Departure Time Min      int32\n",
       "Arrival Time Hr         int32\n",
       "Arrival Time Min        int32\n",
       "Duration Hr             int32\n",
       "Duration Min            int32\n",
       "dtype: object"
      ]
     },
     "execution_count": 354,
     "metadata": {},
     "output_type": "execute_result"
    }
   ],
   "source": [
    "df.dtypes"
   ]
  },
  {
   "cell_type": "code",
   "execution_count": 355,
   "metadata": {},
   "outputs": [],
   "source": [
    "from sklearn.preprocessing import OrdinalEncoder\n",
    "oe=OrdinalEncoder()"
   ]
  },
  {
   "cell_type": "code",
   "execution_count": 356,
   "metadata": {},
   "outputs": [],
   "source": [
    "for i in df.columns:\n",
    "    if df[i].dtypes=='object':\n",
    "        df[i]=oe.fit_transform(df[i].values.reshape(-1,1)) "
   ]
  },
  {
   "cell_type": "code",
   "execution_count": 357,
   "metadata": {},
   "outputs": [
    {
     "data": {
      "text/html": [
       "<div>\n",
       "<style scoped>\n",
       "    .dataframe tbody tr th:only-of-type {\n",
       "        vertical-align: middle;\n",
       "    }\n",
       "\n",
       "    .dataframe tbody tr th {\n",
       "        vertical-align: top;\n",
       "    }\n",
       "\n",
       "    .dataframe thead th {\n",
       "        text-align: right;\n",
       "    }\n",
       "</style>\n",
       "<table border=\"1\" class=\"dataframe\">\n",
       "  <thead>\n",
       "    <tr style=\"text-align: right;\">\n",
       "      <th></th>\n",
       "      <th>Airlines</th>\n",
       "      <th>Source</th>\n",
       "      <th>Destination</th>\n",
       "      <th>Total Stops</th>\n",
       "      <th>Price</th>\n",
       "      <th>Month</th>\n",
       "      <th>Day</th>\n",
       "      <th>Departure Time Hr</th>\n",
       "      <th>Departure Time Min</th>\n",
       "      <th>Arrival Time Hr</th>\n",
       "      <th>Arrival Time Min</th>\n",
       "      <th>Duration Hr</th>\n",
       "      <th>Duration Min</th>\n",
       "    </tr>\n",
       "  </thead>\n",
       "  <tbody>\n",
       "    <tr>\n",
       "      <th>0</th>\n",
       "      <td>0.0</td>\n",
       "      <td>13.0</td>\n",
       "      <td>10.0</td>\n",
       "      <td>0.0</td>\n",
       "      <td>5953.0</td>\n",
       "      <td>10</td>\n",
       "      <td>17</td>\n",
       "      <td>5</td>\n",
       "      <td>20</td>\n",
       "      <td>11</td>\n",
       "      <td>20</td>\n",
       "      <td>6</td>\n",
       "      <td>0</td>\n",
       "    </tr>\n",
       "    <tr>\n",
       "      <th>1</th>\n",
       "      <td>2.0</td>\n",
       "      <td>13.0</td>\n",
       "      <td>10.0</td>\n",
       "      <td>4.0</td>\n",
       "      <td>5954.0</td>\n",
       "      <td>10</td>\n",
       "      <td>17</td>\n",
       "      <td>9</td>\n",
       "      <td>5</td>\n",
       "      <td>11</td>\n",
       "      <td>5</td>\n",
       "      <td>2</td>\n",
       "      <td>0</td>\n",
       "    </tr>\n",
       "    <tr>\n",
       "      <th>2</th>\n",
       "      <td>2.0</td>\n",
       "      <td>13.0</td>\n",
       "      <td>10.0</td>\n",
       "      <td>4.0</td>\n",
       "      <td>5954.0</td>\n",
       "      <td>10</td>\n",
       "      <td>17</td>\n",
       "      <td>6</td>\n",
       "      <td>15</td>\n",
       "      <td>8</td>\n",
       "      <td>20</td>\n",
       "      <td>2</td>\n",
       "      <td>5</td>\n",
       "    </tr>\n",
       "    <tr>\n",
       "      <th>3</th>\n",
       "      <td>2.0</td>\n",
       "      <td>13.0</td>\n",
       "      <td>10.0</td>\n",
       "      <td>0.0</td>\n",
       "      <td>5954.0</td>\n",
       "      <td>10</td>\n",
       "      <td>17</td>\n",
       "      <td>17</td>\n",
       "      <td>45</td>\n",
       "      <td>22</td>\n",
       "      <td>25</td>\n",
       "      <td>4</td>\n",
       "      <td>40</td>\n",
       "    </tr>\n",
       "    <tr>\n",
       "      <th>4</th>\n",
       "      <td>2.0</td>\n",
       "      <td>13.0</td>\n",
       "      <td>10.0</td>\n",
       "      <td>0.0</td>\n",
       "      <td>5954.0</td>\n",
       "      <td>10</td>\n",
       "      <td>17</td>\n",
       "      <td>16</td>\n",
       "      <td>10</td>\n",
       "      <td>21</td>\n",
       "      <td>5</td>\n",
       "      <td>4</td>\n",
       "      <td>55</td>\n",
       "    </tr>\n",
       "  </tbody>\n",
       "</table>\n",
       "</div>"
      ],
      "text/plain": [
       "   Airlines  Source  Destination  Total Stops   Price  Month  Day  \\\n",
       "0       0.0    13.0         10.0          0.0  5953.0     10   17   \n",
       "1       2.0    13.0         10.0          4.0  5954.0     10   17   \n",
       "2       2.0    13.0         10.0          4.0  5954.0     10   17   \n",
       "3       2.0    13.0         10.0          0.0  5954.0     10   17   \n",
       "4       2.0    13.0         10.0          0.0  5954.0     10   17   \n",
       "\n",
       "   Departure Time Hr  Departure Time Min  Arrival Time Hr  Arrival Time Min  \\\n",
       "0                  5                  20               11                20   \n",
       "1                  9                   5               11                 5   \n",
       "2                  6                  15                8                20   \n",
       "3                 17                  45               22                25   \n",
       "4                 16                  10               21                 5   \n",
       "\n",
       "   Duration Hr  Duration Min  \n",
       "0            6             0  \n",
       "1            2             0  \n",
       "2            2             5  \n",
       "3            4            40  \n",
       "4            4            55  "
      ]
     },
     "execution_count": 357,
     "metadata": {},
     "output_type": "execute_result"
    }
   ],
   "source": [
    "df.head()"
   ]
  },
  {
   "cell_type": "code",
   "execution_count": 358,
   "metadata": {},
   "outputs": [
    {
     "data": {
      "text/plain": [
       "False    1686\n",
       "True       24\n",
       "dtype: int64"
      ]
     },
     "execution_count": 358,
     "metadata": {},
     "output_type": "execute_result"
    }
   ],
   "source": [
    "df.duplicated().value_counts()"
   ]
  },
  {
   "cell_type": "markdown",
   "metadata": {},
   "source": [
    "There are 24 rows are duplicate. so, we can remove those duplicated rows."
   ]
  },
  {
   "cell_type": "code",
   "execution_count": 359,
   "metadata": {},
   "outputs": [
    {
     "data": {
      "text/plain": [
       "(1686, 13)"
      ]
     },
     "execution_count": 359,
     "metadata": {},
     "output_type": "execute_result"
    }
   ],
   "source": [
    "df.drop_duplicates(inplace=True)\n",
    "df.shape"
   ]
  },
  {
   "cell_type": "markdown",
   "metadata": {},
   "source": [
    "### Spliting of the data"
   ]
  },
  {
   "cell_type": "code",
   "execution_count": 360,
   "metadata": {},
   "outputs": [],
   "source": [
    "x=df.drop('Price',axis=1)\n",
    "y=df['Price']"
   ]
  },
  {
   "cell_type": "code",
   "execution_count": 361,
   "metadata": {},
   "outputs": [
    {
     "data": {
      "text/plain": [
       "(1686, 12)"
      ]
     },
     "execution_count": 361,
     "metadata": {},
     "output_type": "execute_result"
    }
   ],
   "source": [
    "x.shape"
   ]
  },
  {
   "cell_type": "markdown",
   "metadata": {},
   "source": [
    "### Scaling of the data"
   ]
  },
  {
   "cell_type": "code",
   "execution_count": 362,
   "metadata": {},
   "outputs": [],
   "source": [
    "from sklearn.preprocessing import StandardScaler\n",
    "sc=StandardScaler()"
   ]
  },
  {
   "cell_type": "code",
   "execution_count": 363,
   "metadata": {},
   "outputs": [],
   "source": [
    "sc_x=sc.fit_transform(x)"
   ]
  },
  {
   "cell_type": "markdown",
   "metadata": {},
   "source": [
    "### Finding the best random state"
   ]
  },
  {
   "cell_type": "code",
   "execution_count": 380,
   "metadata": {},
   "outputs": [
    {
     "name": "stdout",
     "output_type": "stream",
     "text": [
      "best r2_sc is: 0.7575548015642087  at random state 14\n"
     ]
    }
   ],
   "source": [
    "maxacc=0\n",
    "maxrs=0\n",
    "\n",
    "for i in range(0,250):\n",
    "    x_train,x_test,y_train,y_test=train_test_split(sc_x,y,test_size=.20,random_state=i)\n",
    "    dtr=DecisionTreeRegressor()\n",
    "    dtr.fit(x_train,y_train)\n",
    "    pred=dtr.predict(x_test)\n",
    "    r2_sc=r2_score(y_test,pred)\n",
    "    if r2_sc>maxacc:\n",
    "        maxacc=r2_sc\n",
    "        maxrs=i\n",
    "print('best r2_sc is:',maxacc,' at random state', maxrs)"
   ]
  },
  {
   "cell_type": "code",
   "execution_count": 407,
   "metadata": {},
   "outputs": [],
   "source": [
    "x_train,x_test,y_train,y_test=train_test_split(sc_x,y,test_size=.20,random_state=0)"
   ]
  },
  {
   "cell_type": "code",
   "execution_count": 382,
   "metadata": {},
   "outputs": [
    {
     "name": "stdout",
     "output_type": "stream",
     "text": [
      "(1348, 12) (338, 12) (1348,) (338,)\n"
     ]
    }
   ],
   "source": [
    "print(x_train.shape,x_test.shape,y_train.shape,y_test.shape)"
   ]
  },
  {
   "cell_type": "markdown",
   "metadata": {},
   "source": [
    "### Model Training"
   ]
  },
  {
   "cell_type": "code",
   "execution_count": 390,
   "metadata": {},
   "outputs": [],
   "source": [
    "lr=LinearRegression()\n",
    "rfr=RandomForestRegressor()\n",
    "dtr=DecisionTreeRegressor()\n",
    "knr=KNeighborsRegressor()\n",
    "adr=AdaBoostRegressor()\n",
    "xgr=XGBRegressor()"
   ]
  },
  {
   "cell_type": "code",
   "execution_count": 409,
   "metadata": {},
   "outputs": [],
   "source": [
    "cv1 = KFold(n_splits=10, shuffle=True)"
   ]
  },
  {
   "cell_type": "code",
   "execution_count": 410,
   "metadata": {},
   "outputs": [
    {
     "name": "stdout",
     "output_type": "stream",
     "text": [
      "model: LinearRegression()\n",
      "0.23599964607488788\n",
      "3249.65938087709\n",
      "0.23950102042537041\n",
      "\n",
      "\n",
      "model: RandomForestRegressor()\n",
      "0.7787346042353743\n",
      "1748.8308731284624\n",
      "0.7485109484055417\n",
      "\n",
      "\n",
      "model: DecisionTreeRegressor()\n",
      "0.7462879230169588\n",
      "1872.6716351924697\n",
      "0.5676708296492554\n",
      "\n",
      "\n",
      "model: KNeighborsRegressor()\n",
      "0.36046788403694685\n",
      "2973.1871111434984\n",
      "0.4857554047329205\n",
      "\n",
      "\n",
      "model: AdaBoostRegressor()\n",
      "0.18753429692482426\n",
      "3351.147785230438\n",
      "0.2760538093214101\n",
      "\n",
      "\n",
      "model: XGBRegressor(base_score=0.5, booster='gbtree', colsample_bylevel=1,\n",
      "             colsample_bynode=1, colsample_bytree=1, gamma=0, gpu_id=-1,\n",
      "             importance_type='gain', interaction_constraints='',\n",
      "             learning_rate=0.300000012, max_delta_step=0, max_depth=6,\n",
      "             min_child_weight=1, missing=nan, monotone_constraints='()',\n",
      "             n_estimators=100, n_jobs=8, num_parallel_tree=1, random_state=0,\n",
      "             reg_alpha=0, reg_lambda=1, scale_pos_weight=1, subsample=1,\n",
      "             tree_method='exact', validate_parameters=1, verbosity=None)\n",
      "0.7421653912396902\n",
      "1887.8247168793898\n",
      "0.7308692963250271\n",
      "\n",
      "\n"
     ]
    }
   ],
   "source": [
    "model=[lr,rfr,dtr,knr,adr,xgr]\n",
    "\n",
    "for i in model:\n",
    "    print('model:',i)\n",
    "    i.fit(x_train,y_train)\n",
    "    pred=i.predict(x_test)\n",
    "    print(r2_score(y_test,pred))\n",
    "    print(np.sqrt(mean_squared_error(y_test,pred)))\n",
    "    crs=cross_val_score(i,sc_x,y,cv=cv1)\n",
    "    print(crs.mean())\n",
    "    print('\\n')"
   ]
  },
  {
   "cell_type": "markdown",
   "metadata": {},
   "source": [
    "On the basis of r2_score and cv_score we select only two model for hyperparameter RandomForestRegressor and XBGRegressor."
   ]
  },
  {
   "cell_type": "markdown",
   "metadata": {},
   "source": [
    "### Hyperparameter Tuning using GridSearchCV"
   ]
  },
  {
   "cell_type": "code",
   "execution_count": 438,
   "metadata": {},
   "outputs": [
    {
     "data": {
      "text/plain": [
       "GridSearchCV(cv=KFold(n_splits=10, random_state=None, shuffle=True),\n",
       "             estimator=RandomForestRegressor(),\n",
       "             param_grid={'max_depth': array([ 5,  6,  7,  8,  9, 10, 11, 12, 13, 14, 15]),\n",
       "                         'max_features': ['auto', 'sqrt', 'log2'],\n",
       "                         'n_estimators': (30, 50, 100, 120, 150)})"
      ]
     },
     "execution_count": 438,
     "metadata": {},
     "output_type": "execute_result"
    }
   ],
   "source": [
    "# random forest regressor\n",
    "\n",
    "par={'n_estimators':(30,50,100,120,150),'max_depth':np.arange(5,16),'max_features':['auto','sqrt','log2']}\n",
    "\n",
    "gcv=GridSearchCV(rfr,par,cv=cv1)\n",
    "gcv.fit(x_train,y_train)"
   ]
  },
  {
   "cell_type": "code",
   "execution_count": 439,
   "metadata": {},
   "outputs": [
    {
     "data": {
      "text/plain": [
       "{'max_depth': 15, 'max_features': 'sqrt', 'n_estimators': 150}"
      ]
     },
     "execution_count": 439,
     "metadata": {},
     "output_type": "execute_result"
    }
   ],
   "source": [
    "gcv.best_params_"
   ]
  },
  {
   "cell_type": "code",
   "execution_count": 482,
   "metadata": {},
   "outputs": [
    {
     "name": "stdout",
     "output_type": "stream",
     "text": [
      "0.7681709283346609\n",
      "1790.0905922840877\n",
      "0.750399903014638\n"
     ]
    }
   ],
   "source": [
    "rf=RandomForestRegressor(n_estimators=200,max_depth=19,max_features='auto')\n",
    "rf.fit(x_train,y_train)\n",
    "predrf=rf.predict(x_test)\n",
    "print(r2_score(y_test,predrf))\n",
    "print(np.sqrt(mean_squared_error(y_test,predrf)))\n",
    "crs=cross_val_score(rfr,sc_x,y,cv=cv1)\n",
    "print(crs.mean())"
   ]
  },
  {
   "cell_type": "code",
   "execution_count": 420,
   "metadata": {},
   "outputs": [
    {
     "data": {
      "text/plain": [
       "GridSearchCV(cv=KFold(n_splits=10, random_state=None, shuffle=True),\n",
       "             estimator=XGBRegressor(base_score=0.5, booster='gbtree',\n",
       "                                    colsample_bylevel=1, colsample_bynode=1,\n",
       "                                    colsample_bytree=1, gamma=0, gpu_id=-1,\n",
       "                                    importance_type='gain',\n",
       "                                    interaction_constraints='',\n",
       "                                    learning_rate=0.300000012, max_delta_step=0,\n",
       "                                    max_depth=6, min_child_weight=1,\n",
       "                                    missing=nan, monotone_constraints='()',\n",
       "                                    n_estimators=100, n_jobs=8,\n",
       "                                    num_parallel_tree=1, random_state=0,\n",
       "                                    reg_alpha=0, reg_lambda=1,\n",
       "                                    scale_pos_weight=1, subsample=1,\n",
       "                                    tree_method='exact', validate_parameters=1,\n",
       "                                    verbosity=None),\n",
       "             param_grid={'eta': [0.001, 0.01, 0.1, 0.2],\n",
       "                         'max_depth': range(1, 10),\n",
       "                         'n_estimators': [30, 50, 100, 120, 150, 180]})"
      ]
     },
     "execution_count": 420,
     "metadata": {},
     "output_type": "execute_result"
    }
   ],
   "source": [
    "# xgb regressor\n",
    "\n",
    "par={'n_estimators':[30,50,100,120,150,180],'max_depth':range(1,10),'eta':[0.001,0.01,0.1,0.2]}\n",
    "gcv=GridSearchCV(xgr,par,cv=cv1)\n",
    "gcv.fit(x_train,y_train)"
   ]
  },
  {
   "cell_type": "code",
   "execution_count": 421,
   "metadata": {},
   "outputs": [
    {
     "data": {
      "text/plain": [
       "{'eta': 0.001, 'max_depth': 6, 'n_estimators': 30}"
      ]
     },
     "execution_count": 421,
     "metadata": {},
     "output_type": "execute_result"
    }
   ],
   "source": [
    "gcv.best_params_"
   ]
  },
  {
   "cell_type": "code",
   "execution_count": 476,
   "metadata": {},
   "outputs": [
    {
     "name": "stdout",
     "output_type": "stream",
     "text": [
      "0.7707377614115021\n",
      "1780.1529832907875\n",
      "0.7553782754807875\n"
     ]
    }
   ],
   "source": [
    "xg=XGBRegressor(n_estimators=150,max_depth=6,eta=0.14)\n",
    "xg.fit(x_train,y_train)\n",
    "predxg=xg.predict(x_test)\n",
    "print(r2_score(y_test,predxg))\n",
    "print(np.sqrt(mean_squared_error(y_test,predxg)))\n",
    "crs=cross_val_score(xgr,sc_x,y,cv=cv1)\n",
    "print(crs.mean())"
   ]
  },
  {
   "cell_type": "markdown",
   "metadata": {},
   "source": [
    "After hyperparameter tuning we can see that xgbregressor have highest r2_score and least RMSE value.So, it will be our final model."
   ]
  },
  {
   "cell_type": "markdown",
   "metadata": {},
   "source": [
    "### Saving our Final Model"
   ]
  },
  {
   "cell_type": "code",
   "execution_count": 483,
   "metadata": {},
   "outputs": [],
   "source": [
    "import joblib"
   ]
  },
  {
   "cell_type": "code",
   "execution_count": 484,
   "metadata": {},
   "outputs": [
    {
     "data": {
      "text/plain": [
       "['flight_price_xgbr.obj']"
      ]
     },
     "execution_count": 484,
     "metadata": {},
     "output_type": "execute_result"
    }
   ],
   "source": [
    "joblib.dump(xg,'flight_price_xgbr.obj')"
   ]
  },
  {
   "cell_type": "code",
   "execution_count": null,
   "metadata": {},
   "outputs": [],
   "source": []
  }
 ],
 "metadata": {
  "kernelspec": {
   "display_name": "Python 3",
   "language": "python",
   "name": "python3"
  },
  "language_info": {
   "codemirror_mode": {
    "name": "ipython",
    "version": 3
   },
   "file_extension": ".py",
   "mimetype": "text/x-python",
   "name": "python",
   "nbconvert_exporter": "python",
   "pygments_lexer": "ipython3",
   "version": "3.7.6"
  }
 },
 "nbformat": 4,
 "nbformat_minor": 4
}
